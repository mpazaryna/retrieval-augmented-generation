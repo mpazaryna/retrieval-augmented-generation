{
 "cells": [
  {
   "cell_type": "code",
   "execution_count": 31,
   "id": "73a27e1e",
   "metadata": {},
   "outputs": [
    {
     "data": {
      "text/plain": [
       "False"
      ]
     },
     "execution_count": 31,
     "metadata": {},
     "output_type": "execute_result"
    }
   ],
   "source": [
    "import os\n",
    "import dotenv\n",
    "\n",
    "dotenv_path = dotenv.find_dotenv()\n",
    "dotenv.load_dotenv(dotenv_path)"
   ]
  },
  {
   "cell_type": "code",
   "execution_count": 32,
   "id": "153047ba",
   "metadata": {},
   "outputs": [],
   "source": [
    "from langchain.vectorstores import Chroma\n",
    "from langchain_openai import OpenAIEmbeddings\n",
    "from langchain.text_splitter import RecursiveCharacterTextSplitter\n",
    "from langchain_openai import OpenAI\n",
    "from langchain.chains import RetrievalQA\n",
    "from langchain.document_loaders import TextLoader\n",
    "from langchain.document_loaders import DirectoryLoader"
   ]
  },
  {
   "cell_type": "code",
   "execution_count": 33,
   "id": "ffc9b4f4-64d4-4266-9889-54db90e00ee9",
   "metadata": {
    "height": 64,
    "tags": []
   },
   "outputs": [],
   "source": [
    "# this is required since Juypyter notebook is not async by default.\n",
    "import nest_asyncio\n",
    "nest_asyncio.apply()"
   ]
  },
  {
   "cell_type": "markdown",
   "id": "49fca250",
   "metadata": {},
   "source": [
    "## Load data"
   ]
  },
  {
   "cell_type": "code",
   "execution_count": 34,
   "id": "ac46a72c",
   "metadata": {},
   "outputs": [],
   "source": [
    "docs=\"/teamspace/studios/this_studio/retrieval-augmented-generation/data/\"\n",
    "loader = DirectoryLoader(docs, glob=\"./*.txt\", loader_cls=TextLoader)\n",
    "documents = loader.load()"
   ]
  },
  {
   "cell_type": "markdown",
   "id": "6b48a301",
   "metadata": {},
   "source": [
    "## Split document into nodes"
   ]
  },
  {
   "cell_type": "code",
   "execution_count": 35,
   "id": "8a537bc0-78ee-4dda-a43f-60fd80062df6",
   "metadata": {
    "height": 81,
    "tags": []
   },
   "outputs": [],
   "source": [
    "text_splitter = RecursiveCharacterTextSplitter(chunk_size=1000, chunk_overlap=200)\n",
    "texts = text_splitter.split_documents(documents)"
   ]
  },
  {
   "cell_type": "code",
   "execution_count": 36,
   "id": "934b4203",
   "metadata": {},
   "outputs": [
    {
     "data": {
      "text/plain": [
       "83"
      ]
     },
     "execution_count": 36,
     "metadata": {},
     "output_type": "execute_result"
    }
   ],
   "source": [
    "len(texts)"
   ]
  },
  {
   "cell_type": "code",
   "execution_count": 37,
   "id": "223e2d4c",
   "metadata": {},
   "outputs": [
    {
     "data": {
      "text/plain": [
       "Document(page_content=\"get to the next round of funding Beyond just that product Market fit so product Market fit is just one step just one\\nstep along the way so the the challenge is something we call the The Product Company Gap and I\\nfigured I'd you know since I I actually started a company I figured I'd tell you about a company that actually failed to get across that Gap um and that might be\\nuseful I started a company called padient um it was a mobile payments company QR code payments before it was\\nhappening in China and Korea like we actually had to write we had to code our own QR Code Reader we hired a satellite\\nimagery engineer to build our own QR Reader from scratch the idea was hey we\\ncould use QR codes instead of credit cards to pay for stuff um we knew like we had we started\\ncompanies before and we knew that it was going to be hard to build a company a direct a consumer company how are you\", metadata={'source': '/teamspace/studios/this_studio/retrieval-augmented-generation/data/part1.txt'})"
      ]
     },
     "execution_count": 37,
     "metadata": {},
     "output_type": "execute_result"
    }
   ],
   "source": [
    "texts[3]"
   ]
  },
  {
   "cell_type": "code",
   "execution_count": 39,
   "id": "db191098",
   "metadata": {},
   "outputs": [],
   "source": [
    "# Embed and store the texts\n",
    "# Supplying a persist_directory will store the embeddings on disk\n",
    "persist_directory = 'db1'\n",
    "\n",
    "## here we are using OpenAI embeddings but in future we will swap out to local embeddings\n",
    "embedding = OpenAIEmbeddings()\n",
    "\n",
    "vectordb = Chroma.from_documents(documents=texts, \n",
    "                                 embedding=embedding,\n",
    "                                 persist_directory=persist_directory)"
   ]
  },
  {
   "cell_type": "code",
   "execution_count": 40,
   "id": "e4398977",
   "metadata": {},
   "outputs": [],
   "source": [
    "# persiste the db to disk\n",
    "vectordb.persist()\n",
    "vectordb = None"
   ]
  },
  {
   "cell_type": "code",
   "execution_count": 41,
   "id": "67b8b503",
   "metadata": {},
   "outputs": [],
   "source": [
    "# Now we can load the persisted database from disk, and use it as normal. \n",
    "vectordb = Chroma(persist_directory=persist_directory, \n",
    "                  embedding_function=embedding)"
   ]
  },
  {
   "cell_type": "code",
   "execution_count": 42,
   "id": "20c2abd4",
   "metadata": {},
   "outputs": [],
   "source": [
    "retriever = vectordb.as_retriever()"
   ]
  },
  {
   "cell_type": "code",
   "execution_count": 43,
   "id": "919454ec",
   "metadata": {},
   "outputs": [],
   "source": [
    "# docs = retriever.get_relevant_documents(\"What is Product Company Gap?\")\n",
    "docs = retriever.invoke(\"What is Product Company Gap?\")\n"
   ]
  },
  {
   "cell_type": "code",
   "execution_count": 44,
   "id": "d43d34d8",
   "metadata": {},
   "outputs": [
    {
     "data": {
      "text/plain": [
       "4"
      ]
     },
     "execution_count": 44,
     "metadata": {},
     "output_type": "execute_result"
    }
   ],
   "source": [
    "len(docs)"
   ]
  },
  {
   "cell_type": "code",
   "execution_count": 45,
   "id": "2dd091d6",
   "metadata": {},
   "outputs": [],
   "source": [
    "# create the chain to answer questions \n",
    "qa_chain = RetrievalQA.from_chain_type(llm=OpenAI(), \n",
    "                                  chain_type=\"stuff\", \n",
    "                                  retriever=retriever, \n",
    "                                  return_source_documents=True)"
   ]
  },
  {
   "cell_type": "code",
   "execution_count": 46,
   "id": "a3def528",
   "metadata": {},
   "outputs": [],
   "source": [
    "## Cite sources\n",
    "def process_llm_response(llm_response):\n",
    "    print(llm_response['result'])\n",
    "    print('\\n\\nSources:')\n",
    "    for source in llm_response[\"source_documents\"]:\n",
    "        print(source.metadata['source'])"
   ]
  },
  {
   "cell_type": "code",
   "execution_count": 47,
   "id": "60637ba7",
   "metadata": {},
   "outputs": [
    {
     "name": "stdout",
     "output_type": "stream",
     "text": [
      " The Product Company Gap is a term used to describe the challenges and obstacles that a company must overcome in order to successfully bring a product to market and achieve significant growth and success. This includes considerations such as product-market fit, go-to-market strategies, pricing, and overall business model. \n",
      "\n",
      "\n",
      "Sources:\n",
      "/teamspace/studios/this_studio/retrieval-augmented-generation/data/part1.txt\n",
      "/teamspace/studios/this_studio/retrieval-augmented-generation/data/part1.txt\n",
      "/teamspace/studios/this_studio/retrieval-augmented-generation/data/part1.txt\n",
      "/teamspace/studios/this_studio/retrieval-augmented-generation/data/part2.txt\n"
     ]
    }
   ],
   "source": [
    "# full example\n",
    "query = \"What is Product Company Gap?\"\n",
    "llm_response = qa_chain.invoke(query)\n",
    "process_llm_response(llm_response)"
   ]
  },
  {
   "cell_type": "markdown",
   "id": "c8972f06",
   "metadata": {},
   "source": [
    "# Caution\n",
    "\n",
    "On lightning.ai, deleting the database seems to cause an issue."
   ]
  },
  {
   "cell_type": "code",
   "execution_count": null,
   "id": "bf4cf0ef",
   "metadata": {},
   "outputs": [],
   "source": [
    "# To cleanup, you can delete the collection\n",
    "\n",
    "# vectordb.delete_collection()\n",
    "# vectordb.persist()\n",
    "# delete the directory\n",
    "# !rm -rf db/"
   ]
  }
 ],
 "metadata": {
  "kernelspec": {
   "display_name": "Python 3 (ipykernel)",
   "language": "python",
   "name": "python3"
  },
  "language_info": {
   "codemirror_mode": {
    "name": "ipython",
    "version": 3
   },
   "file_extension": ".py",
   "mimetype": "text/x-python",
   "name": "python",
   "nbconvert_exporter": "python",
   "pygments_lexer": "ipython3",
   "version": "3.10.13"
  }
 },
 "nbformat": 4,
 "nbformat_minor": 5
}
