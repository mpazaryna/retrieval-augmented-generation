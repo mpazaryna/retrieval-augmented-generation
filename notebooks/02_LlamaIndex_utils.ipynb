{
 "cells": [
  {
   "cell_type": "code",
   "execution_count": 1,
   "id": "73a27e1e",
   "metadata": {},
   "outputs": [
    {
     "data": {
      "text/plain": [
       "False"
      ]
     },
     "execution_count": 1,
     "metadata": {},
     "output_type": "execute_result"
    }
   ],
   "source": [
    "import os\n",
    "import dotenv\n",
    "\n",
    "dotenv_path = dotenv.find_dotenv()\n",
    "dotenv.load_dotenv(dotenv_path)\n"
   ]
  },
  {
   "cell_type": "code",
   "execution_count": 2,
   "id": "ffc9b4f4-64d4-4266-9889-54db90e00ee9",
   "metadata": {
    "height": 64,
    "tags": []
   },
   "outputs": [],
   "source": [
    "# this is required since Juypyter notebook is not async by default.\n",
    "import nest_asyncio\n",
    "nest_asyncio.apply()"
   ]
  },
  {
   "cell_type": "code",
   "execution_count": 9,
   "id": "d8f92e0b-1c54-489b-b8dd-41ebaafb380a",
   "metadata": {
    "height": 64
   },
   "outputs": [],
   "source": [
    "from llama_utils import get_router_query_engine\n",
    "\n",
    "lightning_ai=\"/teamspace/studios/this_studio/retrieval-augmented-generation/data/transcript.pdf\"\n",
    "github_codespace=\"./data/transcript.pdf\"\n",
    "docs = lightning_ai\n",
    "\n",
    "query_engine = get_router_query_engine(docs)"
   ]
  },
  {
   "cell_type": "code",
   "execution_count": 4,
   "id": "ec1a43f3-77dc-472a-8adc-56551c00a0ff",
   "metadata": {
    "height": 47,
    "tags": []
   },
   "outputs": [
    {
     "name": "stdout",
     "output_type": "stream",
     "text": [
      "\u001b[1;3;38;5;200mSelecting query engine 0: Useful for summarization questions related to MetaGPT.\n",
      "\u001b[0mThe main point of the document is to discuss the importance of bridging the Product Company Gap, which involves transitioning from having a product idea to building a successful company. It emphasizes the need to focus on factors like simplicity in product design, providing instant and ongoing value to customers, playing well in the ecosystem through partnerships, and implementing effective pricing strategies to drive business growth. The document also highlights the significance of understanding the minimum viable segment, creating value propositions, and leveraging partnerships to accelerate business success.\n"
     ]
    }
   ],
   "source": [
    "response = query_engine.query(\"Please summarize the main point of the document.\")\n",
    "print(str(response))"
   ]
  },
  {
   "cell_type": "code",
   "execution_count": 5,
   "id": "606bd0e6",
   "metadata": {},
   "outputs": [
    {
     "name": "stdout",
     "output_type": "stream",
     "text": [
      "\u001b[1;3;38;5;200mSelecting query engine 1: This choice is more relevant as it focuses on retrieving specific context from the MetaGPT paper, which is likely to help in summarizing the secondary point of the document..\n",
      "\u001b[0mThe secondary point of the document emphasizes the importance of simplicity and focusing on solving basic problems in product design. It suggests keeping products simple, targeting minimum viable segments, and addressing one to three critical problems effectively for the identified user group.\n"
     ]
    }
   ],
   "source": [
    "response = query_engine.query(\"Please summarize the secondary point of the document.\")\n",
    "print(str(response))"
   ]
  },
  {
   "cell_type": "code",
   "execution_count": 6,
   "id": "81740599",
   "metadata": {},
   "outputs": [
    {
     "name": "stdout",
     "output_type": "stream",
     "text": [
      "\u001b[1;3;38;5;200mSelecting query engine 0: Useful for summarization questions related to MetaGPT.\n",
      "\u001b[0mProduct-led growth is a strategy where the product itself drives user acquisition, retention, and expansion. It involves offering a product that is easy to install, provides instant and ongoing value, and plays well within the ecosystem. This approach focuses on creating a product that users can quickly adopt, find value in, and continue to use, leading to organic growth and customer satisfaction.\n"
     ]
    }
   ],
   "source": [
    "response = query_engine.query(\"Please summarize product led growth.\")\n",
    "print(str(response))"
   ]
  },
  {
   "cell_type": "code",
   "execution_count": 7,
   "id": "37d8cfe7",
   "metadata": {},
   "outputs": [
    {
     "name": "stdout",
     "output_type": "stream",
     "text": [
      "\u001b[1;3;38;5;200mSelecting query engine 1: The paper provides specific context from the MetaGPT paper, which may include coding examples..\n",
      "\u001b[0mThe paper does not provide specific coding examples.\n"
     ]
    }
   ],
   "source": [
    "response = query_engine.query(\"Does the paper provide specific coding example?\")\n",
    "print(str(response))"
   ]
  }
 ],
 "metadata": {
  "kernelspec": {
   "display_name": "Python 3 (ipykernel)",
   "language": "python",
   "name": "python3"
  },
  "language_info": {
   "codemirror_mode": {
    "name": "ipython",
    "version": 3
   },
   "file_extension": ".py",
   "mimetype": "text/x-python",
   "name": "python",
   "nbconvert_exporter": "python",
   "pygments_lexer": "ipython3",
   "version": "3.10.13"
  }
 },
 "nbformat": 4,
 "nbformat_minor": 5
}
