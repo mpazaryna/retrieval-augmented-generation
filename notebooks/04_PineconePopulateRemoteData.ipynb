{
 "cells": [
  {
   "cell_type": "code",
   "execution_count": 2,
   "id": "10febb02",
   "metadata": {},
   "outputs": [],
   "source": [
    "# Start Here - New Code\n",
    "\n",
    "Use this url: https://docs.pinecone.io/guides/get-started/build-a-rag-chatbot"
   ]
  },
  {
   "cell_type": "code",
   "execution_count": 21,
   "id": "cce99452",
   "metadata": {},
   "outputs": [],
   "source": [
    "from langchain.text_splitter import CharacterTextSplitter\n",
    "from langchain.text_splitter import RecursiveCharacterTextSplitter\n",
    "from langchain.docstore.document import Document\n",
    "from langchain.document_loaders import UnstructuredURLLoader\n",
    "from langchain.chains.qa_with_sources import load_qa_with_sources_chain\n",
    "from langchain.vectorstores.pinecone import Pinecone\n",
    "from langchain.chains import RetrievalQA\n",
    "from langchain import OpenAI\n",
    "from langchain_openai import ChatOpenAI\n",
    "from cleantext import clean\n",
    "import os\n",
    "import nltk\n",
    "import pinecone\n",
    "import openai"
   ]
  },
  {
   "cell_type": "code",
   "execution_count": 22,
   "id": "e03d9404",
   "metadata": {},
   "outputs": [
    {
     "name": "stdout",
     "output_type": "stream",
     "text": [
      "Enter your links below: \n"
     ]
    }
   ],
   "source": [
    "urls = []\n",
    "n_weblinks = int(input(\"How many web links you want the RAG agent to refer for response generation & insights? Enter here: \"))\n",
    "print(\"Enter your links below: \")\n",
    "for i in range(0, n_weblinks):\n",
    "  inp = input()\n",
    "  # appending the element in list\n",
    "  urls.append(inp)"
   ]
  },
  {
   "cell_type": "code",
   "execution_count": 23,
   "id": "ece1c1b3",
   "metadata": {},
   "outputs": [],
   "source": [
    "loader = UnstructuredURLLoader(urls=urls)\n",
    "urls = loader.load()"
   ]
  },
  {
   "cell_type": "code",
   "execution_count": 24,
   "id": "3d852f8e",
   "metadata": {},
   "outputs": [],
   "source": [
    "# Merging urls into a single list\n",
    "documents = []\n",
    "documents.extend(urls)"
   ]
  },
  {
   "cell_type": "code",
   "execution_count": 25,
   "id": "aecd80a7",
   "metadata": {},
   "outputs": [
    {
     "data": {
      "text/plain": [
       "[Document(page_content='Pinecone Docs home page\\n\\nSign up free\\n\\nStatus\\n\\nSupport\\n\\nLog In\\n\\nSign up free\\n\\nSearch\\n\\nNavigation\\n\\nGet started\\n\\nBuild a RAG chatbot\\n\\nHome\\n\\nGuides\\n\\nReference\\n\\nExamples\\n\\nIntegrations\\n\\nTools\\n\\nTroubleshooting\\n\\nReleases\\n\\nGet started\\n\\nQuickstart\\n\\nBuild a RAG chatbot\\n\\nAuthentication\\n\\nExamples\\n\\nOrganizations\\n\\nUnderstanding organizations\\n\\nManage billing\\n\\nManage cost\\n\\nConfigure single sign-on\\n\\nManage organization members\\n\\nProjects\\n\\nUnderstanding projects\\n\\nCreate a project\\n\\nManage project members', metadata={'source': 'https://docs.pinecone.io/guides/get-started/build-a-rag-chatbot'}),\n",
       " Document(page_content='Rename a project\\n\\nSet a project pod limit\\n\\nIndexes\\n\\nUnderstanding indexes\\n\\nCreate an index\\n\\nMigrate a pod-based index to serverless\\n\\nView index information\\n\\nBack up an index\\n\\nDelete an index\\n\\nUse namespaces\\n\\nImplement multitenancy\\n\\nChoose a pod type and size\\n\\nConfigure pod-based indexes\\n\\nScale pod-based indexes\\n\\nUnderstanding collections\\n\\nData\\n\\nUpsert data\\n\\nQuery data\\n\\nFetch data\\n\\nUpdate data\\n\\nDelete data\\n\\nList record IDs\\n\\nGet an index endpoint\\n\\nFilter with metadata\\n\\nManage RAG documents', metadata={'source': 'https://docs.pinecone.io/guides/get-started/build-a-rag-chatbot'}),\n",
       " Document(page_content='Hybrid search and sparse vectors\\n\\nManage datasets\\n\\nOperations\\n\\nMigrate to the new API\\n\\nMove to production\\n\\nPerformance tuning\\n\\nEnable AWS PrivateLink\\n\\nMonitoring\\n\\nGet started\\n\\nBuild a RAG chatbot\\n\\nThis page shows you how to build a simple RAG chatbot in Python using Pinecone for the vector database, OpenAI for the embedding model and LLM, and LangChain for the RAG workflow.\\n\\nTo run through this guide in your browser, use the “Build a RAG chatbot” colab notebook.\\n\\n\\u200bHow it works', metadata={'source': 'https://docs.pinecone.io/guides/get-started/build-a-rag-chatbot'}),\n",
       " Document(page_content='\\u200bHow it works\\n\\nGenAI chatbots built on Large Language Models (LLMs) can answer many questions. However, when the questions concern private data that the LLMs have not been trained on, you can get answers that sound convincing but are factually wrong. This behavior is referred to as “hallucination”.', metadata={'source': 'https://docs.pinecone.io/guides/get-started/build-a-rag-chatbot'}),\n",
       " Document(page_content='Retrieval augmented generation (RAG) is a framework that prevents hallucination by providing LLMs the knowledge that they are missing, based on private data stored in a vector database like Pinecone.\\n\\n\\u200bBefore you begin\\n\\nEnsure you have the following:\\n\\nA Pinecone account and API key.\\n\\nAn OpenAI account and API key.\\n\\n\\u200b1. Set up your environment', metadata={'source': 'https://docs.pinecone.io/guides/get-started/build-a-rag-chatbot'}),\n",
       " Document(page_content='Install the LangChain libraries required for this notebook:\\npip install \\\\\\n    langchain-pinecone \\\\\\n    langchain-openai \\\\\\n    langchain-text-splitters \\\\\\n    langchain\\n\\nSet environment variables for your Pinecone and OpenAI API keys:\\nexport PINECONE_API_KEY=\"<your Pinecone API key>\" # available at app.pinecone.io\\nexport OPENAI_API_KEY=\"<your OpenAI API key>\" # available at platform.openai.com/api-keys\\n\\n\\u200b2. Store knowledge in Pinecone', metadata={'source': 'https://docs.pinecone.io/guides/get-started/build-a-rag-chatbot'}),\n",
       " Document(page_content='For this guide, you’ll use a document about a fictional product called the WonderVector5000 that LLMs do not have any information about. You’ll use LangChain to chunk the document into smaller segments, convert each segment into vectors using OpenAI, and then upsert your vectors into your Pinecone index.\\n\\nBrowse the document\\n\\nMarkdown\\n\\n# The WonderVector5000: A Journey into Absurd Innovation\\n\\n## Introduction', metadata={'source': 'https://docs.pinecone.io/guides/get-started/build-a-rag-chatbot'}),\n",
       " Document(page_content=\"Welcome to the whimsical world of the WonderVector5000, an astonishing leap into the realms of imaginative technology. This extraordinary device, borne of creative fancy, promises to revolutionize absolutely nothing while dazzling you with its fantastical features. Whether you're a seasoned technophile or just someone looking for a bit of fun, the WonderVector5000 is sure to leave you amused and bemused in equal measure. Let’s explore the incredible, albeit entirely fictitious, specifications,\", metadata={'source': 'https://docs.pinecone.io/guides/get-started/build-a-rag-chatbot'}),\n",
       " Document(page_content='specifications, setup process, and troubleshooting tips for this marvel of modern nonsense.', metadata={'source': 'https://docs.pinecone.io/guides/get-started/build-a-rag-chatbot'}),\n",
       " Document(page_content=\"## Product overview\\n\\nThe WonderVector5000 is packed with features that defy logic and physics, each designed to sound impressive while maintaining a delightful air of absurdity:\\n\\nQuantum Flibberflabber Engine: The heart of the WonderVector5000, this engine operates on principles of quantum flibberflabber, a phenomenon as mysterious as it is meaningless. It's said to harness the power of improbability to function seamlessly across multiple dimensions.\", metadata={'source': 'https://docs.pinecone.io/guides/get-started/build-a-rag-chatbot'}),\n",
       " Document(page_content='Hyperbolic Singularity Matrix: This component compresses infinite possibilities into a singular hyperbolic state, allowing the device to predict outcomes with 0% accuracy, ensuring every use is a new adventure.\\n\\nAetherial Flux Capacitor: Drawing energy from the fictional aether, this flux capacitor provides unlimited power by tapping into the boundless reserves of imaginary energy fields.', metadata={'source': 'https://docs.pinecone.io/guides/get-started/build-a-rag-chatbot'}),\n",
       " Document(page_content=\"Multi-Dimensional Holo-Interface: Interact with the WonderVector5000 through its holographic interface that projects controls and information in three-and-a-half dimensions, creating a user experience that's simultaneously futuristic and perplexing.\\n\\nNeural Fandango Synchronizer: This advanced feature connects directly to the user's brain waves, converting your deepest thoughts into tangible actions—albeit with results that are whimsically unpredictable.\", metadata={'source': 'https://docs.pinecone.io/guides/get-started/build-a-rag-chatbot'}),\n",
       " Document(page_content=\"Chrono-Distortion Field: Manipulate time itself with the WonderVector5000's chrono-distortion field, allowing you to experience moments before they occur or revisit them in a state of temporal flux.\\n\\n## Use cases\\n\\nWhile the WonderVector5000 is fundamentally a device of fiction and fun, let's imagine some scenarios where it could hypothetically be applied:\", metadata={'source': 'https://docs.pinecone.io/guides/get-started/build-a-rag-chatbot'}),\n",
       " Document(page_content='Time Travel Adventures: Use the Chrono-Distortion Field to visit key moments in history or glimpse into the future. While actual temporal manipulation is impossible, the mere idea sparks endless storytelling possibilities.\\n\\nInterdimensional Gaming: Engage with the Multi-Dimensional Holo-Interface for immersive, out-of-this-world gaming experiences. Imagine games that adapt to your thoughts via the Neural Fandango Synchronizer, creating a unique and ever-changing environment.', metadata={'source': 'https://docs.pinecone.io/guides/get-started/build-a-rag-chatbot'}),\n",
       " Document(page_content='Infinite Creativity: Harness the Hyperbolic Singularity Matrix for brainstorming sessions. By compressing infinite possibilities into hyperbolic states, it could theoretically help unlock unprecedented creative ideas.\\n\\nEnergy Experiments: Explore the concept of limitless power with the Aetherial Flux Capacitor. Though purely fictional, the notion of drawing energy from the aether could inspire innovative thinking in energy research.\\n\\n## Getting started', metadata={'source': 'https://docs.pinecone.io/guides/get-started/build-a-rag-chatbot'}),\n",
       " Document(page_content='## Getting started\\n\\nSetting up your WonderVector5000 is both simple and absurdly intricate. Follow these steps to unleash the full potential of your new device:\\n\\n1. Unpack the Device: Remove the WonderVector5000 from its anti-gravitational packaging, ensuring to handle with care to avoid disturbing the delicate balance of its components.', metadata={'source': 'https://docs.pinecone.io/guides/get-started/build-a-rag-chatbot'}),\n",
       " Document(page_content='2. Initiate the Quantum Flibberflabber Engine: Locate the translucent lever marked “QFE Start” and pull it gently. You should notice a slight shimmer in the air as the engine engages, indicating that quantum flibberflabber is in effect.\\n\\n3. Calibrate the Hyperbolic Singularity Matrix: Turn the dials labeled \"Infinity A\" and \"Infinity B\" until the matrix stabilizes. You’ll know it\\'s calibrated correctly when the display shows a single, stable “∞”.', metadata={'source': 'https://docs.pinecone.io/guides/get-started/build-a-rag-chatbot'}),\n",
       " Document(page_content='4. Engage the Aetherial Flux Capacitor: Insert the EtherKey into the designated slot and turn it clockwise. A faint humming sound should confirm that the aetherial flux capacitor is active.\\n\\n5. Activate the Multi-Dimensional Holo-Interface: Press the button resembling a floating question mark to activate the holo-interface. The controls should materialize before your eyes, slightly out of phase with reality.', metadata={'source': 'https://docs.pinecone.io/guides/get-started/build-a-rag-chatbot'}),\n",
       " Document(page_content='6. Synchronize the Neural Fandango Synchronizer: Place the neural headband on your forehead and think of the word “Wonder”. The device will sync with your thoughts, a process that should take just a few moments.\\n\\n7. Set the Chrono-Distortion Field: Use the temporal sliders to adjust the time settings. Recommended presets include “Past”, “Present”, and “Future”, though feel free to explore other, more abstract temporal states.\\n\\n## Troubleshooting', metadata={'source': 'https://docs.pinecone.io/guides/get-started/build-a-rag-chatbot'}),\n",
       " Document(page_content=\"## Troubleshooting\\n\\nEven a device as fantastically designed as the WonderVector5000 can encounter problems. Here are some common issues and their solutions:\\n\\nIssue: The Quantum Flibberflabber Engine won't start.\\n\\nSolution: Ensure the anti-gravitational packaging has been completely removed. Check for any residual shards of improbability that might be obstructing the engine.\\n\\nIssue: The Hyperbolic Singularity Matrix displays “∞∞”.\", metadata={'source': 'https://docs.pinecone.io/guides/get-started/build-a-rag-chatbot'}),\n",
       " Document(page_content=\"Solution: This indicates a hyper-infinite loop. Reset the dials to zero and then adjust them slowly until the display shows a single, stable infinity symbol.\\n\\nIssue: The Aetherial Flux Capacitor isn't engaging.\\n\\nSolution: Verify that the EtherKey is properly inserted and genuine. Counterfeit EtherKeys can often cause malfunctions. Replace with an authenticated EtherKey if necessary.\\n\\nIssue: The Multi-Dimensional Holo-Interface shows garbled projections.\", metadata={'source': 'https://docs.pinecone.io/guides/get-started/build-a-rag-chatbot'}),\n",
       " Document(page_content='Solution: Realign the temporal resonators by tapping the holographic screen three times in quick succession. This should stabilize the projections.\\n\\nIssue: The Neural Fandango Synchronizer causes headaches.\\n\\nSolution: Ensure the headband is properly positioned and not too tight. Relax and focus on simple, calming thoughts to ease the synchronization process.\\n\\nIssue: The Chrono-Distortion Field is stuck in the past.', metadata={'source': 'https://docs.pinecone.io/guides/get-started/build-a-rag-chatbot'}),\n",
       " Document(page_content='Solution: Increase the temporal flux by 5%. If this fails, perform a hard reset by holding down the “Future” slider for ten seconds.\\n\\nSince your document is in Markdown, chunk the content based on structure to get semantically coherent segments. In this case, headers_to_split_on specifies h2 headers as the indicators of where to split.\\nPythonfrom langchain_text_splitters import MarkdownHeaderTextSplitter', metadata={'source': 'https://docs.pinecone.io/guides/get-started/build-a-rag-chatbot'}),\n",
       " Document(page_content='markdown_document = \"## Introduction\\\\n\\\\nWelcome to the whimsical world of the WonderVector5000, an astonishing leap into the realms of imaginative technology. This extraordinary device, borne of creative fancy, promises to revolutionize absolutely nothing while dazzling you with its fantastical features. Whether you\\'re a seasoned technophile or just someone looking for a bit of fun, the WonderVector5000 is sure to leave you amused and bemused in equal measure. Let\\'s explore the incredible,', metadata={'source': 'https://docs.pinecone.io/guides/get-started/build-a-rag-chatbot'}),\n",
       " Document(page_content='the incredible, albeit entirely fictitious, specifications, setup process, and troubleshooting tips for this marvel of modern nonsense.\\\\n\\\\n## Product overview\\\\n\\\\nThe WonderVector5000 is packed with features that defy logic and physics, each designed to sound impressive while maintaining a delightful air of absurdity:\\\\n\\\\n- Quantum Flibberflabber Engine: The heart of the WonderVector5000, this engine operates on principles of quantum flibberflabber, a phenomenon as mysterious as it is', metadata={'source': 'https://docs.pinecone.io/guides/get-started/build-a-rag-chatbot'}),\n",
       " Document(page_content=\"mysterious as it is meaningless. It's said to harness the power of improbability to function seamlessly across multiple dimensions.\\\\n\\\\n- Hyperbolic Singularity Matrix: This component compresses infinite possibilities into a singular hyperbolic state, allowing the device to predict outcomes with 0% accuracy, ensuring every use is a new adventure.\\\\n\\\\n- Aetherial Flux Capacitor: Drawing energy from the fictional aether, this flux capacitor provides unlimited power by tapping into the boundless\", metadata={'source': 'https://docs.pinecone.io/guides/get-started/build-a-rag-chatbot'}),\n",
       " Document(page_content=\"into the boundless reserves of imaginary energy fields.\\\\n\\\\n- Multi-Dimensional Holo-Interface: Interact with the WonderVector5000 through its holographic interface that projects controls and information in three-and-a-half dimensions, creating a user experience that's simultaneously futuristic and perplexing.\\\\n\\\\n- Neural Fandango Synchronizer: This advanced feature connects directly to the user's brain waves, converting your deepest thoughts into tangible actions—albeit with results that are\", metadata={'source': 'https://docs.pinecone.io/guides/get-started/build-a-rag-chatbot'}),\n",
       " Document(page_content=\"results that are whimsically unpredictable.\\\\n\\\\n- Chrono-Distortion Field: Manipulate time itself with the WonderVector5000's chrono-distortion field, allowing you to experience moments before they occur or revisit them in a state of temporal flux.\\\\n\\\\n## Use cases\\\\n\\\\nWhile the WonderVector5000 is fundamentally a device of fiction and fun, let's imagine some scenarios where it could hypothetically be applied:\\\\n\\\\n- Time Travel Adventures: Use the Chrono-Distortion Field to visit key moments in\", metadata={'source': 'https://docs.pinecone.io/guides/get-started/build-a-rag-chatbot'}),\n",
       " Document(page_content='key moments in history or glimpse into the future. While actual temporal manipulation is impossible, the mere idea sparks endless storytelling possibilities.\\\\n\\\\n- Interdimensional Gaming: Engage with the Multi-Dimensional Holo-Interface for immersive, out-of-this-world gaming experiences. Imagine games that adapt to your thoughts via the Neural Fandango Synchronizer, creating a unique and ever-changing environment.\\\\n\\\\n- Infinite Creativity: Harness the Hyperbolic Singularity Matrix for', metadata={'source': 'https://docs.pinecone.io/guides/get-started/build-a-rag-chatbot'}),\n",
       " Document(page_content='Matrix for brainstorming sessions. By compressing infinite possibilities into hyperbolic states, it could theoretically help unlock unprecedented creative ideas.\\\\n\\\\n- Energy Experiments: Explore the concept of limitless power with the Aetherial Flux Capacitor. Though purely fictional, the notion of drawing energy from the aether could inspire innovative thinking in energy research.\\\\n\\\\n## Getting started\\\\n\\\\nSetting up your WonderVector5000 is both simple and absurdly intricate. Follow these', metadata={'source': 'https://docs.pinecone.io/guides/get-started/build-a-rag-chatbot'}),\n",
       " Document(page_content='Follow these steps to unleash the full potential of your new device:\\\\n\\\\n1. Unpack the Device: Remove the WonderVector5000 from its anti-gravitational packaging, ensuring to handle with care to avoid disturbing the delicate balance of its components.\\\\n\\\\n2. Initiate the Quantum Flibberflabber Engine: Locate the translucent lever marked “QFE Start” and pull it gently. You should notice a slight shimmer in the air as the engine engages, indicating that quantum flibberflabber is in effect.\\\\n\\\\n3.', metadata={'source': 'https://docs.pinecone.io/guides/get-started/build-a-rag-chatbot'}),\n",
       " Document(page_content=\"is in effect.\\\\n\\\\n3. Calibrate the Hyperbolic Singularity Matrix: Turn the dials labeled 'Infinity A' and 'Infinity B' until the matrix stabilizes. You'll know it's calibrated correctly when the display shows a single, stable “∞”.\\\\n\\\\n4. Engage the Aetherial Flux Capacitor: Insert the EtherKey into the designated slot and turn it clockwise. A faint humming sound should confirm that the aetherial flux capacitor is active.\\\\n\\\\n5. Activate the Multi-Dimensional Holo-Interface: Press the button\", metadata={'source': 'https://docs.pinecone.io/guides/get-started/build-a-rag-chatbot'}),\n",
       " Document(page_content='Press the button resembling a floating question mark to activate the holo-interface. The controls should materialize before your eyes, slightly out of phase with reality.\\\\n\\\\n6. Synchronize the Neural Fandango Synchronizer: Place the neural headband on your forehead and think of the word “Wonder”. The device will sync with your thoughts, a process that should take just a few moments.\\\\n\\\\n7. Set the Chrono-Distortion Field: Use the temporal sliders to adjust the time settings. Recommended presets', metadata={'source': 'https://docs.pinecone.io/guides/get-started/build-a-rag-chatbot'}),\n",
       " Document(page_content=\"Recommended presets include “Past”, “Present”, and “Future”, though feel free to explore other, more abstract temporal states.\\\\n\\\\n## Troubleshooting\\\\n\\\\nEven a device as fantastically designed as the WonderVector5000 can encounter problems. Here are some common issues and their solutions:\\\\n\\\\n- Issue: The Quantum Flibberflabber Engine won't start.\\\\n\\\\n    - Solution: Ensure the anti-gravitational packaging has been completely removed. Check for any residual shards of improbability that might be\", metadata={'source': 'https://docs.pinecone.io/guides/get-started/build-a-rag-chatbot'}),\n",
       " Document(page_content=\"that might be obstructing the engine.\\\\n\\\\n- Issue: The Hyperbolic Singularity Matrix displays “∞∞”.\\\\n\\\\n    - Solution: This indicates a hyper-infinite loop. Reset the dials to zero and then adjust them slowly until the display shows a single, stable infinity symbol.\\\\n\\\\n- Issue: The Aetherial Flux Capacitor isn't engaging.\\\\n\\\\n    - Solution: Verify that the EtherKey is properly inserted and genuine. Counterfeit EtherKeys can often cause malfunctions. Replace with an authenticated EtherKey if\", metadata={'source': 'https://docs.pinecone.io/guides/get-started/build-a-rag-chatbot'}),\n",
       " Document(page_content='EtherKey if necessary.\\\\n\\\\n- Issue: The Multi-Dimensional Holo-Interface shows garbled projections.\\\\n\\\\n    - Solution: Realign the temporal resonators by tapping the holographic screen three times in quick succession. This should stabilize the projections.\\\\n\\\\n- Issue: The Neural Fandango Synchronizer causes headaches.\\\\n\\\\n    - Solution: Ensure the headband is properly positioned and not too tight. Relax and focus on simple, calming thoughts to ease the synchronization process.\\\\n\\\\n- Issue: The', metadata={'source': 'https://docs.pinecone.io/guides/get-started/build-a-rag-chatbot'}),\n",
       " Document(page_content='Issue: The Chrono-Distortion Field is stuck in the past.\\\\n\\\\n    - Solution: Increase the temporal flux by 5%. If this fails, perform a hard reset by holding down the “Future” slider for ten seconds.\"', metadata={'source': 'https://docs.pinecone.io/guides/get-started/build-a-rag-chatbot'}),\n",
       " Document(page_content='headers_to_split_on = [\\n    (\"##\", \"Header 2\")\\n]\\n\\nmarkdown_splitter = MarkdownHeaderTextSplitter(\\n    headers_to_split_on=headers_to_split_on, strip_headers=False\\n)\\nmd_header_splits = markdown_splitter.split_text(markdown_document)\\n\\nInitialize a LangChain embedding object:\\nThis step uses the OpenAI API key you set as an environment variable earlier. OpenAI is a paid service, so running the remainder of this guide may incur some small cost.\\nPythonfrom langchain_openai import OpenAIEmbeddings', metadata={'source': 'https://docs.pinecone.io/guides/get-started/build-a-rag-chatbot'}),\n",
       " Document(page_content='model_name = \"text-embedding-3-small\"  \\nembeddings = OpenAIEmbeddings(  \\n    model=model_name,  \\n    openai_api_key=os.environ.get(\"OPENAI_API_KEY\")  \\n)\\n\\nCreate a serverless index in Pinecone for storing the embeddings of your document, setting the index dimensions and distance metric to match those of the OpenAI text-embedding-3-small model you’ll use to create the embeddings:\\nPythonfrom pinecone.grpc import PineconeGRPC as Pinecone\\nfrom pinecone import ServerlessSpec\\nimport os', metadata={'source': 'https://docs.pinecone.io/guides/get-started/build-a-rag-chatbot'}),\n",
       " Document(page_content='pc = Pinecone(api_key=os.environ.get(\"PINECONE_API_KEY\"))\\n\\nindex_name = \"docs-rag-chatbot\"\\n\\nif index_name not in pc.list_indexes().names():\\n    pc.create_index(\\n        name=index_name,\\n        dimension=1536, \\n        metric=\"cosine\", \\n        spec=ServerlessSpec(\\n            cloud=\"aws\", \\n            region=\"us-east-1\"\\n        ) \\n    )', metadata={'source': 'https://docs.pinecone.io/guides/get-started/build-a-rag-chatbot'}),\n",
       " Document(page_content='Embed each chunk and upsert the embeddings into a distinct namespace called wondervector5000. Namespaces let you partition records within an index and are essential for implementing multitenancy when you need to isolate the data of each customer/user.\\nPythonimport time\\nfrom langchain_pinecone import PineconeVectorStore\\n\\nnamespace = \"wondervector5000\"', metadata={'source': 'https://docs.pinecone.io/guides/get-started/build-a-rag-chatbot'}),\n",
       " Document(page_content='docsearch = PineconeVectorStore.from_documents(\\n    documents=md_header_splits,\\n    index_name=index_name,\\n    embedding=embeddings, \\n    namespace=namespace \\n)\\n\\ntime.sleep(1)\\n\\nUse Pinecone’s list and query operations to look at one of the records:\\nPythonindex = pc.Index(index_name)', metadata={'source': 'https://docs.pinecone.io/guides/get-started/build-a-rag-chatbot'}),\n",
       " Document(page_content='for ids in index.list(namespace=namespace):\\n    query = index.query(\\n        id=ids[0], \\n        namespace=namespace, \\n        top_k=1,\\n        include_values=True,\\n        include_metadata=True\\n    )\\n    print(query)', metadata={'source': 'https://docs.pinecone.io/guides/get-started/build-a-rag-chatbot'}),\n",
       " Document(page_content=\"# Response:\\n# {'matches': [{'id': '8a7e5227-a738-4422-9c25-9a6136825803',\\n#             'metadata': {'Header 2': 'Introduction',\\n#                         'text': '## Introduction  \\\\n'\\n#                                 'Welcome to the whimsical world of the '\\n#                                 'WonderVector5000, an astonishing leap into '\\n#                                 'the realms of imaginative technology. This '\\n#                                 'extraordinary device, borne of creative '\", metadata={'source': 'https://docs.pinecone.io/guides/get-started/build-a-rag-chatbot'}),\n",
       " Document(page_content='#                                 \\'fancy, promises to revolutionize \\'\\n#                                 \\'absolutely nothing while dazzling you with \\'\\n#                                 \"its fantastical features. Whether you\\'re a \"\\n#                                 \\'seasoned technophile or just someone \\'\\n#                                 \\'looking for a bit of fun, the \\'\\n#                                 \\'WonderVector5000 is sure to leave you \\'', metadata={'source': 'https://docs.pinecone.io/guides/get-started/build-a-rag-chatbot'}),\n",
       " Document(page_content='#                                 \"amused and bemused in equal measure. Let\\'s \"\\n#                                 \\'explore the incredible, albeit entirely \\'\\n#                                 \\'fictitious, specifications, setup process, \\'\\n#                                 \\'and troubleshooting tips for this marvel \\'\\n#                                 \\'of modern nonsense.\\'},\\n#             \\'score\\': 1.0080868,\\n#             \\'values\\': [-0.00798303168,\\n#                        0.00551192369,', metadata={'source': 'https://docs.pinecone.io/guides/get-started/build-a-rag-chatbot'}),\n",
       " Document(page_content=\"#                        -0.00463955849,\\n#                        -0.00585730933,\\n#                        ...\\n#                       ]}],\\n# 'namespace': 'wondervector5000',\\n# 'usage': {'read_units': 6}}\", metadata={'source': 'https://docs.pinecone.io/guides/get-started/build-a-rag-chatbot'}),\n",
       " Document(page_content='\\u200b3. Use the chatbot\\n\\nNow that your document is stored as embeddings in Pinecone, when you send questions to the LLM, you can add relevant knowledge from your Pinecone index to ensure that the LLM returns an accurate response.\\n\\nInitialize a LangChain object for chatting with the gpt-3.5-turbo LLM and for including relevant context from Pinecone:\\nPythonfrom langchain_openai import ChatOpenAI\\nfrom langchain.chains import RetrievalQA', metadata={'source': 'https://docs.pinecone.io/guides/get-started/build-a-rag-chatbot'}),\n",
       " Document(page_content='llm = ChatOpenAI(\\n    openai_api_key=os.environ.get(\"OPENAI_API_KEY\"),\\n    model_name=\"gpt-3.5-turbo\",\\n    temperature=0.0\\n)\\n\\nqa = RetrievalQA.from_chain_type(\\n    llm=llm,\\n    chain_type=\"stuff\",\\n    retriever=docsearch.as_retriever()\\n)\\n\\nDefine a few questions about the WonderVector5000. These questions require specific, private knowledge of the product, which the LLM does not have by default.\\nPython query1 = \"What are the first 3 steps for getting started with the WonderVector5000?\"', metadata={'source': 'https://docs.pinecone.io/guides/get-started/build-a-rag-chatbot'}),\n",
       " Document(page_content='query2 = \"The Neural Fandango Synchronizer is giving me a headache. What do I do?\"\\n\\nSend query1 to the LLM twice, first with relevant knowledge from Pincone and then without any additional knowledge:\\nPython query1_with_knowledge = qa.invoke(query1)\\nquery1_without_knowledge = llm.invoke(query1)\\n\\nprint(query1_with_knowledge)\\nprint()\\nprint(query1_without_knowledge)', metadata={'source': 'https://docs.pinecone.io/guides/get-started/build-a-rag-chatbot'}),\n",
       " Document(page_content='# Response:', metadata={'source': 'https://docs.pinecone.io/guides/get-started/build-a-rag-chatbot'}),\n",
       " Document(page_content='# {\\'query\\': \\'What are the first 3 steps for getting started with the WonderVector5000?\\', \\'result\\': \"The first 3 steps for getting started with the WonderVector5000 are:\\\\n\\\\n1. Unpack the Device: Remove the WonderVector5000 from its anti-gravitational packaging with care.\\\\n2. Initiate the Quantum Flibberflabber Engine: Pull the translucent lever marked “QFE Start” gently to engage the engine.\\\\n3. Calibrate the Hyperbolic Singularity Matrix: Turn the dials labeled \\'Infinity A\\' and \\'Infinity B\\'', metadata={'source': 'https://docs.pinecone.io/guides/get-started/build-a-rag-chatbot'}),\n",
       " Document(page_content='A\\' and \\'Infinity B\\' until the matrix stabilizes with a single, stable “∞” display.\"}', metadata={'source': 'https://docs.pinecone.io/guides/get-started/build-a-rag-chatbot'}),\n",
       " Document(page_content='#', metadata={'source': 'https://docs.pinecone.io/guides/get-started/build-a-rag-chatbot'}),\n",
       " Document(page_content=\"# content='1. Unbox the WonderVector5000 and carefully read the user manual provided. Familiarize yourself with the different components of the device and understand their functions.\\\\n\\\\n2. Charge the WonderVector5000 using the provided charging cable. Make sure the device is fully charged before using it for the first time to ensure optimal performance.\\\\n\\\\n3. Turn on the WonderVector5000 by pressing the power button. Follow the on-screen instructions to set up the device and customize the\", metadata={'source': 'https://docs.pinecone.io/guides/get-started/build-a-rag-chatbot'}),\n",
       " Document(page_content=\"and customize the settings according to your preferences.' response_metadata={'token_usage': {'completion_tokens': 100, 'prompt_tokens': 24, 'total_tokens': 124}, 'model_name': 'gpt-3.5-turbo', 'system_fingerprint': None, 'finish_reason': 'stop', 'logprobs': None} id='run-e782f1a1-3c1a-436f-bfb7-ca39552d8761-0'\", metadata={'source': 'https://docs.pinecone.io/guides/get-started/build-a-rag-chatbot'}),\n",
       " Document(page_content='Notice that the first response provides very accurate getting started steps, matching closely the information in the WonderVector5000 document, while the second response sounds convincing but is generic and inaccurate.\\n\\nNow repeat the process with query2:\\nPythonquery2_with_knowledge = qa.invoke(query2)\\nquery2_without_knowledge = llm.invoke(query2)\\n\\nprint(query2_with_knowledge)\\nprint()\\nprint(query2_without_knowledge)', metadata={'source': 'https://docs.pinecone.io/guides/get-started/build-a-rag-chatbot'}),\n",
       " Document(page_content=\"# Response:\\n# {'query': 'The Neural Fandango Synchronizer is giving me a headache. What do I do?', 'result': 'If the Neural Fandango Synchronizer is causing headaches, you should ensure that the headband is properly positioned and not too tight. Additionally, try to relax and focus on simple, calming thoughts to ease the synchronization process. If the issue persists, you may need to take a break from using the device and consult the user manual for further guidance.'}\\n#\", metadata={'source': 'https://docs.pinecone.io/guides/get-started/build-a-rag-chatbot'}),\n",
       " Document(page_content=\"# content='If the Neural Fandango Synchronizer is giving you a headache, it is important to stop using it immediately and give yourself a break. Here are some steps you can take to alleviate the headache:\\\\n\\\\n1. Take a break and rest: Give yourself some time to relax and rest. Close your eyes, take deep breaths, and try to relax your mind and body.\\\\n\\\\n2. Hydrate: Drink plenty of water to stay hydrated, as dehydration can sometimes contribute to headaches.\\\\n\\\\n3. Use a cold compress: Applying a\", metadata={'source': 'https://docs.pinecone.io/guides/get-started/build-a-rag-chatbot'}),\n",
       " Document(page_content='Applying a cold compress to your forehead or the back of your neck can help alleviate the headache.\\\\n\\\\n4. Take over-the-counter pain medication: If the headache persists, you can take over-the-counter pain medication such as ibuprofen or acetaminophen to help relieve the pain.\\\\n\\\\n5. Avoid using the Neural Fandango Synchronizer: If the headache is directly related to using the device, it is best to avoid using it until you feel better.\\\\n\\\\nIf the headache persists or worsens, it is important to', metadata={'source': 'https://docs.pinecone.io/guides/get-started/build-a-rag-chatbot'}),\n",
       " Document(page_content=\"it is important to seek medical attention from a healthcare professional. They can provide further guidance and treatment options to help alleviate your headache.' response_metadata={'token_usage': {'completion_tokens': 232, 'prompt_tokens': 26, 'total_tokens': 258}, 'model_name': 'gpt-3.5-turbo', 'system_fingerprint': None, 'finish_reason': 'stop', 'logprobs': None} id='run-b35d47a3-469a-4adb-8497-a68b8539839b-0'\", metadata={'source': 'https://docs.pinecone.io/guides/get-started/build-a-rag-chatbot'}),\n",
       " Document(page_content='Again, notice how the first response provides very accurate troubleshooting guidance, matching closely the information in the WonderVector5000 document, while the second response sounds convincing but is generic and inaccurate.\\n\\n\\u200bNext steps\\n\\nLearn more about RAG:\\n\\nIntro to Retrieval Augmented Generation\\nRetrieval Augmented Generation: The Missing Manual\\nChunking strategies for LLM applications\\n\\nRAG sample app:\\n\\nBuild a multi-tenant RAG sample app\\n\\nRAG notebooks:', metadata={'source': 'https://docs.pinecone.io/guides/get-started/build-a-rag-chatbot'}),\n",
       " Document(page_content='RAG notebooks:\\n\\nBuild a RAG chatbot with LangChain notebook\\nCreate retrieval pipelines with reranking\\nCommon chunking methods\\nSemantic chunking\\n\\nWas this page helpful?\\n\\nQuickstart\\n\\nAuthentication\\n\\ntwitter\\n\\nlinkedin\\n\\nOn this page\\n\\nHow it works\\n\\nBefore you begin\\n\\n1. Set up your environment\\n\\n2. Store knowledge in Pinecone\\n\\n3. Use the chatbot\\n\\nNext steps', metadata={'source': 'https://docs.pinecone.io/guides/get-started/build-a-rag-chatbot'})]"
      ]
     },
     "execution_count": 25,
     "metadata": {},
     "output_type": "execute_result"
    }
   ],
   "source": [
    "text_splitter = RecursiveCharacterTextSplitter(chunk_size=500, chunk_overlap=20)\n",
    "texts = text_splitter.split_documents(documents)\n",
    "texts"
   ]
  },
  {
   "cell_type": "code",
   "execution_count": 26,
   "id": "72d2727f",
   "metadata": {},
   "outputs": [
    {
     "data": {
      "text/plain": [
       "'[document(page_content=\\'pinecone docs home page\\nsign up free\\nstatus\\nsupport\\nlog in\\nsign up free\\nsearch\\nnavigation\\nget started\\nbuild a rag chatbot\\nhome\\nguides\\nreference\\nexamples\\nintegrations\\ntools\\ntroubleshooting\\nreleases\\nget started\\nquickstart\\nbuild a rag chatbot\\nauthentication\\nexamples\\norganizations\\nunderstanding organizations\\nmanage billing\\nmanage cost\\nconfigure single sign-on\\nmanage organization members\\nprojects\\nunderstanding projects\\ncreate a project\\nmanage project members\\', metadata={\\'source\\': \\'https://docs.pinecone.io/guides/get-started/build-a-rag-chatbot\\'}), document(page_content=\\'rename a project\\nset a project pod limit\\nindexes\\nunderstanding indexes\\ncreate an index\\nmigrate a pod-based index to serverless\\nview index information\\nback up an index\\ndelete an index\\nuse namespaces\\nimplement multitenancy\\nchoose a pod type and size\\nconfigure pod-based indexes\\nscale pod-based indexes\\nunderstanding collections\\ndata\\nupsert data\\nquery data\\nfetch data\\nupdate data\\ndelete data\\nlist record ids\\nget an index endpoint\\nfilter with metadata\\nmanage rag documents\\', metadata={\\'source\\': \\'https://docs.pinecone.io/guides/get-started/build-a-rag-chatbot\\'}), document(page_content=\\'hybrid search and sparse vectors\\nmanage datasets\\noperations\\nmigrate to the new api\\nmove to production\\nperformance tuning\\nenable aws privatelink\\nmonitoring\\nget started\\nbuild a rag chatbot\\nthis page shows you how to build a simple rag chatbot in python using pinecone for the vector database, openai for the embedding model and llm, and langchain for the rag workflow.\\nto run through this guide in your browser, use the \"build a rag chatbot\" colab notebook.\\nhow it works\\', metadata={\\'source\\': \\'https://docs.pinecone.io/guides/get-started/build-a-rag-chatbot\\'}), document(page_content=\\'how it works\\ngenai chatbots built on large language models (llms) can answer many questions. however, when the questions concern private data that the llms have not been trained on, you can get answers that sound convincing but are factually wrong. this behavior is referred to as \"hallucination\".\\', metadata={\\'source\\': \\'https://docs.pinecone.io/guides/get-started/build-a-rag-chatbot\\'}), document(page_content=\\'retrieval augmented generation (rag) is a framework that prevents hallucination by providing llms the knowledge that they are missing, based on private data stored in a vector database like pinecone.\\nbefore you begin\\nensure you have the following:\\na pinecone account and api key.\\nan openai account and api key.\\n1. set up your environment\\', metadata={\\'source\\': \\'https://docs.pinecone.io/guides/get-started/build-a-rag-chatbot\\'}), document(page_content=\\'install the langchain libraries required for this notebook:\\npip install \\\\\\nlangchain-pinecone \\\\\\nlangchain-openai \\\\\\nlangchain-text-splitters \\\\\\nlangchain\\nset environment variables for your pinecone and openai api keys:\\nexport pinecone_api_key=\"<your pinecone api key>\" # available at app.pinecone.io\\nexport openai_api_key=\"<your openai api key>\" # available at platform.openai.com/api-keys\\n2. store knowledge in pinecone\\', metadata={\\'source\\': \\'https://docs.pinecone.io/guides/get-started/build-a-rag-chatbot\\'}), document(page_content=\\'for this guide, you\\'ll use a document about a fictional product called the wondervector5000 that llms do not have any information about. you\\'ll use langchain to chunk the document into smaller segments, convert each segment into vectors using openai, and then upsert your vectors into your pinecone index.\\nbrowse the document\\nmarkdown\\n# the wondervector5000: a journey into absurd innovation\\n## introduction\\', metadata={\\'source\\': \\'https://docs.pinecone.io/guides/get-started/build-a-rag-chatbot\\'}), document(page_content=\"welcome to the whimsical world of the wondervector5000, an astonishing leap into the realms of imaginative technology. this extraordinary device, borne of creative fancy, promises to revolutionize absolutely nothing while dazzling you with its fantastical features. whether you\\'re a seasoned technophile or just someone looking for a bit of fun, the wondervector5000 is sure to leave you amused and bemused in equal measure. let\\'s explore the incredible, albeit entirely fictitious, specifications,\", metadata={\\'source\\': \\'https://docs.pinecone.io/guides/get-started/build-a-rag-chatbot\\'}), document(page_content=\\'specifications, setup process, and troubleshooting tips for this marvel of modern nonsense.\\', metadata={\\'source\\': \\'https://docs.pinecone.io/guides/get-started/build-a-rag-chatbot\\'}), document(page_content=\"## product overview\\nthe wondervector5000 is packed with features that defy logic and physics, each designed to sound impressive while maintaining a delightful air of absurdity:\\nquantum flibberflabber engine: the heart of the wondervector5000, this engine operates on principles of quantum flibberflabber, a phenomenon as mysterious as it is meaningless. it\\'s said to harness the power of improbability to function seamlessly across multiple dimensions.\", metadata={\\'source\\': \\'https://docs.pinecone.io/guides/get-started/build-a-rag-chatbot\\'}), document(page_content=\\'hyperbolic singularity matrix: this component compresses infinite possibilities into a singular hyperbolic state, allowing the device to predict outcomes with 0% accuracy, ensuring every use is a new adventure.\\naetherial flux capacitor: drawing energy from the fictional aether, this flux capacitor provides unlimited power by tapping into the boundless reserves of imaginary energy fields.\\', metadata={\\'source\\': \\'https://docs.pinecone.io/guides/get-started/build-a-rag-chatbot\\'}), document(page_content=\"multi-dimensional holo-interface: interact with the wondervector5000 through its holographic interface that projects controls and information in three-and-a-half dimensions, creating a user experience that\\'s simultaneously futuristic and perplexing.\\nneural fandango synchronizer: this advanced feature connects directly to the user\\'s brain waves, converting your deepest thoughts into tangible actionsalbeit with results that are whimsically unpredictable.\", metadata={\\'source\\': \\'https://docs.pinecone.io/guides/get-started/build-a-rag-chatbot\\'}), document(page_content=\"chrono-distortion field: manipulate time itself with the wondervector5000\\'s chrono-distortion field, allowing you to experience moments before they occur or revisit them in a state of temporal flux.\\n## use cases\\nwhile the wondervector5000 is fundamentally a device of fiction and fun, let\\'s imagine some scenarios where it could hypothetically be applied:\", metadata={\\'source\\': \\'https://docs.pinecone.io/guides/get-started/build-a-rag-chatbot\\'}), document(page_content=\\'time travel adventures: use the chrono-distortion field to visit key moments in history or glimpse into the future. while actual temporal manipulation is impossible, the mere idea sparks endless storytelling possibilities.\\ninterdimensional gaming: engage with the multi-dimensional holo-interface for immersive, out-of-this-world gaming experiences. imagine games that adapt to your thoughts via the neural fandango synchronizer, creating a unique and ever-changing environment.\\', metadata={\\'source\\': \\'https://docs.pinecone.io/guides/get-started/build-a-rag-chatbot\\'}), document(page_content=\\'infinite creativity: harness the hyperbolic singularity matrix for brainstorming sessions. by compressing infinite possibilities into hyperbolic states, it could theoretically help unlock unprecedented creative ideas.\\nenergy experiments: explore the concept of limitless power with the aetherial flux capacitor. though purely fictional, the notion of drawing energy from the aether could inspire innovative thinking in energy research.\\n## getting started\\', metadata={\\'source\\': \\'https://docs.pinecone.io/guides/get-started/build-a-rag-chatbot\\'}), document(page_content=\\'## getting started\\nsetting up your wondervector5000 is both simple and absurdly intricate. follow these steps to unleash the full potential of your new device:\\n1. unpack the device: remove the wondervector5000 from its anti-gravitational packaging, ensuring to handle with care to avoid disturbing the delicate balance of its components.\\', metadata={\\'source\\': \\'https://docs.pinecone.io/guides/get-started/build-a-rag-chatbot\\'}), document(page_content=\\'2. initiate the quantum flibberflabber engine: locate the translucent lever marked \"qfe start\" and pull it gently. you should notice a slight shimmer in the air as the engine engages, indicating that quantum flibberflabber is in effect.\\n3. calibrate the hyperbolic singularity matrix: turn the dials labeled \"infinity a\" and \"infinity b\" until the matrix stabilizes. you\\'ll know it\\'s calibrated correctly when the display shows a single, stable \"\".\\', metadata={\\'source\\': \\'https://docs.pinecone.io/guides/get-started/build-a-rag-chatbot\\'}), document(page_content=\\'4. engage the aetherial flux capacitor: insert the etherkey into the designated slot and turn it clockwise. a faint humming sound should confirm that the aetherial flux capacitor is active.\\n5. activate the multi-dimensional holo-interface: press the button resembling a floating question mark to activate the holo-interface. the controls should materialize before your eyes, slightly out of phase with reality.\\', metadata={\\'source\\': \\'https://docs.pinecone.io/guides/get-started/build-a-rag-chatbot\\'}), document(page_content=\\'6. synchronize the neural fandango synchronizer: place the neural headband on your forehead and think of the word \"wonder\". the device will sync with your thoughts, a process that should take just a few moments.\\n7. set the chrono-distortion field: use the temporal sliders to adjust the time settings. recommended presets include \"past\", \"present\", and \"future\", though feel free to explore other, more abstract temporal states.\\n## troubleshooting\\', metadata={\\'source\\': \\'https://docs.pinecone.io/guides/get-started/build-a-rag-chatbot\\'}), document(page_content=\"## troubleshooting\\neven a device as fantastically designed as the wondervector5000 can encounter problems. here are some common issues and their solutions:\\nissue: the quantum flibberflabber engine won\\'t start.\\nsolution: ensure the anti-gravitational packaging has been completely removed. check for any residual shards of improbability that might be obstructing the engine.\\nissue: the hyperbolic singularity matrix displays \"\".\", metadata={\\'source\\': \\'https://docs.pinecone.io/guides/get-started/build-a-rag-chatbot\\'}), document(page_content=\"solution: this indicates a hyper-infinite loop. reset the dials to zero and then adjust them slowly until the display shows a single, stable infinity symbol.\\nissue: the aetherial flux capacitor isn\\'t engaging.\\nsolution: verify that the etherkey is properly inserted and genuine. counterfeit etherkeys can often cause malfunctions. replace with an authenticated etherkey if necessary.\\nissue: the multi-dimensional holo-interface shows garbled projections.\", metadata={\\'source\\': \\'https://docs.pinecone.io/guides/get-started/build-a-rag-chatbot\\'}), document(page_content=\\'solution: realign the temporal resonators by tapping the holographic screen three times in quick succession. this should stabilize the projections.\\nissue: the neural fandango synchronizer causes headaches.\\nsolution: ensure the headband is properly positioned and not too tight. relax and focus on simple, calming thoughts to ease the synchronization process.\\nissue: the chrono-distortion field is stuck in the past.\\', metadata={\\'source\\': \\'https://docs.pinecone.io/guides/get-started/build-a-rag-chatbot\\'}), document(page_content=\\'solution: increase the temporal flux by 5%. if this fails, perform a hard reset by holding down the \"future\" slider for ten seconds.\\nsince your document is in markdown, chunk the content based on structure to get semantically coherent segments. in this case, headers_to_split_on specifies h2 headers as the indicators of where to split.\\npythonfrom langchain_text_splitters import markdownheadertextsplitter\\', metadata={\\'source\\': \\'https://docs.pinecone.io/guides/get-started/build-a-rag-chatbot\\'}), document(page_content=\\'markdown_document = \"## introduction\\\\n\\\\nwelcome to the whimsical world of the wondervector5000, an astonishing leap into the realms of imaginative technology. this extraordinary device, borne of creative fancy, promises to revolutionize absolutely nothing while dazzling you with its fantastical features. whether you\\'re a seasoned technophile or just someone looking for a bit of fun, the wondervector5000 is sure to leave you amused and bemused in equal measure. let\\'s explore the incredible,\\', metadata={\\'source\\': \\'https://docs.pinecone.io/guides/get-started/build-a-rag-chatbot\\'}), document(page_content=\\'the incredible, albeit entirely fictitious, specifications, setup process, and troubleshooting tips for this marvel of modern nonsense.\\\\n\\\\n## product overview\\\\n\\\\nthe wondervector5000 is packed with features that defy logic and physics, each designed to sound impressive while maintaining a delightful air of absurdity:\\\\n\\\\n- quantum flibberflabber engine: the heart of the wondervector5000, this engine operates on principles of quantum flibberflabber, a phenomenon as mysterious as it is\\', metadata={\\'source\\': \\'https://docs.pinecone.io/guides/get-started/build-a-rag-chatbot\\'}), document(page_content=\"mysterious as it is meaningless. it\\'s said to harness the power of improbability to function seamlessly across multiple dimensions.\\\\n\\\\n- hyperbolic singularity matrix: this component compresses infinite possibilities into a singular hyperbolic state, allowing the device to predict outcomes with 0% accuracy, ensuring every use is a new adventure.\\\\n\\\\n- aetherial flux capacitor: drawing energy from the fictional aether, this flux capacitor provides unlimited power by tapping into the boundless\", metadata={\\'source\\': \\'https://docs.pinecone.io/guides/get-started/build-a-rag-chatbot\\'}), document(page_content=\"into the boundless reserves of imaginary energy fields.\\\\n\\\\n- multi-dimensional holo-interface: interact with the wondervector5000 through its holographic interface that projects controls and information in three-and-a-half dimensions, creating a user experience that\\'s simultaneously futuristic and perplexing.\\\\n\\\\n- neural fandango synchronizer: this advanced feature connects directly to the user\\'s brain waves, converting your deepest thoughts into tangible actionsalbeit with results that are\", metadata={\\'source\\': \\'https://docs.pinecone.io/guides/get-started/build-a-rag-chatbot\\'}), document(page_content=\"results that are whimsically unpredictable.\\\\n\\\\n- chrono-distortion field: manipulate time itself with the wondervector5000\\'s chrono-distortion field, allowing you to experience moments before they occur or revisit them in a state of temporal flux.\\\\n\\\\n## use cases\\\\n\\\\nwhile the wondervector5000 is fundamentally a device of fiction and fun, let\\'s imagine some scenarios where it could hypothetically be applied:\\\\n\\\\n- time travel adventures: use the chrono-distortion field to visit key moments in\", metadata={\\'source\\': \\'https://docs.pinecone.io/guides/get-started/build-a-rag-chatbot\\'}), document(page_content=\\'key moments in history or glimpse into the future. while actual temporal manipulation is impossible, the mere idea sparks endless storytelling possibilities.\\\\n\\\\n- interdimensional gaming: engage with the multi-dimensional holo-interface for immersive, out-of-this-world gaming experiences. imagine games that adapt to your thoughts via the neural fandango synchronizer, creating a unique and ever-changing environment.\\\\n\\\\n- infinite creativity: harness the hyperbolic singularity matrix for\\', metadata={\\'source\\': \\'https://docs.pinecone.io/guides/get-started/build-a-rag-chatbot\\'}), document(page_content=\\'matrix for brainstorming sessions. by compressing infinite possibilities into hyperbolic states, it could theoretically help unlock unprecedented creative ideas.\\\\n\\\\n- energy experiments: explore the concept of limitless power with the aetherial flux capacitor. though purely fictional, the notion of drawing energy from the aether could inspire innovative thinking in energy research.\\\\n\\\\n## getting started\\\\n\\\\nsetting up your wondervector5000 is both simple and absurdly intricate. follow these\\', metadata={\\'source\\': \\'https://docs.pinecone.io/guides/get-started/build-a-rag-chatbot\\'}), document(page_content=\\'follow these steps to unleash the full potential of your new device:\\\\n\\\\n1. unpack the device: remove the wondervector5000 from its anti-gravitational packaging, ensuring to handle with care to avoid disturbing the delicate balance of its components.\\\\n\\\\n2. initiate the quantum flibberflabber engine: locate the translucent lever marked \"qfe start\" and pull it gently. you should notice a slight shimmer in the air as the engine engages, indicating that quantum flibberflabber is in effect.\\\\n\\\\n3.\\', metadata={\\'source\\': \\'https://docs.pinecone.io/guides/get-started/build-a-rag-chatbot\\'}), document(page_content=\"is in effect.\\\\n\\\\n3. calibrate the hyperbolic singularity matrix: turn the dials labeled \\'infinity a\\' and \\'infinity b\\' until the matrix stabilizes. you\\'ll know it\\'s calibrated correctly when the display shows a single, stable \"\".\\\\n\\\\n4. engage the aetherial flux capacitor: insert the etherkey into the designated slot and turn it clockwise. a faint humming sound should confirm that the aetherial flux capacitor is active.\\\\n\\\\n5. activate the multi-dimensional holo-interface: press the button\", metadata={\\'source\\': \\'https://docs.pinecone.io/guides/get-started/build-a-rag-chatbot\\'}), document(page_content=\\'press the button resembling a floating question mark to activate the holo-interface. the controls should materialize before your eyes, slightly out of phase with reality.\\\\n\\\\n6. synchronize the neural fandango synchronizer: place the neural headband on your forehead and think of the word \"wonder\". the device will sync with your thoughts, a process that should take just a few moments.\\\\n\\\\n7. set the chrono-distortion field: use the temporal sliders to adjust the time settings. recommended presets\\', metadata={\\'source\\': \\'https://docs.pinecone.io/guides/get-started/build-a-rag-chatbot\\'}), document(page_content=\"recommended presets include \"past\", \"present\", and \"future\", though feel free to explore other, more abstract temporal states.\\\\n\\\\n## troubleshooting\\\\n\\\\neven a device as fantastically designed as the wondervector5000 can encounter problems. here are some common issues and their solutions:\\\\n\\\\n- issue: the quantum flibberflabber engine won\\'t start.\\\\n\\\\n - solution: ensure the anti-gravitational packaging has been completely removed. check for any residual shards of improbability that might be\", metadata={\\'source\\': \\'https://docs.pinecone.io/guides/get-started/build-a-rag-chatbot\\'}), document(page_content=\"that might be obstructing the engine.\\\\n\\\\n- issue: the hyperbolic singularity matrix displays \"\".\\\\n\\\\n - solution: this indicates a hyper-infinite loop. reset the dials to zero and then adjust them slowly until the display shows a single, stable infinity symbol.\\\\n\\\\n- issue: the aetherial flux capacitor isn\\'t engaging.\\\\n\\\\n - solution: verify that the etherkey is properly inserted and genuine. counterfeit etherkeys can often cause malfunctions. replace with an authenticated etherkey if\", metadata={\\'source\\': \\'https://docs.pinecone.io/guides/get-started/build-a-rag-chatbot\\'}), document(page_content=\\'etherkey if necessary.\\\\n\\\\n- issue: the multi-dimensional holo-interface shows garbled projections.\\\\n\\\\n - solution: realign the temporal resonators by tapping the holographic screen three times in quick succession. this should stabilize the projections.\\\\n\\\\n- issue: the neural fandango synchronizer causes headaches.\\\\n\\\\n - solution: ensure the headband is properly positioned and not too tight. relax and focus on simple, calming thoughts to ease the synchronization process.\\\\n\\\\n- issue: the\\', metadata={\\'source\\': \\'https://docs.pinecone.io/guides/get-started/build-a-rag-chatbot\\'}), document(page_content=\\'issue: the chrono-distortion field is stuck in the past.\\\\n\\\\n - solution: increase the temporal flux by 5%. if this fails, perform a hard reset by holding down the \"future\" slider for ten seconds.\"\\', metadata={\\'source\\': \\'https://docs.pinecone.io/guides/get-started/build-a-rag-chatbot\\'}), document(page_content=\\'headers_to_split_on = [\\n(\"##\", \"header 2\")\\n]\\nmarkdown_splitter = markdownheadertextsplitter(\\nheaders_to_split_on=headers_to_split_on, strip_headers=false\\n)\\nmd_header_splits = markdown_splitter.split_text(markdown_document)\\ninitialize a langchain embedding object:\\nthis step uses the openai api key you set as an environment variable earlier. openai is a paid service, so running the remainder of this guide may incur some small cost.\\npythonfrom langchain_openai import openaiembeddings\\', metadata={\\'source\\': \\'https://docs.pinecone.io/guides/get-started/build-a-rag-chatbot\\'}), document(page_content=\\'model_name = \"text-embedding-3-small\"\\nembeddings = openaiembeddings(\\nmodel=model_name,\\nopenai_api_key=os.environ.get(\"openai_api_key\")\\n)\\ncreate a serverless index in pinecone for storing the embeddings of your document, setting the index dimensions and distance metric to match those of the openai text-embedding-3-small model you\\'ll use to create the embeddings:\\npythonfrom pinecone.grpc import pineconegrpc as pinecone\\nfrom pinecone import serverlessspec\\nimport os\\', metadata={\\'source\\': \\'https://docs.pinecone.io/guides/get-started/build-a-rag-chatbot\\'}), document(page_content=\\'pc = pinecone(api_key=os.environ.get(\"pinecone_api_key\"))\\nindex_name = \"docs-rag-chatbot\"\\nif index_name not in pc.list_indexes().names():\\npc.create_index(\\nname=index_name,\\ndimension=1536,\\nmetric=\"cosine\",\\nspec=serverlessspec(\\ncloud=\"aws\",\\nregion=\"us-east-1\"\\n)\\n)\\', metadata={\\'source\\': \\'https://docs.pinecone.io/guides/get-started/build-a-rag-chatbot\\'}), document(page_content=\\'embed each chunk and upsert the embeddings into a distinct namespace called wondervector5000. namespaces let you partition records within an index and are essential for implementing multitenancy when you need to isolate the data of each customer/user.\\npythonimport time\\nfrom langchain_pinecone import pineconevectorstore\\nnamespace = \"wondervector5000\"\\', metadata={\\'source\\': \\'https://docs.pinecone.io/guides/get-started/build-a-rag-chatbot\\'}), document(page_content=\\'docsearch = pineconevectorstore.from_documents(\\ndocuments=md_header_splits,\\nindex_name=index_name,\\nembedding=embeddings,\\nnamespace=namespace\\n)\\ntime.sleep(1)\\nuse pinecone\\'s list and query operations to look at one of the records:\\npythonindex = pc.index(index_name)\\', metadata={\\'source\\': \\'https://docs.pinecone.io/guides/get-started/build-a-rag-chatbot\\'}), document(page_content=\\'for ids in index.list(namespace=namespace):\\nquery = index.query(\\nid=ids[0],\\nnamespace=namespace,\\ntop_k=1,\\ninclude_values=true,\\ninclude_metadata=true\\n)\\nprint(query)\\', metadata={\\'source\\': \\'https://docs.pinecone.io/guides/get-started/build-a-rag-chatbot\\'}), document(page_content=\"# response:\\n# {\\'matches\\': [{\\'id\\': \\'8a7e5227-a738-4422-9c25-9a6136825803\\',\\n# \\'metadata\\': {\\'header 2\\': \\'introduction\\',\\n# \\'text\\': \\'## introduction \\\\n\\'\\n# \\'welcome to the whimsical world of the \\'\\n# \\'wondervector5000, an astonishing leap into \\'\\n# \\'the realms of imaginative technology. this \\'\\n# \\'extraordinary device, borne of creative \\'\", metadata={\\'source\\': \\'https://docs.pinecone.io/guides/get-started/build-a-rag-chatbot\\'}), document(page_content=\\'# \\'fancy, promises to revolutionize \\'\\n# \\'absolutely nothing while dazzling you with \\'\\n# \"its fantastical features. whether you\\'re a \"\\n# \\'seasoned technophile or just someone \\'\\n# \\'looking for a bit of fun, the \\'\\n# \\'wondervector5000 is sure to leave you \\'\\', metadata={\\'source\\': \\'https://docs.pinecone.io/guides/get-started/build-a-rag-chatbot\\'}), document(page_content=\\'# \"amused and bemused in equal measure. let\\'s \"\\n# \\'explore the incredible, albeit entirely \\'\\n# \\'fictitious, specifications, setup process, \\'\\n# \\'and troubleshooting tips for this marvel \\'\\n# \\'of modern nonsense.\\'},\\n# \\'score\\': 1.0080868,\\n# \\'values\\': [-0.00798303168,\\n# 0.00551192369,\\', metadata={\\'source\\': \\'https://docs.pinecone.io/guides/get-started/build-a-rag-chatbot\\'}), document(page_content=\"# -0.00463955849,\\n# -0.00585730933,\\n# ...\\n# ]}],\\n# \\'namespace\\': \\'wondervector5000\\',\\n# \\'usage\\': {\\'read_units\\': 6}}\", metadata={\\'source\\': \\'https://docs.pinecone.io/guides/get-started/build-a-rag-chatbot\\'}), document(page_content=\\'3. use the chatbot\\nnow that your document is stored as embeddings in pinecone, when you send questions to the llm, you can add relevant knowledge from your pinecone index to ensure that the llm returns an accurate response.\\ninitialize a langchain object for chatting with the gpt-3.5-turbo llm and for including relevant context from pinecone:\\npythonfrom langchain_openai import chatopenai\\nfrom langchain.chains import retrievalqa\\', metadata={\\'source\\': \\'https://docs.pinecone.io/guides/get-started/build-a-rag-chatbot\\'}), document(page_content=\\'llm = chatopenai(\\nopenai_api_key=os.environ.get(\"openai_api_key\"),\\nmodel_name=\"gpt-3.5-turbo\",\\ntemperature=0.0\\n)\\nqa = retrievalqa.from_chain_type(\\nllm=llm,\\nchain_type=\"stuff\",\\nretriever=docsearch.as_retriever()\\n)\\ndefine a few questions about the wondervector5000. these questions require specific, private knowledge of the product, which the llm does not have by default.\\npython query1 = \"what are the first 3 steps for getting started with the wondervector5000?\"\\', metadata={\\'source\\': \\'https://docs.pinecone.io/guides/get-started/build-a-rag-chatbot\\'}), document(page_content=\\'query2 = \"the neural fandango synchronizer is giving me a headache. what do i do?\"\\nsend query1 to the llm twice, first with relevant knowledge from pincone and then without any additional knowledge:\\npython query1_with_knowledge = qa.invoke(query1)\\nquery1_without_knowledge = llm.invoke(query1)\\nprint(query1_with_knowledge)\\nprint()\\nprint(query1_without_knowledge)\\', metadata={\\'source\\': \\'https://docs.pinecone.io/guides/get-started/build-a-rag-chatbot\\'}), document(page_content=\\'# response:\\', metadata={\\'source\\': \\'https://docs.pinecone.io/guides/get-started/build-a-rag-chatbot\\'}), document(page_content=\\'# {\\'query\\': \\'what are the first 3 steps for getting started with the wondervector5000?\\', \\'result\\': \"the first 3 steps for getting started with the wondervector5000 are:\\\\n\\\\n1. unpack the device: remove the wondervector5000 from its anti-gravitational packaging with care.\\\\n2. initiate the quantum flibberflabber engine: pull the translucent lever marked \"qfe start\" gently to engage the engine.\\\\n3. calibrate the hyperbolic singularity matrix: turn the dials labeled \\'infinity a\\' and \\'infinity b\\'\\', metadata={\\'source\\': \\'https://docs.pinecone.io/guides/get-started/build-a-rag-chatbot\\'}), document(page_content=\\'a\\' and \\'infinity b\\' until the matrix stabilizes with a single, stable \"\" display.\"}\\', metadata={\\'source\\': \\'https://docs.pinecone.io/guides/get-started/build-a-rag-chatbot\\'}), document(page_content=\\'#\\', metadata={\\'source\\': \\'https://docs.pinecone.io/guides/get-started/build-a-rag-chatbot\\'}), document(page_content=\"# content=\\'1. unbox the wondervector5000 and carefully read the user manual provided. familiarize yourself with the different components of the device and understand their functions.\\\\n\\\\n2. charge the wondervector5000 using the provided charging cable. make sure the device is fully charged before using it for the first time to ensure optimal performance.\\\\n\\\\n3. turn on the wondervector5000 by pressing the power button. follow the on-screen instructions to set up the device and customize the\", metadata={\\'source\\': \\'https://docs.pinecone.io/guides/get-started/build-a-rag-chatbot\\'}), document(page_content=\"and customize the settings according to your preferences.\\' response_metadata={\\'token_usage\\': {\\'completion_tokens\\': 100, \\'prompt_tokens\\': 24, \\'total_tokens\\': 124}, \\'model_name\\': \\'gpt-3.5-turbo\\', \\'system_fingerprint\\': none, \\'finish_reason\\': \\'stop\\', \\'logprobs\\': none} id=\\'run-e782f1a1-3c1a-436f-bfb7-ca39552d8761-0\\'\", metadata={\\'source\\': \\'https://docs.pinecone.io/guides/get-started/build-a-rag-chatbot\\'}), document(page_content=\\'notice that the first response provides very accurate getting started steps, matching closely the information in the wondervector5000 document, while the second response sounds convincing but is generic and inaccurate.\\nnow repeat the process with query2:\\npythonquery2_with_knowledge = qa.invoke(query2)\\nquery2_without_knowledge = llm.invoke(query2)\\nprint(query2_with_knowledge)\\nprint()\\nprint(query2_without_knowledge)\\', metadata={\\'source\\': \\'https://docs.pinecone.io/guides/get-started/build-a-rag-chatbot\\'}), document(page_content=\"# response:\\n# {\\'query\\': \\'the neural fandango synchronizer is giving me a headache. what do i do?\\', \\'result\\': \\'if the neural fandango synchronizer is causing headaches, you should ensure that the headband is properly positioned and not too tight. additionally, try to relax and focus on simple, calming thoughts to ease the synchronization process. if the issue persists, you may need to take a break from using the device and consult the user manual for further guidance.\\'}\\n#\", metadata={\\'source\\': \\'https://docs.pinecone.io/guides/get-started/build-a-rag-chatbot\\'}), document(page_content=\"# content=\\'if the neural fandango synchronizer is giving you a headache, it is important to stop using it immediately and give yourself a break. here are some steps you can take to alleviate the headache:\\\\n\\\\n1. take a break and rest: give yourself some time to relax and rest. close your eyes, take deep breaths, and try to relax your mind and body.\\\\n\\\\n2. hydrate: drink plenty of water to stay hydrated, as dehydration can sometimes contribute to headaches.\\\\n\\\\n3. use a cold compress: applying a\", metadata={\\'source\\': \\'https://docs.pinecone.io/guides/get-started/build-a-rag-chatbot\\'}), document(page_content=\\'applying a cold compress to your forehead or the back of your neck can help alleviate the headache.\\\\n\\\\n4. take over-the-counter pain medication: if the headache persists, you can take over-the-counter pain medication such as ibuprofen or acetaminophen to help relieve the pain.\\\\n\\\\n5. avoid using the neural fandango synchronizer: if the headache is directly related to using the device, it is best to avoid using it until you feel better.\\\\n\\\\nif the headache persists or worsens, it is important to\\', metadata={\\'source\\': \\'https://docs.pinecone.io/guides/get-started/build-a-rag-chatbot\\'}), document(page_content=\"it is important to seek medical attention from a healthcare professional. they can provide further guidance and treatment options to help alleviate your headache.\\' response_metadata={\\'token_usage\\': {\\'completion_tokens\\': 232, \\'prompt_tokens\\': 26, \\'total_tokens\\': 258}, \\'model_name\\': \\'gpt-3.5-turbo\\', \\'system_fingerprint\\': none, \\'finish_reason\\': \\'stop\\', \\'logprobs\\': none} id=\\'run-b35d47a3-469a-4adb-8497-a68b8539839b-0\\'\", metadata={\\'source\\': \\'https://docs.pinecone.io/guides/get-started/build-a-rag-chatbot\\'}), document(page_content=\\'again, notice how the first response provides very accurate troubleshooting guidance, matching closely the information in the wondervector5000 document, while the second response sounds convincing but is generic and inaccurate.\\nnext steps\\nlearn more about rag:\\nintro to retrieval augmented generation\\nretrieval augmented generation: the missing manual\\nchunking strategies for llm applications\\nrag sample app:\\nbuild a multi-tenant rag sample app\\nrag notebooks:\\', metadata={\\'source\\': \\'https://docs.pinecone.io/guides/get-started/build-a-rag-chatbot\\'}), document(page_content=\\'rag notebooks:\\nbuild a rag chatbot with langchain notebook\\ncreate retrieval pipelines with reranking\\ncommon chunking methods\\nsemantic chunking\\nwas this page helpful?\\nquickstart\\nauthentication\\ntwitter\\nlinkedin\\non this page\\nhow it works\\nbefore you begin\\n1. set up your environment\\n2. store knowledge in pinecone\\n3. use the chatbot\\nnext steps\\', metadata={\\'source\\': \\'https://docs.pinecone.io/guides/get-started/build-a-rag-chatbot\\'})]'"
      ]
     },
     "execution_count": 26,
     "metadata": {},
     "output_type": "execute_result"
    }
   ],
   "source": [
    "clean_url_text = clean(text=texts,\n",
    "            fix_unicode=True,\n",
    "            to_ascii=True,\n",
    "            lower=True,\n",
    "            no_line_breaks=False,\n",
    "            no_urls=False,\n",
    "            no_emails=False,\n",
    "            no_phone_numbers=False,\n",
    "            no_numbers=False,\n",
    "            no_digits=False,\n",
    "            no_currency_symbols=False,\n",
    "            no_punct=False,\n",
    "            replace_with_punct=\"\",\n",
    "            replace_with_url=\"This is a URL\",\n",
    "            replace_with_email=\"Email\",\n",
    "            replace_with_phone_number=\"\",\n",
    "            replace_with_number=\"123\",\n",
    "            replace_with_digit=\"0\",\n",
    "            replace_with_currency_symbol=\"$\",\n",
    "            lang=\"en\"\n",
    "            )\n",
    "clean_url_text"
   ]
  },
  {
   "cell_type": "code",
   "execution_count": 27,
   "id": "4c43e092",
   "metadata": {},
   "outputs": [],
   "source": [
    "from pinecone import Pinecone\n",
    "\n",
    "# configure client\n",
    "pc = Pinecone()"
   ]
  },
  {
   "cell_type": "code",
   "execution_count": 28,
   "id": "7f8b8040",
   "metadata": {},
   "outputs": [],
   "source": [
    "from pinecone import ServerlessSpec\n",
    "\n",
    "#. cloud = os.environ.get('PINECONE_CLOUD') or 'aws'\n",
    "# region = os.environ.get('PINECONE_REGION') or 'us-east-1'\n",
    "# spec = ServerlessSpec(cloud=cloud, region=region)"
   ]
  },
  {
   "cell_type": "code",
   "execution_count": 29,
   "id": "5ab8a7c9",
   "metadata": {},
   "outputs": [],
   "source": [
    "import time\n",
    "index_name = \"myindex\"\n",
    "\n",
    "if index_name in pc.list_indexes().names():\n",
    "    pc.delete_index(index_name)\n",
    "\n",
    "pc.create_index(\n",
    "  name=index_name,\n",
    "  dimension=1536,\n",
    "  metric=\"dotproduct\",\n",
    "  spec=ServerlessSpec(\n",
    "    cloud=\"aws\",\n",
    "    region=\"us-east-1\"\n",
    "  )\n",
    ")\n",
    "\n",
    "# wait for index to be initialized\n",
    "while not pc.describe_index(index_name).status['ready']:\n",
    "    time.sleep(1)"
   ]
  },
  {
   "cell_type": "code",
   "execution_count": 30,
   "id": "051ed00c",
   "metadata": {},
   "outputs": [
    {
     "data": {
      "text/plain": [
       "{'dimension': 1536,\n",
       " 'index_fullness': 0.0,\n",
       " 'namespaces': {},\n",
       " 'total_vector_count': 0}"
      ]
     },
     "execution_count": 30,
     "metadata": {},
     "output_type": "execute_result"
    }
   ],
   "source": [
    "index = pc.Index(index_name)\n",
    "index.describe_index_stats()"
   ]
  },
  {
   "cell_type": "code",
   "execution_count": 31,
   "id": "eb33e1a3",
   "metadata": {},
   "outputs": [],
   "source": [
    "from langchain_pinecone import PineconeVectorStore\n",
    "from langchain_openai import OpenAIEmbeddings\n",
    "\n",
    "embeddings = OpenAIEmbeddings()\n",
    "vectorstore = PineconeVectorStore(index_name=index_name, embedding=embeddings)\n"
   ]
  },
  {
   "cell_type": "code",
   "execution_count": 32,
   "id": "99fa3eed",
   "metadata": {},
   "outputs": [],
   "source": [
    "vectorstore_from_docs = PineconeVectorStore.from_documents(\n",
    "        texts,\n",
    "        index_name=index_name,\n",
    "        embedding=embeddings\n",
    "    )"
   ]
  },
  {
   "cell_type": "code",
   "execution_count": 33,
   "id": "860ca4bc",
   "metadata": {},
   "outputs": [
    {
     "data": {
      "text/plain": [
       "[Document(page_content='RAG notebooks:\\n\\nBuild a RAG chatbot with LangChain notebook\\nCreate retrieval pipelines with reranking\\nCommon chunking methods\\nSemantic chunking\\n\\nWas this page helpful?\\n\\nQuickstart\\n\\nAuthentication\\n\\ntwitter\\n\\nlinkedin\\n\\nOn this page\\n\\nHow it works\\n\\nBefore you begin\\n\\n1. Set up your environment\\n\\n2. Store knowledge in Pinecone\\n\\n3. Use the chatbot\\n\\nNext steps', metadata={'source': 'https://docs.pinecone.io/guides/get-started/build-a-rag-chatbot'}),\n",
       " Document(page_content='Hybrid search and sparse vectors\\n\\nManage datasets\\n\\nOperations\\n\\nMigrate to the new API\\n\\nMove to production\\n\\nPerformance tuning\\n\\nEnable AWS PrivateLink\\n\\nMonitoring\\n\\nGet started\\n\\nBuild a RAG chatbot\\n\\nThis page shows you how to build a simple RAG chatbot in Python using Pinecone for the vector database, OpenAI for the embedding model and LLM, and LangChain for the RAG workflow.\\n\\nTo run through this guide in your browser, use the “Build a RAG chatbot” colab notebook.\\n\\n\\u200bHow it works', metadata={'source': 'https://docs.pinecone.io/guides/get-started/build-a-rag-chatbot'}),\n",
       " Document(page_content='Retrieval augmented generation (RAG) is a framework that prevents hallucination by providing LLMs the knowledge that they are missing, based on private data stored in a vector database like Pinecone.\\n\\n\\u200bBefore you begin\\n\\nEnsure you have the following:\\n\\nA Pinecone account and API key.\\n\\nAn OpenAI account and API key.\\n\\n\\u200b1. Set up your environment', metadata={'source': 'https://docs.pinecone.io/guides/get-started/build-a-rag-chatbot'}),\n",
       " Document(page_content='Pinecone Docs home page\\n\\nSign up free\\n\\nStatus\\n\\nSupport\\n\\nLog In\\n\\nSign up free\\n\\nSearch\\n\\nNavigation\\n\\nGet started\\n\\nBuild a RAG chatbot\\n\\nHome\\n\\nGuides\\n\\nReference\\n\\nExamples\\n\\nIntegrations\\n\\nTools\\n\\nTroubleshooting\\n\\nReleases\\n\\nGet started\\n\\nQuickstart\\n\\nBuild a RAG chatbot\\n\\nAuthentication\\n\\nExamples\\n\\nOrganizations\\n\\nUnderstanding organizations\\n\\nManage billing\\n\\nManage cost\\n\\nConfigure single sign-on\\n\\nManage organization members\\n\\nProjects\\n\\nUnderstanding projects\\n\\nCreate a project\\n\\nManage project members', metadata={'source': 'https://docs.pinecone.io/guides/get-started/build-a-rag-chatbot'})]"
      ]
     },
     "execution_count": 33,
     "metadata": {},
     "output_type": "execute_result"
    }
   ],
   "source": [
    "query = \"How do you set up the environment in order to build a RAG Chatbot?\"\n",
    "vectorstore.similarity_search(query)"
   ]
  },
  {
   "cell_type": "code",
   "execution_count": 34,
   "id": "9e76effb",
   "metadata": {},
   "outputs": [
    {
     "data": {
      "text/plain": [
       "'To set up the environment to build a RAG Chatbot, you need to ensure you have the following:\\n\\n1. A Pinecone account and API key.\\n2. An OpenAI account and API key.\\n\\nOnce you have these accounts and API keys, you can proceed with setting up the environment by following the steps outlined in the documentation provided by Pinecone. This typically involves installing necessary libraries, configuring authentication with your API keys, and setting up the required dependencies for the RAG workflow using tools like LangChain.\\n\\nFor detailed instructions on setting up the environment and building a RAG Chatbot, you can refer to the documentation and guides provided by Pinecone on their website.'"
      ]
     },
     "execution_count": 34,
     "metadata": {},
     "output_type": "execute_result"
    }
   ],
   "source": [
    "from langchain_openai import ChatOpenAI\n",
    "from langchain.chains import RetrievalQA\n",
    "# completion llm\n",
    "llm = ChatOpenAI(\n",
    "    model_name='gpt-3.5-turbo',\n",
    "    temperature=0.0\n",
    ")\n",
    "qa = RetrievalQA.from_chain_type(\n",
    "    llm=llm,\n",
    "    chain_type=\"stuff\",\n",
    "    retriever=vectorstore.as_retriever()\n",
    ")\n",
    "qa.run(query)"
   ]
  },
  {
   "cell_type": "code",
   "execution_count": 35,
   "id": "eab87175",
   "metadata": {},
   "outputs": [],
   "source": [
    "initial_prompt = \"You are a researcher who is going to search the web links, summarize them and share insights as asked\""
   ]
  },
  {
   "cell_type": "code",
   "execution_count": 36,
   "id": "d167da23",
   "metadata": {},
   "outputs": [],
   "source": [
    "query = \"What is the primary goal of chatbots?\"\n",
    "result = qa.invoke({\"query\": query, \"prompt\": initial_prompt})"
   ]
  },
  {
   "cell_type": "code",
   "execution_count": 37,
   "id": "d312a260",
   "metadata": {},
   "outputs": [
    {
     "name": "stdout",
     "output_type": "stream",
     "text": [
      "The primary goal of chatbots is to provide automated assistance and engage in conversations with users to answer questions, provide information, or assist with tasks in a conversational manner.\n"
     ]
    }
   ],
   "source": [
    "print(result['result'])"
   ]
  }
 ],
 "metadata": {
  "kernelspec": {
   "display_name": "Python 3 (ipykernel)",
   "language": "python",
   "name": "python3"
  },
  "language_info": {
   "codemirror_mode": {
    "name": "ipython",
    "version": 3
   },
   "file_extension": ".py",
   "mimetype": "text/x-python",
   "name": "python",
   "nbconvert_exporter": "python",
   "pygments_lexer": "ipython3",
   "version": "3.10.13"
  }
 },
 "nbformat": 4,
 "nbformat_minor": 5
}
