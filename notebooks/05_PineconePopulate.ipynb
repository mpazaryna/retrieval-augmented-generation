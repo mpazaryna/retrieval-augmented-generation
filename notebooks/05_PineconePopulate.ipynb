{
 "cells": [
  {
   "cell_type": "code",
   "execution_count": 1,
   "id": "153047ba",
   "metadata": {},
   "outputs": [],
   "source": [
    "from langchain.vectorstores import Chroma\n",
    "from langchain_openai import OpenAIEmbeddings\n",
    "from langchain.text_splitter import RecursiveCharacterTextSplitter\n",
    "from langchain_openai import OpenAI\n",
    "from langchain.chains import RetrievalQA\n",
    "from langchain.document_loaders import TextLoader\n",
    "from langchain.document_loaders import DirectoryLoader\n"
   ]
  },
  {
   "cell_type": "markdown",
   "id": "49fca250",
   "metadata": {},
   "source": [
    "## Load data"
   ]
  },
  {
   "cell_type": "code",
   "execution_count": 2,
   "id": "ac46a72c",
   "metadata": {},
   "outputs": [],
   "source": [
    "docs=\"/teamspace/studios/this_studio/retrieval-augmented-generation/data/\"\n",
    "loader = DirectoryLoader(docs, glob=\"./*.txt\", loader_cls=TextLoader)\n",
    "documents = loader.load()"
   ]
  },
  {
   "cell_type": "markdown",
   "id": "6b48a301",
   "metadata": {},
   "source": [
    "## Split document into nodes"
   ]
  },
  {
   "cell_type": "code",
   "execution_count": 3,
   "id": "8a537bc0-78ee-4dda-a43f-60fd80062df6",
   "metadata": {
    "height": 81,
    "tags": []
   },
   "outputs": [],
   "source": [
    "text_splitter = RecursiveCharacterTextSplitter(chunk_size=1000, chunk_overlap=200)\n",
    "texts = text_splitter.split_documents(documents)"
   ]
  },
  {
   "cell_type": "code",
   "execution_count": 4,
   "id": "934b4203",
   "metadata": {},
   "outputs": [
    {
     "data": {
      "text/plain": [
       "83"
      ]
     },
     "execution_count": 4,
     "metadata": {},
     "output_type": "execute_result"
    }
   ],
   "source": [
    "len(texts)"
   ]
  },
  {
   "cell_type": "code",
   "execution_count": 7,
   "id": "223e2d4c",
   "metadata": {},
   "outputs": [
    {
     "data": {
      "text/plain": [
       "Document(page_content=\"get to the next round of funding Beyond just that product Market fit so product Market fit is just one step just one\\nstep along the way so the the challenge is something we call the The Product Company Gap and I\\nfigured I'd you know since I I actually started a company I figured I'd tell you about a company that actually failed to get across that Gap um and that might be\\nuseful I started a company called padient um it was a mobile payments company QR code payments before it was\\nhappening in China and Korea like we actually had to write we had to code our own QR Code Reader we hired a satellite\\nimagery engineer to build our own QR Reader from scratch the idea was hey we\\ncould use QR codes instead of credit cards to pay for stuff um we knew like we had we started\\ncompanies before and we knew that it was going to be hard to build a company a direct a consumer company how are you\", metadata={'source': '/teamspace/studios/this_studio/retrieval-augmented-generation/data/part1.txt'})"
      ]
     },
     "execution_count": 7,
     "metadata": {},
     "output_type": "execute_result"
    }
   ],
   "source": [
    "texts[3]"
   ]
  },
  {
   "cell_type": "code",
   "execution_count": null,
   "id": "10febb02",
   "metadata": {},
   "outputs": [],
   "source": [
    "# Start Here - New Code"
   ]
  },
  {
   "cell_type": "code",
   "execution_count": 6,
   "id": "cce99452",
   "metadata": {},
   "outputs": [
    {
     "name": "stderr",
     "output_type": "stream",
     "text": [
      "Since the GPL-licensed package `unidecode` is not installed, using Python's `unicodedata` package which yields worse results.\n"
     ]
    }
   ],
   "source": [
    "from langchain.text_splitter import CharacterTextSplitter\n",
    "from langchain.text_splitter import RecursiveCharacterTextSplitter\n",
    "from langchain.docstore.document import Document\n",
    "from langchain.document_loaders import UnstructuredURLLoader\n",
    "from langchain.chains.qa_with_sources import load_qa_with_sources_chain\n",
    "from langchain.vectorstores.pinecone import Pinecone\n",
    "from langchain.chains import RetrievalQA\n",
    "from langchain import OpenAI\n",
    "from langchain_openai import ChatOpenAI\n",
    "from cleantext import clean\n",
    "import os\n",
    "import nltk\n",
    "import pinecone\n",
    "import openai"
   ]
  },
  {
   "cell_type": "code",
   "execution_count": 8,
   "id": "aecd80a7",
   "metadata": {},
   "outputs": [
    {
     "data": {
      "text/plain": [
       "[Document(page_content=\"what we're going to talk today about is how to build a product that scales into\\na company it's a you know it's it's super it's super common that when you start a company you\\nstart with the product so for those of you starting companies did you have a bolt of lightning where I've got a\\nproduct idea and that was the Genesis for starting the conversation ordered or did you spend time deep in an industry\", metadata={'source': '/teamspace/studios/this_studio/retrieval-augmented-generation/data/part1.txt'}),\n",
       " Document(page_content=\"where you understood a problem and decided to explore different products who who started their thinking with a\\nproduct as opposed to as opposed to a market by the way most\\npeople do that's not just I'm not trying to I'm not trying to imply that that's not the right way to do it it's the\\nright way to do it um but it doesn't always scale into a company and so what we want to talk to\", metadata={'source': '/teamspace/studios/this_studio/retrieval-augmented-generation/data/part1.txt'}),\n",
       " Document(page_content='about today is about how you take that product idea and how from the beginning you can build in things like thinking', metadata={'source': '/teamspace/studios/this_studio/retrieval-augmented-generation/data/part1.txt'}),\n",
       " Document(page_content='about today is about how you take that product idea and how from the beginning you can build in things like thinking\\nabout go to market thinking about pricing all the stuff that turns it into a big company as opposed as opposed to\\njust thinking straight about the product to the agenda today is to talk about\\nsomething that we call the the company Gap um and then talk about how we actually design products from the get-go to span', metadata={'source': '/teamspace/studios/this_studio/retrieval-augmented-generation/data/part1.txt'}),\n",
       " Document(page_content=\"to span that Gap and that involves both designing for product go to market fit and by go to market I mean you can\\nactually design products to make them easier to sell and that's super important and then you can architect a business model on top of that which\\nhelps you scale your selling so pricing and all of that stuff so we're going to talk about talk about all that stuff\\ntoday so the problem you've heard the term minimum viable\", metadata={'source': '/teamspace/studios/this_studio/retrieval-augmented-generation/data/part1.txt'}),\n",
       " Document(page_content=\"product you've certainly heard the the term product Market fit um you know but it often doesn't get\", metadata={'source': '/teamspace/studios/this_studio/retrieval-augmented-generation/data/part1.txt'}),\n",
       " Document(page_content=\"today so the problem you've heard the term minimum viable\\nproduct you've certainly heard the the term product Market fit um you know but it often doesn't get\\nenough momentum to build a lasting company product Market fit so in the VC business one of the things we're seed\\ninvestors at underscore and one of the markers we look for when a company is getting ready to a question number one\", metadata={'source': '/teamspace/studios/this_studio/retrieval-augmented-generation/data/part1.txt'}),\n",
       " Document(page_content=\"do they have product Market fit so I do not mean to imply that product Market fit is bad it's just not enough to build\\na big company so when you're going out to raise a series a we want to see a little bit of Revenue we want to see a\\nclass of customer at least a minimum viable segment we'll spend a much time talking about that for which that\\nproduct works and so you've repeatedly sold that product a couple times but there's a lot more that has to happen to\", metadata={'source': '/teamspace/studios/this_studio/retrieval-augmented-generation/data/part1.txt'}),\n",
       " Document(page_content='get to the next round of funding Beyond just that product Market fit so product Market fit is just one step just one', metadata={'source': '/teamspace/studios/this_studio/retrieval-augmented-generation/data/part1.txt'}),\n",
       " Document(page_content=\"get to the next round of funding Beyond just that product Market fit so product Market fit is just one step just one\\nstep along the way so the the challenge is something we call the The Product Company Gap and I\\nfigured I'd you know since I I actually started a company I figured I'd tell you about a company that actually failed to get across that Gap um and that might be\\nuseful I started a company called padient um it was a mobile payments company QR code payments before it was\", metadata={'source': '/teamspace/studios/this_studio/retrieval-augmented-generation/data/part1.txt'}),\n",
       " Document(page_content='happening in China and Korea like we actually had to write we had to code our own QR Code Reader we hired a satellite\\nimagery engineer to build our own QR Reader from scratch the idea was hey we\\ncould use QR codes instead of credit cards to pay for stuff um we knew like we had we started\\ncompanies before and we knew that it was going to be hard to build a company a direct a consumer company how are you', metadata={'source': '/teamspace/studios/this_studio/retrieval-augmented-generation/data/part1.txt'}),\n",
       " Document(page_content='companies before and we knew that it was going to be hard to build a company a direct a consumer company how are you\\ngoing to get millions of people to stop using their cards and and start using QR codes so we took a different strategy to\\ntry to address what I call this Gap to take it from a product idea to something that we can actually deploy at scale in\\nthe marketplace and so we decided to go out after huge retailers we had success', metadata={'source': '/teamspace/studios/this_studio/retrieval-augmented-generation/data/part1.txt'}),\n",
       " Document(page_content=\"signing Best Buy in Walmart and big retailers like that that would use our technology but build it into their own\\napp so we were like okay we're going to use a partner and they're going to be the ones that deploy it for us so we\\ndon't have to do the whole direct-to-consumer thing the problem was we didn't we had no idea\\nhow hard it was to get an I.T department at Walmart or at Best Buy or Target to\", metadata={'source': '/teamspace/studios/this_studio/retrieval-augmented-generation/data/part1.txt'}),\n",
       " Document(page_content='actually deploy this stuff and do the work see that little payment terminal right there that is a 10-year replacement', metadata={'source': '/teamspace/studios/this_studio/retrieval-augmented-generation/data/part1.txt'}),\n",
       " Document(page_content='how hard it was to get an I.T department at Walmart or at Best Buy or Target to\\nactually deploy this stuff and do the work see that little payment terminal right there that is a 10-year replacement\\ncycle doing anything on that payment terminal is like brain surgery for a\\nretailer and so although we ended up selling our company to PayPal because we had good kind of core technology we it', metadata={'source': '/teamspace/studios/this_studio/retrieval-augmented-generation/data/part1.txt'}),\n",
       " Document(page_content=\"never got it never turned into a huge company we got a choir we were doing like 10 million in revenue and even at\\nPayPal with all those resources we couldn't get across the gap into it being a scalable company easy to deploy\\nmillions and millions of users using it on the other hand so not all not all kind of bad news here's an example of a\\ncompany that did get across it so YouTube prior to Google it's founded in 2005 or\", metadata={'source': '/teamspace/studios/this_studio/retrieval-augmented-generation/data/part1.txt'}),\n",
       " Document(page_content=\"so in one year they're one of the fastest growing sites on the internet 20 million 20 million uh users a month\", metadata={'source': '/teamspace/studios/this_studio/retrieval-augmented-generation/data/part1.txt'}),\n",
       " Document(page_content=\"company that did get across it so YouTube prior to Google it's founded in 2005 or\\nso in one year they're one of the fastest growing sites on the internet 20 million 20 million uh users a month\\nabsolutely crazy and in less than two years they require a Google for 1.65 billion dollars which in 2006 was just\\nan absolutely astronomical amount of money they were growing so fast before\\nthey were acquired the platform was falling down it was getting way too expensive to run there was no economic\", metadata={'source': '/teamspace/studios/this_studio/retrieval-augmented-generation/data/part1.txt'}),\n",
       " Document(page_content=\"model whatsoever and there was no prayer of getting across this Gap without someone like Google to come in and what\\nchanged they figured out how to monetize it with advertising and YouTube alone\\nwithin the Google ecosystem is going to be like a 30 billion dollar business this year so there's it is possible to\\nget across that it doesn't have to be Google but you need to think about it's not just having the best YouTube was\", metadata={'source': '/teamspace/studios/this_studio/retrieval-augmented-generation/data/part1.txt'}),\n",
       " Document(page_content=\"get across that it doesn't have to be Google but you need to think about it's not just having the best YouTube was\\namazing it was one of the best product in the world it was one of the fastest growing internet sites but just having the great product isn't enough to get\\nacross this Gap so the whole point of today is to talk about the The Product Company get\\nso it's a it's all about the product right you know it's funny I'm showing the iPhone here Steve Jobs is\", metadata={'source': '/teamspace/studios/this_studio/retrieval-augmented-generation/data/part1.txt'}),\n",
       " Document(page_content=\"I don't know maybe you guys disagree but he's probably the greatest product manager that ever lived period right\\nhe's all about the design all about the Aesthetics of the device so what do you do in this little we're going to try to\\nget a little interactive here and by the way feel free to interrupt me raise hands what was the big innovation for the\\niPhone anyone I mean odd uh the touchscreen\", metadata={'source': '/teamspace/studios/this_studio/retrieval-augmented-generation/data/part1.txt'}),\n",
       " Document(page_content='touch screen touch screen so the second thing you said so touch screen clearly the hardware form factor was Innovative', metadata={'source': '/teamspace/studios/this_studio/retrieval-augmented-generation/data/part1.txt'}),\n",
       " Document(page_content=\"iPhone anyone I mean odd uh the touchscreen\\ntouch screen touch screen so the second thing you said so touch screen clearly the hardware form factor was Innovative\\nthey went for a full screen the device was gorgeous coming out of the gate it was the thing to have it was like a\\nluxury item it felt beautiful that it was packaged beautifully but I'm with you the real Innovation was\\nthe App Store the ability to have tons and you know tons and tons of apps so that your device could be completely\", metadata={'source': '/teamspace/studios/this_studio/retrieval-augmented-generation/data/part1.txt'}),\n",
       " Document(page_content=\"customized to you and not just the App Store one year after the App Store launched you know what they did they\\nthey introduced in-app purchases so the ability to and we're going to talk a lot about this notion of pricing your\\nproducts or making it very easy to deploy products this notion of hey I download an app it's totally free but\\nthen you can upgrade and you can make an in-app purchase and they get 30 of all\", metadata={'source': '/teamspace/studios/this_studio/retrieval-augmented-generation/data/part1.txt'}),\n",
       " Document(page_content=\"products or making it very easy to deploy products this notion of hey I download an app it's totally free but\\nthen you can upgrade and you can make an in-app purchase and they get 30 of all\\nof that so it's not always just the product it's not just Steve Jobs thinking of this you know beautiful\\naesthetically beautiful device it's also the go to market and the pricing and all\\nof that stuff that turned it into what of course is just absolutely Blockbuster business um\", metadata={'source': '/teamspace/studios/this_studio/retrieval-augmented-generation/data/part1.txt'}),\n",
       " Document(page_content=\"so here's something here's something maybe it's surprising for you maybe it's not so you guys are early in your journey how many of those of you who\\nhave started a company how many of you are like actually starting to write code and kind of doing all this stuff\\nanyone writing software yet okay so in the early days of a software\\ncompany certainly you spend all your money on development it's you know maybe one founder is a technical founder one's\", metadata={'source': '/teamspace/studios/this_studio/retrieval-augmented-generation/data/part1.txt'}),\n",
       " Document(page_content=\"anyone writing software yet okay so in the early days of a software\\ncompany certainly you spend all your money on development it's you know maybe one founder is a technical founder one's\\na business founder but the first five hires are going to be more technical people to kind of build out the product and start to do it but as you scale the\\ncompany you end up spending way more money on sales and marketing than you do on on the product and I'll share some\", metadata={'source': '/teamspace/studios/this_studio/retrieval-augmented-generation/data/part1.txt'}),\n",
       " Document(page_content=\"share some data with you that kind of that kind of backs that up what will actually happen is that your expenses will flip so in the early days you've\\ngot your team you hire five or six Engineers certainly as seed investors when we invest in when we invest in seed\\ncompanies very often it's you know one maybe non-technical person and the rest of the folks are Engineers for example\\nno marketing people no director of sales no customer success people but what happens is as you start to\", metadata={'source': '/teamspace/studios/this_studio/retrieval-augmented-generation/data/part1.txt'}),\n",
       " Document(page_content='no marketing people no director of sales no customer success people but what happens is as you start to\\nbring your product to Market and you get past this kind of MVP and what we call founder-led sales where the founders the\\none Founders the one sales person and they go out and close all the deals as you start to get past that what happens\\nis it flips you start to have to spend much more money on on marketing than you do on', metadata={'source': '/teamspace/studios/this_studio/retrieval-augmented-generation/data/part1.txt'}),\n",
       " Document(page_content=\"development now what actually happens is that there's there's in the SAS business\\nand I'm maybe not all of you aren't creating SAS businesses um there's rules that have started to emerge about how you Benchmark companies\\nthat are doing this thing there's a rule called 40 20 20 where for mature mature\\ncompanies in a mature line of business forty percent of the revenue is on sales and marketing 20\", metadata={'source': '/teamspace/studios/this_studio/retrieval-augmented-generation/data/part1.txt'}),\n",
       " Document(page_content=\"um is on product and research so it's actually sick it's actually 60 it's actually uh 60 to 20 60 to 20 in in from\", metadata={'source': '/teamspace/studios/this_studio/retrieval-augmented-generation/data/part1.txt'}),\n",
       " Document(page_content=\"um is on product and research so it's actually sick it's actually 60 it's actually uh 60 to 20 60 to 20 in in from\\nSG a compared to r d for a mature scalable product and this is literally these are literally benchmarks that\\npeople use to to more and more these days too especially since valuations are compressing and everyone actually cares\\nabout metrics again these are benchmarks people use and certainly investors use to Value companies decide how much money\", metadata={'source': '/teamspace/studios/this_studio/retrieval-augmented-generation/data/part1.txt'}),\n",
       " Document(page_content=\"to invest in it this is data and I put a link down here it's actually worth kind of digging into um crunchbase did a survey across all\\nkind of software segments but SAS was one of the biggest ones but social networks and others where they looked at\\nhow the expenditure change how the expenditures on R D changed as a company\\napproached a public offering and if you look Salesforce and log me in to kind of\", metadata={'source': '/teamspace/studios/this_studio/retrieval-augmented-generation/data/part1.txt'}),\n",
       " Document(page_content='put classic public company SAS Salesforce in fact invented the SAS business model and if you see you have', metadata={'source': '/teamspace/studios/this_studio/retrieval-augmented-generation/data/part1.txt'}),\n",
       " Document(page_content=\"approached a public offering and if you look Salesforce and log me in to kind of\\nput classic public company SAS Salesforce in fact invented the SAS business model and if you see you have\\ntheir their products spend as a percentage of Revenue changes as they approached IPO\\njust what I was saying right it's starting to go down both of those companies are profitable you look at a\\nmore recent IPO mongodb they're not profitable even so heading\", metadata={'source': '/teamspace/studios/this_studio/retrieval-augmented-generation/data/part1.txt'}),\n",
       " Document(page_content=\"into the IPO they're kind of trending towards trying to get to that 20 percent but perhaps part of the reason they're\\nnot profitable they're still spending a ton on R D and then when you look at someone like Twitter\\num huge in the early days huge kind of r d expenses generally trending down one\\nof the ones I found super interesting though of course was meta so as meta was getting ready to go public they were a super efficient product organization\", metadata={'source': '/teamspace/studios/this_studio/retrieval-augmented-generation/data/part1.txt'}),\n",
       " Document(page_content=\"right the expenditure of Revenue 10 10 7 10 as a percentage of Revenue\\nwhen you compare it to what's going on now with like the metaverse like these guys that you probably you know you've\\nprobably read some of the stories the stocks tanking and all this they're likely to spend 30 of their revenue now\\non just the metaverse product and so that's an example of a company that was maturity\", metadata={'source': '/teamspace/studios/this_studio/retrieval-augmented-generation/data/part2.txt'}),\n",
       " Document(page_content=\"had kind of r d spent expenses in a more appropriate place but as they invest in a new product line you will see those\\nexpenses go up so it's not that it's a hard and fast rule but on a per product\\nline and certainly when you're just starting up you have to be prepared for the fact that it's going to flip as you\\nstart going forward any is there anything surprising there you what's you have a question question\\non your last slide I think you have something called a g a yeah uh General General and\", metadata={'source': '/teamspace/studios/this_studio/retrieval-augmented-generation/data/part2.txt'}),\n",
       " Document(page_content=\"administrative expenses yeah it's just kind of back office stuff\", metadata={'source': '/teamspace/studios/this_studio/retrieval-augmented-generation/data/part2.txt'}),\n",
       " Document(page_content=\"on your last slide I think you have something called a g a yeah uh General General and\\nadministrative expenses yeah it's just kind of back office stuff\\nso I'm sorry I should have I should be careful with my acronyms you're very right so it's software as a service\\nand so it's it's the notion where you software lives in the cloud typically a subscription-based revenue model\\num it's generally the most popular software pricing model now very few people actually sell software that you\", metadata={'source': '/teamspace/studios/this_studio/retrieval-augmented-generation/data/part2.txt'}),\n",
       " Document(page_content=\"install on on premise and subscription revenues are great for predictability and all that other stuff all right let's\\nkeep going okay so the purpose of this session is how do you think about this stuff up front and how do you build that\\nin to the products the products that you're creating so let's so what we're going to do for the rest of the session today is this is kind of the agenda of\", metadata={'source': '/teamspace/studios/this_studio/retrieval-augmented-generation/data/part2.txt'}),\n",
       " Document(page_content=\"the things that we're going to talk through to kind of guide us through this this this forethought of building\", metadata={'source': '/teamspace/studios/this_studio/retrieval-augmented-generation/data/part2.txt'}),\n",
       " Document(page_content=\"the things that we're going to talk through to kind of guide us through this this this forethought of building\\nproducts for delivery really we're going to start talking about um just the design in the design stage of the\\nproduct how you actually design a product for go to market fit not just product Market fit but go to market fit\\nwe're going to talk a little bit about value prop um a little bit but what we call minimum viable segment and then how you build a\", metadata={'source': '/teamspace/studios/this_studio/retrieval-augmented-generation/data/part2.txt'}),\n",
       " Document(page_content=\"build a repeatable product so when we talk about designing a product for um product Market fit the\\nfirst thing you do when you're building you know a product is you build an MVP it's called minimum viable product\\num this will be a little bit of review just a couple slides I promise we won't we won't harp on it too much\\num but it's super important you triple check your value proposition before you do anything before you spend any money\", metadata={'source': '/teamspace/studios/this_studio/retrieval-augmented-generation/data/part2.txt'}),\n",
       " Document(page_content=\"um but it's super important you triple check your value proposition before you do anything before you spend any money\\nbefore you hire Engineers because if you're not solving a valuable problem nobody's going to pay for it and you\\nwon't you won't build you won't end up building a a valuable company and viable\\nviable just means you can kind of build it and deploy it and the software works it doesn't mean people will pay for it\", metadata={'source': '/teamspace/studios/this_studio/retrieval-augmented-generation/data/part2.txt'}),\n",
       " Document(page_content=\"so it's important that you really double and triple check that value proposition before you spend even a dime so you have\\nthat you have confidence in it this may look familiar to you this was part of the stuff that was discussed in that previous session two weeks ago you know\\nthis is the framing that we use to talk about kind of to value proposition but is is this a product that addresses\\na need is there an unworkable unavoidable urgent problem or an underserved Market we call it the four\", metadata={'source': '/teamspace/studios/this_studio/retrieval-augmented-generation/data/part2.txt'}),\n",
       " Document(page_content=\"a need is there an unworkable unavoidable urgent problem or an underserved Market we call it the four\\nuse and then there's the 3DS is the solution the product that you've built is it discontinuous is it defensible is\\nit disruptive and again um I know this is a little bit of a little bit of review and we do those of you remember\\nwe did we talk about something called the black and white framework is is the product you know on that you kind of you\", metadata={'source': '/teamspace/studios/this_studio/retrieval-augmented-generation/data/part2.txt'}),\n",
       " Document(page_content=\"get we have a nice two by two here where we talk about blatant latent aspirational and critical good example of latent and aspirational\\nGucci it's it's obviously aspirational generally speaking you see products that\\nlook like that more on the direct the consumer side consumers like it you can build gigantic multi-billion companies\\nwith something that's latent and aspirational so that doesn't mean bottom left quadrant is bad at all in this case\", metadata={'source': '/teamspace/studios/this_studio/retrieval-augmented-generation/data/part2.txt'}),\n",
       " Document(page_content=\"um but it's not it's not um it's not blatant and critical on the other hand\", metadata={'source': '/teamspace/studios/this_studio/retrieval-augmented-generation/data/part2.txt'}),\n",
       " Document(page_content=\"with something that's latent and aspirational so that doesn't mean bottom left quadrant is bad at all in this case\\num but it's not it's not um it's not blatant and critical on the other hand\\num those of you who are old enough or as old as me remember when the cell phone came out cell phone was a status symbol\\nfor a long time at first it was in the car you had cords and stuff there was no good reason to do that other than to\", metadata={'source': '/teamspace/studios/this_studio/retrieval-augmented-generation/data/part2.txt'}),\n",
       " Document(page_content=\"flex on your friends and especially when you know the phones were like this big and you had to hold them hold them with two hands it didn't take long and the\\niPhone and the maturity of android devices really really changed it before it became absolutely blatant and\\ncritical it's critical you know I have kids like kids get phones when they're 10 11 12 because you don't even know how\\nto pick them up at the bus it's blatant and critical for consumers it's blatant and critical for business so it is\", metadata={'source': '/teamspace/studios/this_studio/retrieval-augmented-generation/data/part2.txt'}),\n",
       " Document(page_content='possible for products to move from latent and aspirational up as they', metadata={'source': '/teamspace/studios/this_studio/retrieval-augmented-generation/data/part2.txt'}),\n",
       " Document(page_content=\"to pick them up at the bus it's blatant and critical for consumers it's blatant and critical for business so it is\\npossible for products to move from latent and aspirational up as they\\nmature and then I thought I'd just give a you know a little example of another one so\\nOculus or VR glasses any of you play VR games guilty um it's latent and aspirational now it's\\nliterally a toy um or or is it\", metadata={'source': '/teamspace/studios/this_studio/retrieval-augmented-generation/data/part2.txt'}),\n",
       " Document(page_content=\"it's not this is an example of something that right now you might argue is still sitting in that lower left quadrant as\\nan aspirational product it's clearly going to move up up into the right and\\nnot just because of what meta is doing with the metaverse but because of Industry um you know the ability to check this I\\nthink one of that screenshot at the top was the ability to kind of check the skin of an aircraft with VR goggles that can kind of detect stuff that you can't\", metadata={'source': '/teamspace/studios/this_studio/retrieval-augmented-generation/data/part2.txt'}),\n",
       " Document(page_content=\"with your eyes to operate Factory machinery and you know not a pleasant subject but every day on TV with what's\", metadata={'source': '/teamspace/studios/this_studio/retrieval-augmented-generation/data/part2.txt'}),\n",
       " Document(page_content=\"with your eyes to operate Factory machinery and you know not a pleasant subject but every day on TV with what's\\ngoing on Ukraine you see what's going on with drones and everybody is wearing VR goggles to Pilot those drones it's now\\nit's now a absolutely common part of War fighting question in India we have a defense incubation\\nCenter called uh Forge okay and the weaponizing Drone part is something that\\nthat is so deeply rooted with arvi and uh and uh and camera with his drones is\", metadata={'source': '/teamspace/studios/this_studio/retrieval-augmented-generation/data/part2.txt'}),\n",
       " Document(page_content=\"it's so critical that at any particular point of time there is a pilot flying that Dune and he or she is supposed to\\nneutralize some targets and even a latency lag of a microsecond can\\ncan result in someone else being shot so this is how critical it is becoming literally literally life and death yes\\nliterally life and death literally life and death and it's you know and look not everyone's building kind of you know a hardware product that that evolves and\", metadata={'source': '/teamspace/studios/this_studio/retrieval-augmented-generation/data/part2.txt'}),\n",
       " Document(page_content=\"literally life and death literally life and death and it's you know and look not everyone's building kind of you know a hardware product that that evolves and\\nmaybe you are that evolves in that way the broader point is to think about how your product fits in this Matrix in the\\nlate and aspirational blatant and critical Matrix as part of your envisioning your value proposition so\\nyou understand whether you're building something that's valuable and that may be even more valuable as you as you kind\", metadata={'source': '/teamspace/studios/this_studio/retrieval-augmented-generation/data/part2.txt'}),\n",
       " Document(page_content=\"of grow into it so when we talk about bringing an MVP um to Market\\nminimum viable product you've built and I'll I'll continue to do software examples just since that's my word and I apologize if you're You\\nKnow You're Building you're building something else or a piece of Hardware but you build something small typically you're building a fraction of your total\\nvision and you and you've got an idea of the people that you want to sell it to\", metadata={'source': '/teamspace/studios/this_studio/retrieval-augmented-generation/data/part2.txt'}),\n",
       " Document(page_content=\"vision and you and you've got an idea of the people that you want to sell it to\\nbut the most important thing is to be able to sell it to somebody repeatably and to be successful when you do that\\nand that almost always means you need to find what we call a minimum viable segment and what do I mean by that\\nwhat it means is of your Grand Market where you have a dream of you know building a deck of corn that could you\", metadata={'source': '/teamspace/studios/this_studio/retrieval-augmented-generation/data/part2.txt'}),\n",
       " Document(page_content=\"know sell all of your stuff to all of these people you find one segment of that that has consistent needs either\\nbased on the four U's and and the 3DS and stuff that we talked about but it has consistent needs that you think you\\ncan take your small product solve a problem that's important enough for them\\nand do it over and over again because one of the most important things when you're when you're starting a company is\\nto be able to prove to yourself and prove to eventually your investors that\", metadata={'source': '/teamspace/studios/this_studio/retrieval-augmented-generation/data/part2.txt'}),\n",
       " Document(page_content=\"and do it over and over again because one of the most important things when you're when you're starting a company is\\nto be able to prove to yourself and prove to eventually your investors that\\nyou're solving a problem that's important enough even if that first segment is relatively tiny is not enough to you know do 100 million dollars of\\nRevenue at scale prove that your first idea either works or doesn't for a minimum viable segment\", metadata={'source': '/teamspace/studios/this_studio/retrieval-augmented-generation/data/part2.txt'}),\n",
       " Document(page_content=\"before you try to blow it out and create something much much bigger it's absolutely critical to think that way\\nand so you find the MVP you fit it into these needs and by the way you ignore\\nthose other segments for now you've got your minimum viable segment and all you want to do is make them successful\\nquestion was the size of the minimal by all segment it depends on what you're\", metadata={'source': '/teamspace/studios/this_studio/retrieval-augmented-generation/data/part2.txt'}),\n",
       " Document(page_content=\"building ideally you want to be able to generate some Revenue in there but what but as investors we don't when someone\", metadata={'source': '/teamspace/studios/this_studio/retrieval-augmented-generation/data/part2.txt'}),\n",
       " Document(page_content=\"question was the size of the minimal by all segment it depends on what you're\\nbuilding ideally you want to be able to generate some Revenue in there but what but as investors we don't when someone\\ntalks about a minimum viable segment we're not we don't ask about the Tam for a minimum viable segment so the way we\\nthink about it is that the segment is small enough that if you're right for the problem you're solving you can\", metadata={'source': '/teamspace/studios/this_studio/retrieval-augmented-generation/data/part2.txt'}),\n",
       " Document(page_content=\"dominate you could actually dominate that market so you've kind of you've carved out a space that's like okay maybe there's not 100 competitors I'm\\ngoing right after this thing I'm solving a very particular problem and I can absolutely dominate it and by dominating\\nit it's viable you've proven you can succeed in this market with your first idea and by the way doesn't matter if\", metadata={'source': '/teamspace/studios/this_studio/retrieval-augmented-generation/data/part2.txt'}),\n",
       " Document(page_content=\"it's your first idea because you might try you might try it it might be a second it might be your third iteration but it's small bets you're not making\", metadata={'source': '/teamspace/studios/this_studio/retrieval-augmented-generation/data/part2.txt'}),\n",
       " Document(page_content=\"it's your first idea because you might try you might try it it might be a second it might be your third iteration but it's small bets you're not making\\nyou're not betting the whole house kind of right out of the gate but you want to make sure that there that it's a\\ncombination of pain points budget product use case Channel How would you\\nsell into them how would you sell into that customer profile and the the center\\nof the Venn diagram is your your MBS cluster of demand that was actually uh\", metadata={'source': '/teamspace/studios/this_studio/retrieval-augmented-generation/data/part2.txt'}),\n",
       " Document(page_content=\"actually coined by a um as trainer the founder of intercoms of deca corn out on\\nthe west coast um and so and that's important right because what you've done is you've simplified the problem there's only one\\nchannel you're only talking to one department for their budget it's a simple product use case but you want it\\nto be you want it to be big enough that you can prove those points but it's not about at this point it's not about\\nRevenue it's about showing that you that your basic idea and then\", metadata={'source': '/teamspace/studios/this_studio/retrieval-augmented-generation/data/part2.txt'}),\n",
       " Document(page_content=\"to be you want it to be big enough that you can prove those points but it's not about at this point it's not about\\nRevenue it's about showing that you that your basic idea and then\\nyou repeat it and that you can repeatably sell it so you've got it you've found a couple customers that\\nwant to take this product and then you find five more that look just like them and you're able to do that then you have\", metadata={'source': '/teamspace/studios/this_studio/retrieval-augmented-generation/data/part2.txt'}),\n",
       " Document(page_content=\"something and then you know you can put the pedal to the metal and be like okay I've got this like I'm dominating and by\\nthe way sometimes you can actually go out and raise money just by if the segment to your point if that minimum viable segment is small enough and\\nyou're getting just traction and and we'll talk about business models in a second if you've got a plg product LED\", metadata={'source': '/teamspace/studios/this_studio/retrieval-augmented-generation/data/part2.txt'}),\n",
       " Document(page_content=\"growth where it's free to try and all of a sudden people just order start coming in sometimes you can raise money on that\", metadata={'source': '/teamspace/studios/this_studio/retrieval-augmented-generation/data/part2.txt'}),\n",
       " Document(page_content=\"growth where it's free to try and all of a sudden people just order start coming in sometimes you can raise money on that\\nfirst shot because you've proved you've got something going especially if you have the vision the expansion Vision to\\ngo along with it so here's an example um this is an example from our our portfolio\\num a portfolio from a company that first did it the wrong way and then switched\", metadata={'source': '/teamspace/studios/this_studio/retrieval-augmented-generation/data/part2.txt'}),\n",
       " Document(page_content=\"and figured it out so it's a company called the ploy um and when they started what they do is they're um they're a health care hiring\\nand onboarding platform nurses doctors um you know a physician's assistant Etc\\nall of that stuff but they had a Grand Vision for what the platform was going\\nto do they had 20 different features they were going to have nurses doctors Skilled Nursing Home Health Care senior\\ncenters vets like everything spent a lot of time trying to build the\", metadata={'source': '/teamspace/studios/this_studio/retrieval-augmented-generation/data/part2.txt'}),\n",
       " Document(page_content='product across it and did not do well they struggled struggled to raise money struggled to kind of get off the ground', metadata={'source': '/teamspace/studios/this_studio/retrieval-augmented-generation/data/part2.txt'}),\n",
       " Document(page_content=\"centers vets like everything spent a lot of time trying to build the\\nproduct across it and did not do well they struggled struggled to raise money struggled to kind of get off the ground\\nthey peeled the whole thing back and said you know what hiring nurses nothing else\\nand they had Tailwinds from the pandemic but they did this they've been they made that switch before the pandemic the\\ncompany started going like this and now if you go to their website guess what's back\", metadata={'source': '/teamspace/studios/this_studio/retrieval-augmented-generation/data/part2.txt'}),\n",
       " Document(page_content=\"Home Health Care Senior Living veterinary care because they prove to themselves prove to their investors that\\nthey were onto something honed the value proposition then expanded tried to do too much at first went for the minimum\\nviable segment boom and now they're one of the best performing companies in our portfolio question yes the question I\\nhave how do you you determine the price for your MVP so we're gonna we're gonna talk a little bit about pricing so let\", metadata={'source': '/teamspace/studios/this_studio/retrieval-augmented-generation/data/part2.txt'}),\n",
       " Document(page_content=\"have how do you you determine the price for your MVP so we're gonna we're gonna talk a little bit about pricing so let\\nme I promise you we'll get we're going to do a whole little chunk on on pricing because it's it's it's really important\\num so pause that and then you've hit me up if I don't get it right is there a question in the back how do you balance\\nsimplifying the problem and going through the small segment um with I guess like pigeonholing yourself into one like solving one\", metadata={'source': '/teamspace/studios/this_studio/retrieval-augmented-generation/data/part2.txt'}),\n",
       " Document(page_content=\"problem when versus the multiple that you may have in your longer term Vision yes so I'll put on the investor hat so\\nwhen we really like to see people that in there because then seed investors so we're usually like the first real check\\ninto a company and so we re we're betting on two things we're betting on\\nyou and we're betting that the vision is big enough to build a big company and so\", metadata={'source': '/teamspace/studios/this_studio/retrieval-augmented-generation/data/part2.txt'}),\n",
       " Document(page_content=\"the vision is absolutely critical an understanding of what you want to become how big it is how you could that's what\", metadata={'source': '/teamspace/studios/this_studio/retrieval-augmented-generation/data/part2.txt'}),\n",
       " Document(page_content=\"you and we're betting that the vision is big enough to build a big company and so\\nthe vision is absolutely critical an understanding of what you want to become how big it is how you could that's what\\nyou know that's when you get the questions on Tam and all this how big like VCS will come right out and ask you how big can this get sometimes they'll\\nturn you down and they'll be very blunt and just say I'm not sure this can be a big enough company so the vision is\", metadata={'source': '/teamspace/studios/this_studio/retrieval-augmented-generation/data/part2.txt'}),\n",
       " Document(page_content=\"critical but when you start spending money and you know hiring Engineers or other people to build something or a factory\\nEtc start with the small but always be able to articulate the big story\\nis that is that helpful another question about the town uh what\\nif you're doing well sure like there's lots of ways to do a company so um the VC rock kind of assumes you're\\ngoing after a large market right but you can still have a very successful business you know making dollars a year\", metadata={'source': '/teamspace/studios/this_studio/retrieval-augmented-generation/data/part2.txt'}),\n",
       " Document(page_content=\"going after a large market right but you can still have a very successful business you know making dollars a year\\nto be a smaller company um but probably can't go to the BC Rob for that I'm assuming right\\nso so 100 and if you and I were having a beer together and you were talking about starting company we'd have a very\\nserious conversation about whether you want to build a VC backed company or whether you want to build a different type of business and the reason is\", metadata={'source': '/teamspace/studios/this_studio/retrieval-augmented-generation/data/part2.txt'}),\n",
       " Document(page_content=\"exactly what you said as Founders and this just goes against the business I'm in but as Founders you can build an\\nawesome business without taking VC money you can do SBA Loans you can do grants you can do all sorts of other stuff and\\ncontinue to own most of the company and build a company that would not be interesting to VCS but would be an\\namazing outcome for you for your family for what and lifestyle so it's an\", metadata={'source': '/teamspace/studios/this_studio/retrieval-augmented-generation/data/part2.txt'}),\n",
       " Document(page_content=\"continue to own most of the company and build a company that would not be interesting to VCS but would be an\\namazing outcome for you for your family for what and lifestyle so it's an\\nimportant decision like you shouldn't just assume that VC is the only I think that's what you're getting at right that's not the only like because because\\nI heard like a VCU might say no but then like somebody might take that as a value\", metadata={'source': '/teamspace/studios/this_studio/retrieval-augmented-generation/data/part2.txt'}),\n",
       " Document(page_content=\"judgment of their company even if a VC is not interested it can still be a very good company right yeah totally agree\\nand you know and certainly I try to be direct on nose and you know and it's and\\nit's worthwhile if you're having a conversation with the VC and they say no try to cut through\\ntry to cut through the response right try to try to cut through the the kind of hand wavy response say no no I\", metadata={'source': '/teamspace/studios/this_studio/retrieval-augmented-generation/data/part2.txt'}),\n",
       " Document(page_content='actually would really love feedback I love when founders do that and I will I will flat out say hey', metadata={'source': '/teamspace/studios/this_studio/retrieval-augmented-generation/data/part2.txt'}),\n",
       " Document(page_content=\"actually would really love feedback I love when founders do that and I will I will flat out say hey\\nthat sounds awesome that sounds like the kind of company I would want to work for here's how we think about investing in\\nbusinesses our business we're venture capital is largely a hits business you want to invest in companies\\nthat can become very very large 100 million in revenue is kind of how we think about it we're like we want to be able to see a company that without\", metadata={'source': '/teamspace/studios/this_studio/retrieval-augmented-generation/data/part2.txt'}),\n",
       " Document(page_content=\"squinting at it could become 100 million company therefore worth a billion dollars or more and if you have\\nsomething that's a small a smaller market and it's you know you and the biggest company that's ever existed in that space is only 50 million that's\\nokay especially if you've got a better product but will tell you directly that it's probably not a the word we use is a\\nventure scale business but that doesn't mean it can't be an awesome business totally true\", metadata={'source': '/teamspace/studios/this_studio/retrieval-augmented-generation/data/part2.txt'}),\n",
       " Document(page_content=\"venture scale business but that doesn't mean it can't be an awesome business totally true\\nhow do you carve out which is the minimum viable segment so in this case of the upload they have Veterinary\\nSenior Living Healthcare nurses all these like different segments that have different needs and different features\\nfor the product they're building how do you choose one of them to start focusing or if you're building a fintech you have\", metadata={'source': '/teamspace/studios/this_studio/retrieval-augmented-generation/data/part2.txt'}),\n",
       " Document(page_content=\"low income middle income unbanked unemployed formal employees economy and you can build a product and solo problem\\nlike for a whole lot of customers but depending on the segment your will look differently how do you\\nwhat is your criteria to choose one segment to start trying that MBS so the best answer is will be very unsatisfying\\nbut it it's talked to 200 potential customers and in your universe so if you\", metadata={'source': '/teamspace/studios/this_studio/retrieval-augmented-generation/data/part2.txt'}),\n",
       " Document(page_content=\"look at if you look at go back to kind of the big the big universe that we're talking about you talk to as many people in that\", metadata={'source': '/teamspace/studios/this_studio/retrieval-augmented-generation/data/part2.txt'}),\n",
       " Document(page_content=\"look at if you look at go back to kind of the big the big universe that we're talking about you talk to as many people in that\\nUniverse before you do anything before you spend a dime before you drop out of HBS you talk to those you get on an\\nairplane you talk to those 200 you talk to those 200 customers and you start you start doing pattern recognition that's\\nthe best way it doesn't cost anything other than time which obviously has value but doing that and understanding\", metadata={'source': '/teamspace/studios/this_studio/retrieval-augmented-generation/data/part2.txt'}),\n",
       " Document(page_content=\"where your idea resonates the most and and you guys I'm sure you've taken tons of classes on it but when you talk to a\\ncustomer you're not just saying hey what do you think of my idea you're saying how much would you pay for it or you're saying what are the four most critical\\nthings in your organization that if I could solve them for you tomorrow you'd be willing to pay for it's that sort of\", metadata={'source': '/teamspace/studios/this_studio/retrieval-augmented-generation/data/part2.txt'}),\n",
       " Document(page_content='q a you do this you know you go on a you go on a tour and you talk to all these customers and from there you start to', metadata={'source': '/teamspace/studios/this_studio/retrieval-augmented-generation/data/part2.txt'}),\n",
       " Document(page_content=\"q a you do this you know you go on a you go on a tour and you talk to all these customers and from there you start to\\nmake some guesses of what it would be and then you can do stuff by the way you don't need to build a complete product\\neither to do this we would do it PayPal as a PayPal for five years we can do paper prototypes like we would literally\\nbring people into our our focused you know with corresponsive focus group sessions but it doesn't have to be fancy\", metadata={'source': '/teamspace/studios/this_studio/retrieval-augmented-generation/data/part2.txt'}),\n",
       " Document(page_content=\"you can sit in a Starbucks with paper mock-ups with one of your customers and kind of describe what you were trying to\\nbuild to get feedback it can be very inexpensive it's it's like it's gorilla customer research\\nbut that's the way to do it is to actually talk to them and then as if you have a workable prototype or a clickable\\nprototype something that doesn't have any code behind it then you can go back and refine and see if your original assumptions were right and wash rinse\", metadata={'source': '/teamspace/studios/this_studio/retrieval-augmented-generation/data/part2.txt'}),\n",
       " Document(page_content=\"prototype something that doesn't have any code behind it then you can go back and refine and see if your original assumptions were right and wash rinse\\nand repeat until you feel confident enough okay I'm gonna actually spend some money on again in software real software development\\napproach them with an idea and see to which segmented resonates more or you approach to them just to understand the\\ndifferent problems they have to then build an idea around them either it\", metadata={'source': '/teamspace/studios/this_studio/retrieval-augmented-generation/data/part2.txt'}),\n",
       " Document(page_content=\"depends on who you are and the type of company you're starting and how you want to start it's you know I asked everyone\\nto raise who started with a product idea right that a lot of people think startup is all about you wake up from a dream\\nI've got this product idea I'm going to build this thing right lots of people start companies by just going and\\ninterviewing a segment like you might have an interest I'm interested in veterinary care or whatever just to harp\", metadata={'source': '/teamspace/studios/this_studio/retrieval-augmented-generation/data/part2.txt'}),\n",
       " Document(page_content=\"interviewing a segment like you might have an interest I'm interested in veterinary care or whatever just to harp\\non a similar theme and rather than kind of trying to invent the product I'm going to have coffee with 200 vets and\\nask them what their pain points are that's even ideally that's even better than kind of\\ndreaming up a product and going and test it to them because it's even cheaper does that make to make sense\\nhow do you go about getting your 200 events\", metadata={'source': '/teamspace/studios/this_studio/retrieval-augmented-generation/data/part2.txt'}),\n",
       " Document(page_content=\"that's old that's old-fashioned pounding the payment that's I mean there's there's no there's no shortcut to that\\nyou can buy lists you can get on LinkedIn you can ask every single you can walk into where you dog where you\\ntake your dog gets taken care of and ask them for introductions that's that's largely old school I mean other than\\nkind of buying a list the nice thing is that so much of that stuff's online it's not super hard to quickly generate a\", metadata={'source': '/teamspace/studios/this_studio/retrieval-augmented-generation/data/part2.txt'}),\n",
       " Document(page_content=\"kind of buying a list the nice thing is that so much of that stuff's online it's not super hard to quickly generate a\\nlist of folks to talk to you show up at a conference is a good one you buy just a you buy a guest pass to a conference\\nof vets and you start walking around and meeting people at the bar or whatever that's I actually like doing that I just\", metadata={'source': '/teamspace/studios/this_studio/retrieval-augmented-generation/data/part2.txt'}),\n",
       " Document(page_content=\"think that sort of thing you start to go to a conference I had a buddy who was trying to you know was going and starting to get into the contracting\\nbusiness and he started going to architect conferences that was it he just bought a pass and he's not an architect and he went and he just\\nstarted meeting people and realized for this there was a segment that was underserved in construction\\nokay minimum vile segment crazy Venn diagram but what you're really doing is simplifying the problem\", metadata={'source': '/teamspace/studios/this_studio/retrieval-augmented-generation/data/part2.txt'}),\n",
       " Document(page_content=\"before you start pouring a lot of money into a hole it's not just about product Market fit narrow your target segment it\", metadata={'source': '/teamspace/studios/this_studio/retrieval-augmented-generation/data/part2.txt'}),\n",
       " Document(page_content=\"before you start pouring a lot of money into a hole it's not just about product Market fit narrow your target segment it\\nby need really really focus your product but this helps not just the product building part of the equation it helps\\nyou start to hone your messaging and how you talk about it not just to potential customers but to investors it lets you\", metadata={'source': '/teamspace/studios/this_studio/retrieval-augmented-generation/data/part2.txt'}),\n",
       " Document(page_content=\"start to think about packaging and pricing because when you ask when you ask someone you're on your tour for 200 you know 200 people you're trying to\\nfigure out your minimum viable segment hopefully your little 10 question list includes things like how much would you pay what do you have a similar product\\ntoday how is that packaged how does that priced what do you like about that what do you hate about that when you have\", metadata={'source': '/teamspace/studios/this_studio/retrieval-augmented-generation/data/part2.txt'}),\n",
       " Document(page_content=\"these conversations and you're narrowing your target you start to get answers to all these\\nquestions doesn't mean you get it 100 right but you start to land on a place where you've got something you feel like\", metadata={'source': '/teamspace/studios/this_studio/retrieval-augmented-generation/data/part2.txt'}),\n",
       " Document(page_content=\"questions doesn't mean you get it 100 right but you start to land on a place where you've got something you feel like\\nyou can kind of wedge into this this minimum viable segment you start to learn things like channels and\\ndistribution Partners I'm going to talk about all kind of all this stuff in a second and reference selling Network\\neffects viral business alignment we're going to go into all this stuff and so this is just a agenda slide we kind\", metadata={'source': '/teamspace/studios/this_studio/retrieval-augmented-generation/data/part2.txt'}),\n",
       " Document(page_content=\"of Hit the front part we're going to go into the back half getting to Market um\\nwe're kind of trying around with this this word product facilitation um what we're really talking about is\\ngetting facilitating getting your products into people's hands so that they so that they so that they purchase\\nit and you know what if you could literally slip into the lead in your minimum viable segment and so we've\", metadata={'source': '/teamspace/studios/this_studio/retrieval-augmented-generation/data/part2.txt'}),\n",
       " Document(page_content=\"created a mnemonic device here we call it slip and we're going to kind of walk through four key elements of this that\", metadata={'source': '/teamspace/studios/this_studio/retrieval-augmented-generation/data/part2.txt'}),\n",
       " Document(page_content=\"created a mnemonic device here we call it slip and we're going to kind of walk through four key elements of this that\\nwe think can really really help um how you it's a good framework for thinking about how you build a product\\nthat will be very very easy to distribute um the four the mnemonic device goes\\nlike this it's slip s is simple to install and use low to no initial cost instant and\\nongoing value and plays well on the ecosystem this is very similar to and you can read all\", metadata={'source': '/teamspace/studios/this_studio/retrieval-augmented-generation/data/part2.txt'}),\n",
       " Document(page_content=\"sorts of books on the notion of product-led growth and so you'll see some similarities there it doesn't mean it's not meant to replace it's more of a\\nmnemonic device that that helps you think about the different components of product-led growth so simple to install\\num you know one way to think about is out of the box experience and I don't necessarily mean I'm using that as a as\\na metaphor it doesn't necessarily mean there's a box but if there is a box it does mean hey it's easy to open the\", metadata={'source': '/teamspace/studios/this_studio/retrieval-augmented-generation/data/part2.txt'}),\n",
       " Document(page_content=\"a metaphor it doesn't necessarily mean there's a box but if there is a box it does mean hey it's easy to open the\\npackaging it's easy to take it out it's easy to assemble but if it's software out of the box experiences hey how how\\nis this super super easy to install do I have to even think about it is the onboarding process really really really\\nreally really easy and you want it to be simple to use as well it's not just simple to get going\", metadata={'source': '/teamspace/studios/this_studio/retrieval-augmented-generation/data/part2.txt'}),\n",
       " Document(page_content=\"but simple to use complexity is almost always bad in kind of an onboarding process of any sort for\\nsoftware um and the first and you need to think about you know first principles Advantage disadvantage\\nthe true competitive Advantage is a combination of innovation and\\nsimplicity so you wanna you wanna innovate but it can't be Innovative to\\nthe point where it's so complex that no one will ever use this thing because then you then you just get tripped up even even if you've been successful in\", metadata={'source': '/teamspace/studios/this_studio/retrieval-augmented-generation/data/part2.txt'}),\n",
       " Document(page_content=\"selling it right out of the gate less is almost always more I know we keep I know we keep talking about kind of Simplicity\\nSimplicity minimum viable segments and all this stuff you look at you know these two remotes one is clearly a\\nsuperior product easier to use and all of that stuff and you know it's like it's the reason why things like\\nsoftware as a service like you know Google Docs and all that stuff like you know I don't know if any of you have used word recently it's like it's insane\", metadata={'source': '/teamspace/studios/this_studio/retrieval-augmented-generation/data/part3.txt'}),\n",
       " Document(page_content='like the number of menus and the number of features and all that stuff and people have kind of pulled back from that in general in the software world\\nand are really looking for products that solve basic problems super super super easy and this is just an obvious obvious\\nexam whoops wrong way obvious example um and simplify it and see to simplify\\nit to your core value again this is just focus guys especially for this first kind of wave', metadata={'source': '/teamspace/studios/this_studio/retrieval-augmented-generation/data/part3.txt'}),\n",
       " Document(page_content=\"exam whoops wrong way obvious example um and simplify it and see to simplify\\nit to your core value again this is just focus guys especially for this first kind of wave\\nof investment that you're going to be making keep it simple minimum viable segment solve one or two maybe three critical\\nproblems for this group that you've identified that has a handful of needs and nail it\\noh the question Yeah question for you so the introduces showed\", metadata={'source': '/teamspace/studios/this_studio/retrieval-augmented-generation/data/part3.txt'}),\n",
       " Document(page_content=\"what the the remotes yeah so you said one is clearly the most Superior and\\nsimple simple um to use but I don't know I would say maybe you could say one is\\nmore Superior and the other would be more simpler you're right I made a value judgment\\nyou're you're totally right like there in this in this particular case where\\nbuttons versus control services and stuff happens to be a fairly uh\\nsubjective uh subjective uh design principle um Apple historically absolute leaders\", metadata={'source': '/teamspace/studios/this_studio/retrieval-augmented-generation/data/part3.txt'}),\n",
       " Document(page_content=\"in design they create a device that's tiny the battery on that little thing lasts a year\", metadata={'source': '/teamspace/studios/this_studio/retrieval-augmented-generation/data/part3.txt'}),\n",
       " Document(page_content=\"subjective uh subjective uh design principle um Apple historically absolute leaders\\nin design they create a device that's tiny the battery on that little thing lasts a year\\num is it Superior design would you prefer to use it rather than buttons you're right it's personal taste I can't give\\nyou like hard facts and data but I will tell you this that the notion of instant gratification in consumers has become\", metadata={'source': '/teamspace/studios/this_studio/retrieval-augmented-generation/data/part3.txt'}),\n",
       " Document(page_content=\"very very powerful um you kind of started with the internet and being able to get online instantly you can purchase something with you can\\npurchase something with one click you order something that's in your house in one day like this whole this whole push\\ntowards everything is one motion economy of motion and then you get you get the\\ndopamine hit of your pet you know your Amazon package showing up within 24 hours of ordering it that is a trend and\", metadata={'source': '/teamspace/studios/this_studio/retrieval-augmented-generation/data/part3.txt'}),\n",
       " Document(page_content=\"that's that's clearly happened um there's also economies of economies of scale and building simpler simpler\", metadata={'source': '/teamspace/studios/this_studio/retrieval-augmented-generation/data/part3.txt'}),\n",
       " Document(page_content=\"that's that's clearly happened um there's also economies of economies of scale and building simpler simpler\\ndevices that do one thing incredibly well um especially with consumer devices\\nthough it is it's consumer consumer devices in particular are very taste driven do I think that we're gonna you\\nknow go back to a world of you know giant phones with lots of buttons I don't um\\nI think that this this this technological move into kind of simpler\", metadata={'source': '/teamspace/studios/this_studio/retrieval-augmented-generation/data/part3.txt'}),\n",
       " Document(page_content=\"looking devices aesthetic devices is probably permanent\\nso is this framework part of testing the MVP because what I'm struggling with this\\nespecially for Hardware products how to use these framework because initially\\nyou are going to start with something over time it well well not necessarily I mean so\\nyou're a hardware person is that is that why you're asking tell me tell me about what you're working on I'd like to\\nlike like one thing but\", metadata={'source': '/teamspace/studios/this_studio/retrieval-augmented-generation/data/part3.txt'}),\n",
       " Document(page_content='but are embedded in Furniture yeah oh awesome right but then\\nthe technology takes time to evolve but we', metadata={'source': '/teamspace/studios/this_studio/retrieval-augmented-generation/data/part3.txt'}),\n",
       " Document(page_content=\"like like one thing but\\nbut are embedded in Furniture yeah oh awesome right but then\\nthe technology takes time to evolve but we\\nso so I think I think what you're referring to and correct me if I'm wrong is that when you design something\\non a hardware basis especially electronic device you've got breadboards you've got wires coming out all over the\\nplace it's maybe bigger than you want it to be at scale and all that stuff there's the complexity of a prototype\", metadata={'source': '/teamspace/studios/this_studio/retrieval-augmented-generation/data/part3.txt'}),\n",
       " Document(page_content=\"um what I'm more talking about is the complexity of the problem that you're solving so you could have this crazy\\nprototype that looks like look you know this rube goldbergian crazy thing that kind of came out of the lab and looks\\nlike it but what you're really testing is if I put a piece of cloth over it and I just rest my phone on it that it instantly\\nstarts charging and so it's it's the Simplicity of the use case more than especially in the early days of when\", metadata={'source': '/teamspace/studios/this_studio/retrieval-augmented-generation/data/part3.txt'}),\n",
       " Document(page_content=\"starts charging and so it's it's the Simplicity of the use case more than especially in the early days of when\\nyou're prototyping Hardware does that make sense is that a fair answer is it because it's not like is that because I\\nI'm what I'm if you had told me hey the first device we have is going to allow\\ncharging in an armchair and charging on a refrigerator and it's going to have it's going to have a connection for you\", metadata={'source': '/teamspace/studios/this_studio/retrieval-augmented-generation/data/part3.txt'}),\n",
       " Document(page_content=\"know Apple watches and and airpods and all this other stuff I would actually say why don't you just start with the\\nlet's make sure the armchair works and the consumers like it like someone a Furniture maker because you'd probably want to do that through Partners a\\nFurniture maker would actually embed your charging pad your charging pad into that get that question answered before\", metadata={'source': '/teamspace/studios/this_studio/retrieval-augmented-generation/data/part3.txt'}),\n",
       " Document(page_content=\"you start adding features to it that's that's the Simplicity that I'm trying to drive you towards does that make sense is it okay all right yeah yeah one of\", metadata={'source': '/teamspace/studios/this_studio/retrieval-augmented-generation/data/part3.txt'}),\n",
       " Document(page_content=\"you start adding features to it that's that's the Simplicity that I'm trying to drive you towards does that make sense is it okay all right yeah yeah one of\\nthe questions how do you think about MVP for such Hardware projects because you don't want to\\ninvest so much effort up front before knowing whether there's a market already\\nright harder harder and Hardware because so\\nagain I think I'd go back to the same thing again for um for let's just use your example for a\", metadata={'source': '/teamspace/studios/this_studio/retrieval-augmented-generation/data/part3.txt'}),\n",
       " Document(page_content=\"hardware charging device I would encourage you to find find a Furniture maker that's you know\\nyou know that's uh that's doing kind of a you know a kind of a group a group financed uh piece of furniture you find\\nsomeone in Etsy that's making something or you you work with wood you don't have something that gets covered with necessarily has to be embedded in the\\nmanufacturing process perhaps it's something you could stick on you know a chair an adhesive with a battery that\", metadata={'source': '/teamspace/studios/this_studio/retrieval-augmented-generation/data/part3.txt'}),\n",
       " Document(page_content=\"manufacturing process perhaps it's something you could stick on you know a chair an adhesive with a battery that\\nlasts four years or whatever it is but again a simple use case as opposed to\\ntrying to solve every problem that you're envisioning you can tell the you can tell the VCS that are going to back\\nyou I'm going to solve this it's going to be in everything that's going to be in every Airline chair it's going to be in every chair every public space and\", metadata={'source': '/teamspace/studios/this_studio/retrieval-augmented-generation/data/part3.txt'}),\n",
       " Document(page_content=\"all that that's the story you tell when you're painting how big your idea could be but when you're first getting started\\nif you could have that giant vision but if you can't get a single furniture\\nmanufacturer to agree to embed that thing in there it's not going to work and so you want to prove that first\\nis that I'm not a hardware guy so hopefully I didn't like step in it but it's a\", metadata={'source': '/teamspace/studios/this_studio/retrieval-augmented-generation/data/part3.txt'}),\n",
       " Document(page_content=\"so let's why don't we do we thought we'd do we thought we'd do a little um a session kind of breakout with each of your groups here\", metadata={'source': '/teamspace/studios/this_studio/retrieval-augmented-generation/data/part3.txt'}),\n",
       " Document(page_content=\"so let's why don't we do we thought we'd do we thought we'd do a little um a session kind of breakout with each of your groups here\\num one of the here's here's the first idea and we thought that you could maybe have a group discussion of what is one\\nway you can make your product super simple to install and since we have hard\\nHardware people I think you can think about that expansively depending on what your company is you know is it is it\", metadata={'source': '/teamspace/studios/this_studio/retrieval-augmented-generation/data/part3.txt'}),\n",
       " Document(page_content=\"simple to install is it simple to deploy is it simple to use\\nbut within your group have that conversation and then you know we can chat for five minutes is that we're\\ndoing kind of five minutes ish and then we can kind of get readouts from folks on what they what they talk about it's also a great way you saw everyone kind\\nof raise their hands I I'm sure everyone doesn't know each other it's also a great way just to hear how other entrepreneurs think which for all for me\", metadata={'source': '/teamspace/studios/this_studio/retrieval-augmented-generation/data/part3.txt'}),\n",
       " Document(page_content=\"of raise their hands I I'm sure everyone doesn't know each other it's also a great way just to hear how other entrepreneurs think which for all for me\\nwas always the most amazing thing so all right let's do it five minutes or so okay cool\\nI need one or two teams that came up with something interesting and unexpected in the conversation did\\nyou learn something who wants to who wants to share we're not going to do everyone know we're gonna we'll pick as we we've got a few of these so we'll\", metadata={'source': '/teamspace/studios/this_studio/retrieval-augmented-generation/data/part3.txt'}),\n",
       " Document(page_content=\"pick on other people everyone will get a chance to talk but any volunteers to jump in out of the gate\\nI explained my company and what I want to get done and I don't think we talked\\nabout like how we can make it simple we just talked about how how it's going to work so I'm sorry that we did not no\\nthat's okay what's your company just uh because that might be interesting for everybody so my company is called the\", metadata={'source': '/teamspace/studios/this_studio/retrieval-augmented-generation/data/part3.txt'}),\n",
       " Document(page_content=\"that's okay what's your company just uh because that might be interesting for everybody so my company is called the\\npitch app I'm trying to design an app um that it's like a tender for entrepreneurs and investors so you sign\\nup as an entrepreneur and you sign up as an investor much like Tinder uh you\\nupload a 45 second video of yourself pitching your idea and the investor is able to swipe left or right and connect\\nyou um based on geo location and or category I do think this could get bigger I\", metadata={'source': '/teamspace/studios/this_studio/retrieval-augmented-generation/data/part3.txt'}),\n",
       " Document(page_content=\"eventually would like to to go to like music or actors so like if you're a\\nmusician and you don't need a manager um the app can connect them that way but\\nI think the MVP or what I learned here with or my segment would be\\num the investor entrepreneur um around that I would take super super\\ncool super cool thanks for sharing anyone else wanna we get one in the back why don't we so hi everyone my name is Bill Kirk so\", metadata={'source': '/teamspace/studios/this_studio/retrieval-augmented-generation/data/part3.txt'}),\n",
       " Document(page_content=\"um the investor entrepreneur um around that I would take super super\\ncool super cool thanks for sharing anyone else wanna we get one in the back why don't we so hi everyone my name is Bill Kirk so\\nmy Venture is called foodie thank you Leo right now we're in in the process of interviewing restaurants so it's in the\\nfood technology segment don't be stuck with the name because name name is gonna\\nchange so it's an um it's an app that integrates processes at restaurant so\", metadata={'source': '/teamspace/studios/this_studio/retrieval-augmented-generation/data/part3.txt'}),\n",
       " Document(page_content=\"with the help of QR codes on the table QR code as well um you can it allow the app allows for\\nthe customer to browse the menu select their items edit their dishes place the\\norder and also make the payment and leave whenever they want so what we were thinking to make the\\ninstallment process simple is that overthinking is that why don't we remove the installment at all so rather than\", metadata={'source': '/teamspace/studios/this_studio/retrieval-augmented-generation/data/part3.txt'}),\n",
       " Document(page_content='starting with a full-on app proper ad with a lot of features keep it as simple as possible simple is good so we would', metadata={'source': '/teamspace/studios/this_studio/retrieval-augmented-generation/data/part3.txt'}),\n",
       " Document(page_content=\"starting with a full-on app proper ad with a lot of features keep it as simple as possible simple is good so we would\\nstart with a web-based app in this way the customer does not need to download\\nthe app they will probably not even know that it's an app or our company is called foodie they're just scan the QR\\ncode on the table which will take them to the platform and they will just order and pay and leave\", metadata={'source': '/teamspace/studios/this_studio/retrieval-augmented-generation/data/part3.txt'}),\n",
       " Document(page_content=\"exactly exactly what we were talking about other things that came up actually in the group discussion uh we need to\\nmake the QR code process ex frictionless as possible so probably uh put below the\\nQR code put the Wi-Fi code so everyone has the access make sure that actually the restaurant has Wi-Fi so we can uh\\nactually the app works it looks like there's a question right behind you or is it oh sure and I think you should\", metadata={'source': '/teamspace/studios/this_studio/retrieval-augmented-generation/data/part3.txt'}),\n",
       " Document(page_content='also talk about how you are going you should also mention your awesome idea of how you are going to integrate it', metadata={'source': '/teamspace/studios/this_studio/retrieval-augmented-generation/data/part3.txt'}),\n",
       " Document(page_content='also talk about how you are going you should also mention your awesome idea of how you are going to integrate it\\ndirectly with the restaurants already existing systems so the cooks immediate\\nimmediately yeah exactly there was a question whether we would have a second dashboard in the kitchen and the idea is\\nfor us to integrate in because in the restaurants API or POS system so they\\nwould automatically get um the orders under one screen and they', metadata={'source': '/teamspace/studios/this_studio/retrieval-augmented-generation/data/part3.txt'}),\n",
       " Document(page_content=\"don't need to follow two types of screens or reporting it's exactly the type of thinking we\\nwant to be doing kind of at this stage thanks thanks for being brave enough to share all right let's keep going all right the\\nsecond so we're just to Circle back to the kind of simple to install was number one s now we're getting to El low\\ninitial cost um and what does that mean it could mean frictionless trials it could mean free\", metadata={'source': '/teamspace/studios/this_studio/retrieval-augmented-generation/data/part3.txt'}),\n",
       " Document(page_content='samples of textiles enough maybe to test manufacture some stuff it means lower', metadata={'source': '/teamspace/studios/this_studio/retrieval-augmented-generation/data/part3.txt'}),\n",
       " Document(page_content=\"initial cost um and what does that mean it could mean frictionless trials it could mean free\\nsamples of textiles enough maybe to test manufacture some stuff it means lower\\ncost of customer acquisition you can identify prospects with the freemium you\\nknow for everyone know what freemium is it's free and then you upgrade premium offering um but be careful\\nbecause free often people will often equate the value of a product with what\", metadata={'source': '/teamspace/studios/this_studio/retrieval-augmented-generation/data/part3.txt'}),\n",
       " Document(page_content=\"you charge for it and so sometimes there are certain products that if they're free forever they start to think of it\\nas value less and so generally speaking a free trial period that emerges into\\nyou know into something that people have to pay for is is uh is preferable to kind of just going full free all the\\ntime um because then also when it's free if there's a like a free version you have to you're constantly upselling to get\", metadata={'source': '/teamspace/studios/this_studio/retrieval-augmented-generation/data/part3.txt'}),\n",
       " Document(page_content='people to kind of to kind of uh to kind of upsell and an example of this is LinkedIn we all use LinkedIn it started', metadata={'source': '/teamspace/studios/this_studio/retrieval-augmented-generation/data/part3.txt'}),\n",
       " Document(page_content=\"people to kind of to kind of uh to kind of upsell and an example of this is LinkedIn we all use LinkedIn it started\\nas a place to just upload upload your resumes I mean to basically have an online version of your resume quickly\\nbecame a social network but what these guys have done a brilliant job of is there's they built a giant they had all\\nthe network Effects by having a free product and they have just piled on the the uh the premium products you've got\", metadata={'source': '/teamspace/studios/this_studio/retrieval-augmented-generation/data/part3.txt'}),\n",
       " Document(page_content=\"sales Navigator you've got in mail you can buy extra inmail messages you can have the premium version of of LinkedIn\\nand so it creates this virtuous circle but they got the network effects get everybody hooked on it with the free\\nproduct to start so low initial cost\\nI instant and ongoing value so you want to reduce the pain and this is what I\\nthink you were exactly what you were talking about when you were talking about you know your ideas and especially in a restaurant setting reduce the pain\", metadata={'source': '/teamspace/studios/this_studio/retrieval-augmented-generation/data/part3.txt'}),\n",
       " Document(page_content=\"think you were exactly what you were talking about when you were talking about you know your ideas and especially in a restaurant setting reduce the pain\\nfor customers to try and adopt it pain is the single biggest barrier to\\ngetting people to adopt your product and so you need to demonstrate enough gain quickly enough that you'll overcome\\nyou'll overcome the balance and so if you think about the game we talk about it in terms of the gain pain ratio\", metadata={'source': '/teamspace/studios/this_studio/retrieval-augmented-generation/data/part3.txt'}),\n",
       " Document(page_content=\"you know this there's this thing that we call a nurture risk which is in the middle which is switching costs I've\\nalready got something that does something similar it's kind of a pain in the butt to switch doing nothing is probably just an is easier than kind of\\ntrying a new product or maybe there are other Alternatives that are good enough I don't want to risk I don't want to\\nrisk a big license fee on a startup there's kind of this this inertia that can keep people from trying stuff so\", metadata={'source': '/teamspace/studios/this_studio/retrieval-augmented-generation/data/part3.txt'}),\n",
       " Document(page_content='your job um is to create the value proposition', metadata={'source': '/teamspace/studios/this_studio/retrieval-augmented-generation/data/part3.txt'}),\n",
       " Document(page_content=\"risk a big license fee on a startup there's kind of this this inertia that can keep people from trying stuff so\\nyour job um is to create the value proposition\\nthat overcomes that pain gain ratio whether it's generating new Revenue savings you're saving time you're saving\\nthe cost of hiring people a competitive Advantage reputation Etc to overcome the pain that it takes\\npeople to discover something try it buy it implement it deploy it and own it\", metadata={'source': '/teamspace/studios/this_studio/retrieval-augmented-generation/data/part3.txt'}),\n",
       " Document(page_content=\"and if you can do this instantly it's incredibly incredibly powerful um you know we talk about instant\\ngratification I'll give you an example of a company that I think does this very well um but in the Enterprise setting if\\nyou're selling something to a big company if you can we call we call it time to Value if the time to value is\\nsub three months that tends to be great um in the Enterprise world when you're selling to big companies because it\", metadata={'source': '/teamspace/studios/this_studio/retrieval-augmented-generation/data/part3.txt'}),\n",
       " Document(page_content=\"makes it easy for people to do um you know cost models on what it's going to cost to do this and when\", metadata={'source': '/teamspace/studios/this_studio/retrieval-augmented-generation/data/part3.txt'}),\n",
       " Document(page_content=\"makes it easy for people to do um you know cost models on what it's going to cost to do this and when\\npayback begins if it takes longer like super long time to implement and you\\nknow install it at the factory and all that other stuff it's much harder to get to get over the hump and so you want to\\nget this time to Value as short as possible and the ongoing value again make sure that you're delivering value\", metadata={'source': '/teamspace/studios/this_studio/retrieval-augmented-generation/data/part3.txt'}),\n",
       " Document(page_content=\"on an ongoing basis it's not just kind of a one and done increases Revenue reduces time drives competitive\\nadvantage and in the consumer World consumers just simply can't live without it one one example this is an enterprise\\nEnterprise software company it's an investment that I made it's called Ai and one of the things that I like about\\nthem is they've actually and before I was getting set up to do this I didn't realize they had kind of hit all of the\", metadata={'source': '/teamspace/studios/this_studio/retrieval-augmented-generation/data/part3.txt'}),\n",
       " Document(page_content=\"slips it was kind of baked into their baked into their DNA and there's a reason for that the guy who founded it\", metadata={'source': '/teamspace/studios/this_studio/retrieval-augmented-generation/data/part3.txt'}),\n",
       " Document(page_content=\"slips it was kind of baked into their baked into their DNA and there's a reason for that the guy who founded it\\nwas one of the early employees at Braintree which is a giant payments company owned by owned by PayPal and\\nthey basically decided to build a company of all the dozens of things that customers\\ncomplained about when he was at PayPal but PayPal could never get around to fixing they built a company that did all\", metadata={'source': '/teamspace/studios/this_studio/retrieval-augmented-generation/data/part3.txt'}),\n",
       " Document(page_content=\"that stuff and the interesting thing is that these guys so basically what they do is if you're a big e-commerce company\\nlike Adobe or Ticketmaster or something you've got 10 different companies that process your payments all over the world\\nthere's no way to analyze all that payment data yourself they aggregated all that payment data and do analytics\\nand all this other neat stuff but the neat thing the sales guys can onboard them in a phone call they\", metadata={'source': '/teamspace/studios/this_studio/retrieval-augmented-generation/data/part3.txt'}),\n",
       " Document(page_content='say hey give me the key to your payment provider you know the encryption key so they can get the data and they will', metadata={'source': '/teamspace/studios/this_studio/retrieval-augmented-generation/data/part3.txt'}),\n",
       " Document(page_content=\"say hey give me the key to your payment provider you know the encryption key so they can get the data and they will\\ndemonstrate their first demonstration will be ingesting the all the data into their product over the phone and they\\nget to see all their data in these dashboards and so it's literally instantaneous and so that means it's\\neasy onboarding and as you'll see when we talk start talking about pricing models low initial costs they do\", metadata={'source': '/teamspace/studios/this_studio/retrieval-augmented-generation/data/part3.txt'}),\n",
       " Document(page_content=\"something very close close to a freemium model instant value creation because people deploy it right away and start\\nsaving money detecting fraud and all that stuff and um and and it supports all all of the payment platforms it\\nplays nice plays nice in the ecosystem so if you're so here's a startup secret\\nself-proving value if your product is about improving a process provide proof as part of the product\", metadata={'source': '/teamspace/studios/this_studio/retrieval-augmented-generation/data/part3.txt'}),\n",
       " Document(page_content='um these guys pagos they Baseline all the results of these payment processing companies then when they install the', metadata={'source': '/teamspace/studios/this_studio/retrieval-augmented-generation/data/part3.txt'}),\n",
       " Document(page_content=\"um these guys pagos they Baseline all the results of these payment processing companies then when they install the\\nproduct you actually start to see how you're performing against benchmarks provide key metrics and visibility into\\nthe progress so people like oh this is working I can actually see so it's it's almost self-documenting it in the\\nproduct itself proves that what you're doing um what you're doing is actually delivering value that means analytics\", metadata={'source': '/teamspace/studios/this_studio/retrieval-augmented-generation/data/part3.txt'}),\n",
       " Document(page_content=\"and surfacing reports that prove the value kind of right right out of the gate so here's another quick exercise and we\\nmay skip one or two of these just since we're we have so many we had so many questions and we're running a little short on time but I think this is a good\\nway a good one because when we you know I started talking to people about the last question you know one was how can\", metadata={'source': '/teamspace/studios/this_studio/retrieval-augmented-generation/data/part3.txt'}),\n",
       " Document(page_content=\"you make it easier to install good question well it's an app and apps are easy to install and so we had a follow-up in that another person shared\", metadata={'source': '/teamspace/studios/this_studio/retrieval-augmented-generation/data/part3.txt'}),\n",
       " Document(page_content=\"you make it easier to install good question well it's an app and apps are easy to install and so we had a follow-up in that another person shared\\nI'm building a textile product there's no installation so we had it we had a sidebar I think this particular one\\num actually should work well against kind of all the different types of companies that we're talking about if for the company that you're building\\nwhat are different ways that you could streamline that time to value for your\", metadata={'source': '/teamspace/studios/this_studio/retrieval-augmented-generation/data/part3.txt'}),\n",
       " Document(page_content=\"first for your MVP and free for your first Market segment so why don't we take a quick five minutes on that and\\nthen we'll hop back in and uh and and get going all right we got it we had our first\\nteam talking here all right I'm working on a book for uh parents\\nthat have children with learning difficulties and are having a hard time to learn how to read\\nso the idea is that with this book that we have actually developed and tested\", metadata={'source': '/teamspace/studios/this_studio/retrieval-augmented-generation/data/part3.txt'}),\n",
       " Document(page_content='but with professionals that work with children with learning difficulties', metadata={'source': '/teamspace/studios/this_studio/retrieval-augmented-generation/data/part3.txt'}),\n",
       " Document(page_content='so the idea is that with this book that we have actually developed and tested\\nbut with professionals that work with children with learning difficulties\\num to turn it into a book for parents so the things we were thinking of how to\\nmake this instant value was maybe coupling the book with an app so parents\\ncan test their children to see the progress and where they start so maybe\\nthey can understand okay maybe my children is not at the same pace of reading as other children their age and', metadata={'source': '/teamspace/studios/this_studio/retrieval-augmented-generation/data/part3.txt'}),\n",
       " Document(page_content=\"then see how they progress and that would also give us evidence that the book is actually working that is super\\ninteresting bingo I think you nailed it what do you guys think well done\\nall right we're going to keep going thank you for that that's awesome okay the last part of slip P plays well\\nin the ecosystem and I'm going to talk to you a little bit about uh what that means I'll just I'll use another example\", metadata={'source': '/teamspace/studios/this_studio/retrieval-augmented-generation/data/part3.txt'}),\n",
       " Document(page_content=\"in the ecosystem and I'm going to talk to you a little bit about uh what that means I'll just I'll use another example\\nthis company tetrascience they're they're local actually they came out of they came out of Harvard uh Harvard Business School they build a cloud for\\nthe life sciences it connects all of the research devices collects data from all those research devices and builds a\\ncloud and if you start to look at the ecosystem that they play in so we're talking about playing nice with others\", metadata={'source': '/teamspace/studios/this_studio/retrieval-augmented-generation/data/part3.txt'}),\n",
       " Document(page_content=\"look at the complexity here and the way they talk about it is we're going to be\\nthis Cloud that ties all these disparate platforms together and so they're part of their explicit strategy is to play\\nnice in the ecosystem not only that but be a Clearinghouse and a central point so this involves you know Partnerships\\nwith all of these different companies technology Integrations but this is an example of a company that explicitly was\", metadata={'source': '/teamspace/studios/this_studio/retrieval-augmented-generation/data/part3.txt'}),\n",
       " Document(page_content=\"with all of these different companies technology Integrations but this is an example of a company that explicitly was\\nabout the ecosystem and being a player in the ecosystem we talked about slip I'm going to skip that let's jump into pricing\\num because I wanted to make sure we spent spent some time on this how you price your product is super important to\\nthat early friction and you know I'll show you an example that you'll all be like oh yeah like every everyone does\", metadata={'source': '/teamspace/studios/this_studio/retrieval-augmented-generation/data/part3.txt'}),\n",
       " Document(page_content=\"this but the idea is if you can if there's a way I'm thinking textiles\\nagain is is there a way but I think there's a way that you can provide things like free free samples and other\\nstuff or make your platform free or create developer kits for Hardware that\\ndoesn't cost anything so that people can start to use your product test it out and then you have a way to step them\\nthrough increasing the value of your offering and increasing the price that\", metadata={'source': '/teamspace/studios/this_studio/retrieval-augmented-generation/data/part3.txt'}),\n",
       " Document(page_content=\"doesn't cost anything so that people can start to use your product test it out and then you have a way to step them\\nthrough increasing the value of your offering and increasing the price that\\nyou charge them and what is that what's an example of that in this in the software world and even things like\\nAirlines everybody does this that's HubSpot that slack\\nthat's Vimeo that's WordPress you guys I should have put JetBlue in there you ever seen what\", metadata={'source': '/teamspace/studios/this_studio/retrieval-augmented-generation/data/part3.txt'}),\n",
       " Document(page_content=\"the JetBlue pricing looks like it looks like that too it's basically you get to walk through there's a way you can get\\nin cheap and then there's a way that you can upgrade and in the world of startups providing especially if you need if it's\\nb2c and you need lots and lots of users or it's or it's or it's um or it's you're selling into an Enterprise you\\nwant to get them using your product as soon as possible but you have to have a\", metadata={'source': '/teamspace/studios/this_studio/retrieval-augmented-generation/data/part3.txt'}),\n",
       " Document(page_content=\"b2c and you need lots and lots of users or it's or it's or it's um or it's you're selling into an Enterprise you\\nwant to get them using your product as soon as possible but you have to have a\\nway to kind of walk them up the value chain and it's I think things like this this is what we call product-led growth\\nin the software business which is you can install the product it's free and as soon as people start using it you start\", metadata={'source': '/teamspace/studios/this_studio/retrieval-augmented-generation/data/part3.txt'}),\n",
       " Document(page_content=\"doing cha-ching as they upgrade for more seats and kind of all this other stuff very very important\\num and talking again just going circling back to the ecosystem and playing nice with others it's not you don't have to\\njust think about being the center cloud of the ecosystem that's that's not always what it looks like there's a a\\nlocal company called clavio that does SMS marketing and\", metadata={'source': '/teamspace/studios/this_studio/retrieval-augmented-generation/data/part3.txt'}),\n",
       " Document(page_content='platform for SMS marketing and they were kind of selling it to e-commerce customers so you can kind of market and', metadata={'source': '/teamspace/studios/this_studio/retrieval-augmented-generation/data/part3.txt'}),\n",
       " Document(page_content='local company called clavio that does SMS marketing and\\nplatform for SMS marketing and they were kind of selling it to e-commerce customers so you can kind of market and\\nsend text messages to them and all that stuff but in order to do that they needed to have Partnerships both\\nTechnical and business Partnerships with all the wireless carriers so that they could send text messages over over the\\nwireless network but the thing that made these guys made them into a billion dollar company was', metadata={'source': '/teamspace/studios/this_studio/retrieval-augmented-generation/data/part3.txt'}),\n",
       " Document(page_content=\"their partnership with Shopify so they started off as a feature in the shop if you guys know what Shopify is the\\ne-commerce e-commerce uh platform they started off as a feature and then along the way Shopify blessed them as kind of\\nthe the default standard the preferred I think they call it the preferred marketing and SMS platform boom unicorn\\nuh unicorn was born and so Partnerships it's not just playing nice in an ecosystem with the different Masters\", metadata={'source': '/teamspace/studios/this_studio/retrieval-augmented-generation/data/part3.txt'}),\n",
       " Document(page_content=\"uh unicorn was born and so Partnerships it's not just playing nice in an ecosystem with the different Masters\\nthat you serve and kind of a super complex like that life sciences product it's also picking partners that are part\\nof your product from day one that can help you grow they're either on the right side here they're necessary for\\ncreating the business in the first place or they can be provide leverage for you to make the product product explode do\", metadata={'source': '/teamspace/studios/this_studio/retrieval-augmented-generation/data/part3.txt'}),\n",
       " Document(page_content=\"you have a question you're racing comment about that I do a lot of e-commerce Consulting with Shopify\\ncustomers yeah and I'm in a Facebook group and in the group it's like a free\\nCEO paid at least two thousand dollars a month to be on shopify's highest tier\\nand everybody in that an app provider in Shopify pays um so it's like a community yeah he paid\\nto be in the higher tier if you're in this tier here's this group so like all the users of Shopify who like the owners\", metadata={'source': '/teamspace/studios/this_studio/retrieval-augmented-generation/data/part3.txt'}),\n",
       " Document(page_content=\"to be in the higher tier if you're in this tier here's this group so like all the users of Shopify who like the owners\\nof the companies they they're in that highest tier they talk in that group and that you could hear them always talk\\nabout this tool plavia to each other yeah they're like what do I use use clavio I mean it was weird because it\\nwas new at the time yeah they somehow managed to get into that like uh Word of Mouth well so they got\", metadata={'source': '/teamspace/studios/this_studio/retrieval-augmented-generation/data/part3.txt'}),\n",
       " Document(page_content='into word of mouth but then also so it was a combination it was Rising Tides right they were doing quite well and at some point Shopify it became a tight\\npartnership but Partnerships can change the trajectory of your business whatever the whatever your business is you know\\nyou could have a partnership with the hardware manufacturer a partnership with the furniture manufacturer you know partnership on the on the textile\\nmanufacturing side super super important way to think about playing playing', metadata={'source': '/teamspace/studios/this_studio/retrieval-augmented-generation/data/part3.txt'}),\n",
       " Document(page_content=\"manufacturing side super super important way to think about playing playing\\nniceness to pee on the slip playing nice in the ecosystem so really good question I'll just repeat it for everybody do we\\nso and I think what you're talking about so one of the ways a partnership can take place is you can actually sell through Partners you could say here's my\\nproduct and the partner is going to do distribution for you and they kind of they end up being in front of you in in\", metadata={'source': '/teamspace/studios/this_studio/retrieval-augmented-generation/data/part3.txt'}),\n",
       " Document(page_content=\"between you and your customer potentially or is it better off to kind of just go it alone and kind of and and\\nlaunching your own that's actually it really depends on the business and what you're saying is true\\num that said if you it depends on on how much you think a partnership could accelerate what you're doing and so you\\nhave to kind of balance balance the the loss of a hundred percent of customer control if you have a selling partner\", metadata={'source': '/teamspace/studios/this_studio/retrieval-augmented-generation/data/part3.txt'}),\n",
       " Document(page_content=\"have to kind of balance balance the the loss of a hundred percent of customer control if you have a selling partner\\num with the acceleration of your business one of the common ways to solve for that is a short contract\\nif you really want to go it alone because that's that's a so that's exactly what my company we did we're like you know we actually partnered with\\nbig big companies that were actually reselling our stuff and eventually we were able we got enough traction that we\", metadata={'source': '/teamspace/studios/this_studio/retrieval-augmented-generation/data/part3.txt'}),\n",
       " Document(page_content=\"were able to switch over and kind of cut the cut them out of it and go direct to our customers because we had built credibility\\nokay we're coming to the the home the home stretch here um so\\nlet's let's let's do this I'm I'm set up doing kind of a proper breakout I'm going to just give you the chance just\\nto we'll do this kind of one in real time but for each of you think of one partner or two partners that you think\", metadata={'source': '/teamspace/studios/this_studio/retrieval-augmented-generation/data/part3.txt'}),\n",
       " Document(page_content=\"to we'll do this kind of one in real time but for each of you think of one partner or two partners that you think\\nyou should partner with for your particular idea and I'll give you like 60 seconds and then I'll just start\\ncalling on you randomly you got one already all right what do you got so so with my\\napp idea I think I would be able to partner with LinkedIn and call it linked up but I can just add a feature and\", metadata={'source': '/teamspace/studios/this_studio/retrieval-augmented-generation/data/part3.txt'}),\n",
       " Document(page_content=\"it'll be a feature to their product that's already developed so linked up for pitch pitch decks or\\npitching swipe right swipe left admitted LinkedIn I like it so I think I can partner with curriculum\\nAssociates so what was quickly what's the business again so I helped um\\nclasses diversify by bringing Experts of color into the classroom yeah\\num so now that everybody there's a lot of conversation around uh diversity in\\nthe classroom I could give the big textbook companies\", metadata={'source': '/teamspace/studios/this_studio/retrieval-augmented-generation/data/part3.txt'}),\n",
       " Document(page_content=\"um so now that everybody there's a lot of conversation around uh diversity in\\nthe classroom I could give the big textbook companies\\nto use my products to help Pearson MacMillan and like you know I was gonna bring that diversity in the classroom so\\nthey integrate my own product directly into um their own products now it's a great\\nidea super big companies and maybe you partner with them in a way that it's not in all their textbooks you become you\", metadata={'source': '/teamspace/studios/this_studio/retrieval-augmented-generation/data/part3.txt'}),\n",
       " Document(page_content=\"you do it on a smaller publication that you can get them to pay attention to you at first then you work your way through\\nthe organization but you have to find in these Partnerships you have to find a champion that believes in what you're\\ndoing and has enough pull to kind of do something with it anyone else want to share a partnership idea we don't\\nI think we can partner with POS systems so toast is the market leader but the\", metadata={'source': '/teamspace/studios/this_studio/retrieval-augmented-generation/data/part3.txt'}),\n",
       " Document(page_content='market POS Market is extremely fragmented even though toast is market leader they only have 15 market share so', metadata={'source': '/teamspace/studios/this_studio/retrieval-augmented-generation/data/part3.txt'}),\n",
       " Document(page_content=\"I think we can partner with POS systems so toast is the market leader but the\\nmarket POS Market is extremely fragmented even though toast is market leader they only have 15 market share so\\nwith any POS systems who are ready to take down toast with us I think they'll\\nbe interested in partnering with us plus they're local you can just you can walk over there and just bang on their door if you want to you and I can have a\", metadata={'source': '/teamspace/studios/this_studio/retrieval-augmented-generation/data/part3.txt'}),\n",
       " Document(page_content=\"conversation an endless conversation about trying to partner with pause people by the way that's a super fun anyone else\\nall right home stretch guys um okay so we talked we talked about Bridging\\nthe Product Company Gap hopefully you've kind of you understand how that's different from just product Market fit\\nright you get product Market fit and then you need to get over the Gap with a product that has a good value\", metadata={'source': '/teamspace/studios/this_studio/retrieval-augmented-generation/data/part3.txt'}),\n",
       " Document(page_content='proposition minimum viable segment keep it small repeat it and then you can kind of go', metadata={'source': '/teamspace/studios/this_studio/retrieval-augmented-generation/data/part3.txt'}),\n",
       " Document(page_content=\"right you get product Market fit and then you need to get over the Gap with a product that has a good value\\nproposition minimum viable segment keep it small repeat it and then you can kind of go\\nbroader and then we the second half we talk about business model and you can build you can be doing this thinking of\\nbusiness model from day one it's not something that comes later right you architect your product for slip super\", metadata={'source': '/teamspace/studios/this_studio/retrieval-augmented-generation/data/part3.txt'}),\n",
       " Document(page_content=\"easy to install low cost Etc that can all be part of day one planning it just\\nrequires thinking it doesn't require a whole ton of actual kind of work to do it package it price it free to try for\\nactual pull make it very easy and make it very easy for people to to adopt it and use it\\nanything else I'll Stick Around by the way if you guys want to you know pick my brain I'm gonna drink a water and just\", metadata={'source': '/teamspace/studios/this_studio/retrieval-augmented-generation/data/part3.txt'}),\n",
       " Document(page_content=\"park for a bit if you guys want to chat and we'll I'll make sure that you also you guys I'll just send my email it's\", metadata={'source': '/teamspace/studios/this_studio/retrieval-augmented-generation/data/part3.txt'}),\n",
       " Document(page_content=\"park for a bit if you guys want to chat and we'll I'll make sure that you also you guys I'll just send my email it's\\nChris underscore.vc if any of you guys want to reach out I'm happy to chat happy to come on campus happy to spend\\ntime or do a coffee hour or whatever all right thanks appreciate it\\n[Applause] [Music]\\nthank you\", metadata={'source': '/teamspace/studios/this_studio/retrieval-augmented-generation/data/part3.txt'})]"
      ]
     },
     "execution_count": 8,
     "metadata": {},
     "output_type": "execute_result"
    }
   ],
   "source": [
    "text_splitter = RecursiveCharacterTextSplitter(chunk_size=500, chunk_overlap=20)\n",
    "split_texts = text_splitter.split_documents(texts)\n",
    "split_texts"
   ]
  },
  {
   "cell_type": "code",
   "execution_count": 11,
   "id": "4c43e092",
   "metadata": {},
   "outputs": [],
   "source": [
    "from pinecone import Pinecone\n",
    "\n",
    "# configure client\n",
    "pc = Pinecone()"
   ]
  },
  {
   "cell_type": "code",
   "execution_count": 12,
   "id": "7f8b8040",
   "metadata": {},
   "outputs": [],
   "source": [
    "from pinecone import ServerlessSpec\n",
    "\n",
    "cloud = os.environ.get('PINECONE_CLOUD') or 'aws'\n",
    "region = os.environ.get('PINECONE_REGION') or 'us-east-1'\n",
    "\n",
    "spec = ServerlessSpec(cloud=cloud, region=region)"
   ]
  },
  {
   "cell_type": "code",
   "execution_count": 13,
   "id": "5ab8a7c9",
   "metadata": {},
   "outputs": [],
   "source": [
    "import time\n",
    "index_name = \"mynotebookindex\"\n",
    "\n",
    "if index_name in pc.list_indexes().names():\n",
    "    pc.delete_index(index_name)\n",
    "\n",
    "# we create a new index\n",
    "pc.create_index(\n",
    "        index_name,\n",
    "        dimension=1536,  # dimensionality of text-embedding-ada-002\n",
    "        metric='dotproduct',\n",
    "        spec=spec\n",
    "    )\n",
    "\n",
    "# wait for index to be initialized\n",
    "while not pc.describe_index(index_name).status['ready']:\n",
    "    time.sleep(1)"
   ]
  },
  {
   "cell_type": "code",
   "execution_count": 17,
   "id": "051ed00c",
   "metadata": {},
   "outputs": [
    {
     "data": {
      "text/plain": [
       "{'dimension': 1536,\n",
       " 'index_fullness': 0.0,\n",
       " 'namespaces': {'': {'vector_count': 209}},\n",
       " 'total_vector_count': 209}"
      ]
     },
     "execution_count": 17,
     "metadata": {},
     "output_type": "execute_result"
    }
   ],
   "source": [
    "index = pc.Index(index_name)\n",
    "index.describe_index_stats()"
   ]
  },
  {
   "cell_type": "code",
   "execution_count": 15,
   "id": "eb33e1a3",
   "metadata": {},
   "outputs": [],
   "source": [
    "from langchain_pinecone import PineconeVectorStore\n",
    "from langchain_openai import OpenAIEmbeddings\n",
    "\n",
    "embeddings = OpenAIEmbeddings()\n",
    "vectorstore = PineconeVectorStore(index_name=index_name, embedding=embeddings)\n"
   ]
  },
  {
   "cell_type": "code",
   "execution_count": 16,
   "id": "99fa3eed",
   "metadata": {},
   "outputs": [],
   "source": [
    "vectorstore_from_docs = PineconeVectorStore.from_documents(\n",
    "        split_texts,\n",
    "        index_name=index_name,\n",
    "        embedding=embeddings\n",
    "    )"
   ]
  },
  {
   "cell_type": "code",
   "execution_count": 20,
   "id": "860ca4bc",
   "metadata": {},
   "outputs": [
    {
     "data": {
      "text/plain": [
       "[Document(page_content=\"today so the problem you've heard the term minimum viable\\nproduct you've certainly heard the the term product Market fit um you know but it often doesn't get\\nenough momentum to build a lasting company product Market fit so in the VC business one of the things we're seed\\ninvestors at underscore and one of the markers we look for when a company is getting ready to a question number one\", metadata={'source': '/teamspace/studios/this_studio/retrieval-augmented-generation/data/part1.txt'}),\n",
       " Document(page_content=\"of grow into it so when we talk about bringing an MVP um to Market\\nminimum viable product you've built and I'll I'll continue to do software examples just since that's my word and I apologize if you're You\\nKnow You're Building you're building something else or a piece of Hardware but you build something small typically you're building a fraction of your total\\nvision and you and you've got an idea of the people that you want to sell it to\", metadata={'source': '/teamspace/studios/this_studio/retrieval-augmented-generation/data/part2.txt'}),\n",
       " Document(page_content=\"build a repeatable product so when we talk about designing a product for um product Market fit the\\nfirst thing you do when you're building you know a product is you build an MVP it's called minimum viable product\\num this will be a little bit of review just a couple slides I promise we won't we won't harp on it too much\\num but it's super important you triple check your value proposition before you do anything before you spend any money\", metadata={'source': '/teamspace/studios/this_studio/retrieval-augmented-generation/data/part2.txt'}),\n",
       " Document(page_content=\"right you get product Market fit and then you need to get over the Gap with a product that has a good value\\nproposition minimum viable segment keep it small repeat it and then you can kind of go\\nbroader and then we the second half we talk about business model and you can build you can be doing this thinking of\\nbusiness model from day one it's not something that comes later right you architect your product for slip super\", metadata={'source': '/teamspace/studios/this_studio/retrieval-augmented-generation/data/part3.txt'})]"
      ]
     },
     "execution_count": 20,
     "metadata": {},
     "output_type": "execute_result"
    }
   ],
   "source": [
    "query = \"What is minimum viable product?\"\n",
    "vectorstore.similarity_search(query)"
   ]
  },
  {
   "cell_type": "code",
   "execution_count": 21,
   "id": "9e76effb",
   "metadata": {},
   "outputs": [
    {
     "name": "stderr",
     "output_type": "stream",
     "text": [
      "/home/zeus/miniconda3/envs/cloudspace/lib/python3.10/site-packages/langchain_core/_api/deprecation.py:139: LangChainDeprecationWarning: The method `Chain.run` was deprecated in langchain 0.1.0 and will be removed in 0.3.0. Use invoke instead.\n",
      "  warn_deprecated(\n"
     ]
    },
    {
     "data": {
      "text/plain": [
       "'Minimum Viable Product (MVP) is a version of a product with just enough features to satisfy early customers and provide feedback for future product development. It is a strategy used by startups to quickly and cost-effectively test their product ideas in the market before fully investing in the development of a complete product.'"
      ]
     },
     "execution_count": 21,
     "metadata": {},
     "output_type": "execute_result"
    }
   ],
   "source": [
    "from langchain_openai import ChatOpenAI\n",
    "from langchain.chains import RetrievalQA\n",
    "# completion llm\n",
    "llm = ChatOpenAI(\n",
    "    model_name='gpt-3.5-turbo',\n",
    "    temperature=0.0\n",
    ")\n",
    "qa = RetrievalQA.from_chain_type(\n",
    "    llm=llm,\n",
    "    chain_type=\"stuff\",\n",
    "    retriever=vectorstore.as_retriever()\n",
    ")\n",
    "qa.run(query)"
   ]
  },
  {
   "cell_type": "code",
   "execution_count": 22,
   "id": "eab87175",
   "metadata": {},
   "outputs": [],
   "source": [
    "initial_prompt = \"You are a researcher who is going to search the web links, summarize them and share insights as asked\""
   ]
  },
  {
   "cell_type": "code",
   "execution_count": 23,
   "id": "d167da23",
   "metadata": {},
   "outputs": [
    {
     "name": "stderr",
     "output_type": "stream",
     "text": [
      "/home/zeus/miniconda3/envs/cloudspace/lib/python3.10/site-packages/langchain_core/_api/deprecation.py:139: LangChainDeprecationWarning: The method `Chain.__call__` was deprecated in langchain 0.1.0 and will be removed in 0.3.0. Use invoke instead.\n",
      "  warn_deprecated(\n"
     ]
    }
   ],
   "source": [
    "query = \"What is the primary goal of minimum viable product?\"\n",
    "result = qa({\"query\": query, \"prompt\": initial_prompt})"
   ]
  },
  {
   "cell_type": "code",
   "execution_count": 24,
   "id": "d312a260",
   "metadata": {},
   "outputs": [
    {
     "name": "stdout",
     "output_type": "stream",
     "text": [
      "The primary goal of a minimum viable product (MVP) is to validate the value proposition of a product before investing significant resources into its development. It helps in testing the product idea with real users and gathering feedback to iterate and improve the product.\n"
     ]
    }
   ],
   "source": [
    "print(result['result'])"
   ]
  }
 ],
 "metadata": {
  "kernelspec": {
   "display_name": "Python 3 (ipykernel)",
   "language": "python",
   "name": "python3"
  },
  "language_info": {
   "codemirror_mode": {
    "name": "ipython",
    "version": 3
   },
   "file_extension": ".py",
   "mimetype": "text/x-python",
   "name": "python",
   "nbconvert_exporter": "python",
   "pygments_lexer": "ipython3",
   "version": "3.10.13"
  }
 },
 "nbformat": 4,
 "nbformat_minor": 5
}
