{
 "cells": [
  {
   "cell_type": "code",
   "execution_count": null,
   "id": "153047ba",
   "metadata": {},
   "outputs": [],
   "source": [
    "import os\n",
    "import nltk\n",
    "import pinecone\n",
    "import openai\n",
    "from langchain_openai import OpenAIEmbeddings\n",
    "from langchain_openai import OpenAI\n",
    "from langchain_openai import ChatOpenAI\n",
    "from langchain.text_splitter import RecursiveCharacterTextSplitter\n",
    "from langchain.text_splitter import CharacterTextSplitter\n",
    "from langchain.chains import RetrievalQA\n",
    "from langchain.document_loaders import TextLoader\n",
    "from langchain.document_loaders import DirectoryLoader\n",
    "from langchain.docstore.document import Document\n",
    "from langchain.chains.qa_with_sources import load_qa_with_sources_chain\n",
    "from langchain.vectorstores.pinecone import Pinecone\n",
    "from langchain.chains import RetrievalQA\n",
    "from langchain import OpenAI"
   ]
  },
  {
   "cell_type": "markdown",
   "id": "49fca250",
   "metadata": {},
   "source": [
    "## Load documents"
   ]
  },
  {
   "cell_type": "code",
   "execution_count": null,
   "id": "ac46a72c",
   "metadata": {},
   "outputs": [],
   "source": [
    "docs=\"/teamspace/studios/this_studio/retrieval-augmented-generation/data/\"\n",
    "loader = DirectoryLoader(docs, glob=\"./*.txt\", loader_cls=TextLoader)\n",
    "documents = loader.load()"
   ]
  },
  {
   "cell_type": "markdown",
   "id": "6b48a301",
   "metadata": {},
   "source": [
    "## Split documents"
   ]
  },
  {
   "cell_type": "code",
   "execution_count": null,
   "id": "aecd80a7",
   "metadata": {},
   "outputs": [],
   "source": [
    "text_splitter = RecursiveCharacterTextSplitter(chunk_size=500, chunk_overlap=20)\n",
    "split_texts = text_splitter.split_documents(documents)\n",
    "split_texts"
   ]
  },
  {
   "cell_type": "markdown",
   "id": "665a6c90",
   "metadata": {},
   "source": [
    "## Initialize Pinecone"
   ]
  },
  {
   "cell_type": "code",
   "execution_count": null,
   "id": "7f8b8040",
   "metadata": {},
   "outputs": [],
   "source": [
    "from pinecone import ServerlessSpec\n",
    "from pinecone import Pinecone\n",
    "\n",
    "pc = Pinecone()\n",
    "cloud = os.environ.get('PINECONE_CLOUD') or 'aws'\n",
    "region = os.environ.get('PINECONE_REGION') or 'us-east-1'\n",
    "spec = ServerlessSpec(cloud=cloud, region=region)"
   ]
  },
  {
   "cell_type": "markdown",
   "id": "576ced22",
   "metadata": {},
   "source": [
    "## Create or recreate index"
   ]
  },
  {
   "cell_type": "code",
   "execution_count": null,
   "id": "5ab8a7c9",
   "metadata": {},
   "outputs": [],
   "source": [
    "import time\n",
    "index_name = \"test001\"\n",
    "\n",
    "if index_name in pc.list_indexes().names():\n",
    "    pc.delete_index(index_name)\n",
    "\n",
    "# we create a new index\n",
    "pc.create_index(index_name, dimension=1536, metric='dotproduct', spec=spec)\n",
    "\n",
    "# wait for index to be initialized\n",
    "while not pc.describe_index(index_name).status['ready']:\n",
    "    time.sleep(1)"
   ]
  },
  {
   "cell_type": "markdown",
   "id": "de43175d",
   "metadata": {},
   "source": [
    "## Display index stats"
   ]
  },
  {
   "cell_type": "code",
   "execution_count": null,
   "id": "051ed00c",
   "metadata": {},
   "outputs": [],
   "source": [
    "index = pc.Index(index_name)\n",
    "index.describe_index_stats()"
   ]
  },
  {
   "cell_type": "markdown",
   "id": "9805876d",
   "metadata": {},
   "source": [
    "## Initialize vectorstore"
   ]
  },
  {
   "cell_type": "code",
   "execution_count": null,
   "id": "eb33e1a3",
   "metadata": {},
   "outputs": [],
   "source": [
    "embeddings = OpenAIEmbeddings()\n",
    "vectorstore = PineconeVectorStore(index_name=index_name, embedding=embeddings)"
   ]
  },
  {
   "cell_type": "markdown",
   "id": "89c86731",
   "metadata": {},
   "source": [
    "## Load data"
   ]
  },
  {
   "cell_type": "code",
   "execution_count": null,
   "id": "99fa3eed",
   "metadata": {},
   "outputs": [],
   "source": [
    "vectorstore_from_docs = PineconeVectorStore.from_documents(split_texts,index_name=index_name,embedding=embeddings)"
   ]
  },
  {
   "cell_type": "markdown",
   "id": "4438a641",
   "metadata": {},
   "source": [
    "## Display index stats"
   ]
  },
  {
   "cell_type": "code",
   "execution_count": 48,
   "id": "bc4f895f",
   "metadata": {},
   "outputs": [
    {
     "data": {
      "text/plain": [
       "{'dimension': 1536,\n",
       " 'index_fullness': 0.0,\n",
       " 'namespaces': {'': {'vector_count': 302}},\n",
       " 'total_vector_count': 302}"
      ]
     },
     "execution_count": 48,
     "metadata": {},
     "output_type": "execute_result"
    }
   ],
   "source": [
    "index = pc.Index(index_name)\n",
    "index.describe_index_stats()"
   ]
  },
  {
   "cell_type": "markdown",
   "id": "d7dee7ba",
   "metadata": {},
   "source": [
    "## Simple similarity search"
   ]
  },
  {
   "cell_type": "code",
   "execution_count": 49,
   "id": "860ca4bc",
   "metadata": {},
   "outputs": [
    {
     "data": {
      "text/plain": [
       "[Document(page_content=\"you understand whether you're building something that's valuable and that may be even more valuable as you as you kind\\nof grow into it so when we talk about bringing an MVP um to Market\\nminimum viable product you've built and I'll I'll continue to do software examples just since that's my word and I apologize if you're You\\nKnow You're Building you're building something else or a piece of Hardware but you build something small typically you're building a fraction of your total\", metadata={'source': '/teamspace/studios/this_studio/retrieval-augmented-generation/data/part2.txt'}),\n",
       " Document(page_content=\"you understand whether you're building something that's valuable and that may be even more valuable as you as you kind\\nof grow into it so when we talk about bringing an MVP um to Market\\nminimum viable product you've built and I'll I'll continue to do software examples just since that's my word and I apologize if you're You\\nKnow You're Building you're building something else or a piece of Hardware but you build something small typically you're building a fraction of your total\", metadata={'source': '/teamspace/studios/this_studio/retrieval-augmented-generation/data/part2.txt'}),\n",
       " Document(page_content=\"build a repeatable product so when we talk about designing a product for um product Market fit the\\nfirst thing you do when you're building you know a product is you build an MVP it's called minimum viable product\\num this will be a little bit of review just a couple slides I promise we won't we won't harp on it too much\\num but it's super important you triple check your value proposition before you do anything before you spend any money\", metadata={'source': '/teamspace/studios/this_studio/retrieval-augmented-generation/data/part2.txt'}),\n",
       " Document(page_content=\"build a repeatable product so when we talk about designing a product for um product Market fit the\\nfirst thing you do when you're building you know a product is you build an MVP it's called minimum viable product\\num this will be a little bit of review just a couple slides I promise we won't we won't harp on it too much\\num but it's super important you triple check your value proposition before you do anything before you spend any money\", metadata={'source': '/teamspace/studios/this_studio/retrieval-augmented-generation/data/part2.txt'})]"
      ]
     },
     "execution_count": 49,
     "metadata": {},
     "output_type": "execute_result"
    }
   ],
   "source": [
    "query = \"What is minimum viable product?\"\n",
    "vectorstore.similarity_search(query)"
   ]
  }
 ],
 "metadata": {
  "kernelspec": {
   "display_name": "Python 3 (ipykernel)",
   "language": "python",
   "name": "python3"
  },
  "language_info": {
   "codemirror_mode": {
    "name": "ipython",
    "version": 3
   },
   "file_extension": ".py",
   "mimetype": "text/x-python",
   "name": "python",
   "nbconvert_exporter": "python",
   "pygments_lexer": "ipython3",
   "version": "3.10.13"
  }
 },
 "nbformat": 4,
 "nbformat_minor": 5
}
