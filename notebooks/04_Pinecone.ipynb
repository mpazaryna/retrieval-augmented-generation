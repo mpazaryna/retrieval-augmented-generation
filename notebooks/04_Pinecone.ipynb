{
 "cells": [
  {
   "cell_type": "code",
   "execution_count": null,
   "id": "10febb02",
   "metadata": {},
   "outputs": [],
   "source": [
    "# Start Here - New Code"
   ]
  },
  {
   "cell_type": "code",
   "execution_count": 1,
   "id": "cce99452",
   "metadata": {},
   "outputs": [
    {
     "name": "stderr",
     "output_type": "stream",
     "text": [
      "Since the GPL-licensed package `unidecode` is not installed, using Python's `unicodedata` package which yields worse results.\n"
     ]
    }
   ],
   "source": [
    "from langchain.text_splitter import CharacterTextSplitter\n",
    "from langchain.text_splitter import RecursiveCharacterTextSplitter\n",
    "from langchain.docstore.document import Document\n",
    "from langchain.document_loaders import UnstructuredURLLoader\n",
    "from langchain.chains.qa_with_sources import load_qa_with_sources_chain\n",
    "from langchain.vectorstores.pinecone import Pinecone\n",
    "from langchain.chains import RetrievalQA\n",
    "from langchain import OpenAI\n",
    "from langchain_openai import ChatOpenAI\n",
    "from cleantext import clean\n",
    "import os\n",
    "import nltk\n",
    "import pinecone\n",
    "import openai"
   ]
  },
  {
   "cell_type": "code",
   "execution_count": 2,
   "id": "e03d9404",
   "metadata": {},
   "outputs": [
    {
     "name": "stdout",
     "output_type": "stream",
     "text": [
      "Enter your links below: \n"
     ]
    }
   ],
   "source": [
    "urls = []\n",
    "n_weblinks = int(input(\"How many web links you want the RAG agent to refer for response generation & insights? Enter here: \"))\n",
    "print(\"Enter your links below: \")\n",
    "for i in range(0, n_weblinks):\n",
    "  inp = input()\n",
    "  # appending the element in list\n",
    "  urls.append(inp)"
   ]
  },
  {
   "cell_type": "code",
   "execution_count": 3,
   "id": "ece1c1b3",
   "metadata": {},
   "outputs": [],
   "source": [
    "loader = UnstructuredURLLoader(urls=urls)\n",
    "urls = loader.load()"
   ]
  },
  {
   "cell_type": "code",
   "execution_count": 4,
   "id": "3d852f8e",
   "metadata": {},
   "outputs": [],
   "source": [
    "# Merging urls into a single list\n",
    "documents = []\n",
    "documents.extend(urls)"
   ]
  },
  {
   "cell_type": "code",
   "execution_count": 5,
   "id": "aecd80a7",
   "metadata": {},
   "outputs": [
    {
     "data": {
      "text/plain": [
       "[Document(page_content='Pinecone Docs home page\\n\\nSign up free\\n\\nStatus\\n\\nSupport\\n\\nLog In\\n\\nSign up free\\n\\nSearch\\n\\nNavigation\\n\\nProjects\\n\\nUnderstanding projects\\n\\nHome\\n\\nGuides\\n\\nReference\\n\\nExamples\\n\\nIntegrations\\n\\nTools\\n\\nTroubleshooting\\n\\nReleases\\n\\nGet started\\n\\nQuickstart\\n\\nBuild a RAG chatbot\\n\\nAuthentication\\n\\nExamples\\n\\nOrganizations\\n\\nUnderstanding organizations\\n\\nManage billing\\n\\nManage cost\\n\\nConfigure single sign-on\\n\\nManage organization members\\n\\nProjects\\n\\nUnderstanding projects\\n\\nCreate a project\\n\\nManage project members', metadata={'source': 'https://docs.pinecone.io/guides/projects/understanding-projects'}),\n",
       " Document(page_content='Rename a project\\n\\nSet a project pod limit\\n\\nIndexes\\n\\nUnderstanding indexes\\n\\nCreate an index\\n\\nMigrate a pod-based index to serverless\\n\\nView index information\\n\\nBack up an index\\n\\nDelete an index\\n\\nUse namespaces\\n\\nImplement multitenancy\\n\\nChoose a pod type and size\\n\\nConfigure pod-based indexes\\n\\nScale pod-based indexes\\n\\nUnderstanding collections\\n\\nData\\n\\nUpsert data\\n\\nQuery data\\n\\nFetch data\\n\\nUpdate data\\n\\nDelete data\\n\\nList record IDs\\n\\nGet an index endpoint\\n\\nFilter with metadata\\n\\nManage RAG documents', metadata={'source': 'https://docs.pinecone.io/guides/projects/understanding-projects'}),\n",
       " Document(page_content='Hybrid search and sparse vectors\\n\\nManage datasets\\n\\nOperations\\n\\nMigrate to the new API\\n\\nMove to production\\n\\nPerformance tuning\\n\\nEnable AWS PrivateLink\\n\\nMonitoring\\n\\nProjects\\n\\nUnderstanding projects\\n\\nA Pinecone project belongs to an organization and contains a number of indexes and users. Only a user who belongs to the project can access the indexes in that project. Each project also has at least one project owner.\\n\\n\\u200bProject environments', metadata={'source': 'https://docs.pinecone.io/guides/projects/understanding-projects'}),\n",
       " Document(page_content='On the new Pinecone API, you no longer choose a single cloud environment for a project. Instead, you choose a cloud environment for each index in a project. This makes it easy to manage related resources across environments and use the same API key to access them.\\n\\n\\u200bProject roles\\n\\nWhen you invite a member to a project, you assign a project role that determines their permissions within the Pinecone console. For more details, see Manage project members.\\n\\n\\u200bAPI keys', metadata={'source': 'https://docs.pinecone.io/guides/projects/understanding-projects'}),\n",
       " Document(page_content='\\u200bAPI keys\\n\\nEach Pinecone project has one or more API keys. In order to make calls to the Pinecone API, a user must provide a valid API key for the relevant Pinecone project.\\n\\nTo view the API keys for your project:\\n\\nOpen the Pinecone console.\\n\\nSelect your project.\\n\\nGo to API Keys.\\n\\n\\u200bProject pod limit\\n\\nTo control costs, project owners can set the maximum total number of pods allowed across all pod-based indexes in a project.', metadata={'source': 'https://docs.pinecone.io/guides/projects/understanding-projects'}),\n",
       " Document(page_content='Pod limits do not apply to serverless indexes. Serverless indexes auto-scale based on usage.\\n\\n\\u200bSee also\\n\\nUnderstanding organizations\\n\\nManage organization members\\n\\nWas this page helpful?\\n\\nManage organization members\\n\\nCreate a project\\n\\ntwitter\\n\\nlinkedin\\n\\nOn this page\\n\\nProject environments\\n\\nProject roles\\n\\nAPI keys\\n\\nProject pod limit\\n\\nSee also', metadata={'source': 'https://docs.pinecone.io/guides/projects/understanding-projects'})]"
      ]
     },
     "execution_count": 5,
     "metadata": {},
     "output_type": "execute_result"
    }
   ],
   "source": [
    "text_splitter = RecursiveCharacterTextSplitter(chunk_size=500, chunk_overlap=20)\n",
    "texts = text_splitter.split_documents(documents)\n",
    "texts"
   ]
  },
  {
   "cell_type": "code",
   "execution_count": 6,
   "id": "72d2727f",
   "metadata": {},
   "outputs": [
    {
     "data": {
      "text/plain": [
       "\"[document(page_content='pinecone docs home page\\nsign up free\\nstatus\\nsupport\\nlog in\\nsign up free\\nsearch\\nnavigation\\nprojects\\nunderstanding projects\\nhome\\nguides\\nreference\\nexamples\\nintegrations\\ntools\\ntroubleshooting\\nreleases\\nget started\\nquickstart\\nbuild a rag chatbot\\nauthentication\\nexamples\\norganizations\\nunderstanding organizations\\nmanage billing\\nmanage cost\\nconfigure single sign-on\\nmanage organization members\\nprojects\\nunderstanding projects\\ncreate a project\\nmanage project members', metadata={'source': 'https://docs.pinecone.io/guides/projects/understanding-projects'}), document(page_content='rename a project\\nset a project pod limit\\nindexes\\nunderstanding indexes\\ncreate an index\\nmigrate a pod-based index to serverless\\nview index information\\nback up an index\\ndelete an index\\nuse namespaces\\nimplement multitenancy\\nchoose a pod type and size\\nconfigure pod-based indexes\\nscale pod-based indexes\\nunderstanding collections\\ndata\\nupsert data\\nquery data\\nfetch data\\nupdate data\\ndelete data\\nlist record ids\\nget an index endpoint\\nfilter with metadata\\nmanage rag documents', metadata={'source': 'https://docs.pinecone.io/guides/projects/understanding-projects'}), document(page_content='hybrid search and sparse vectors\\nmanage datasets\\noperations\\nmigrate to the new api\\nmove to production\\nperformance tuning\\nenable aws privatelink\\nmonitoring\\nprojects\\nunderstanding projects\\na pinecone project belongs to an organization and contains a number of indexes and users. only a user who belongs to the project can access the indexes in that project. each project also has at least one project owner.\\nproject environments', metadata={'source': 'https://docs.pinecone.io/guides/projects/understanding-projects'}), document(page_content='on the new pinecone api, you no longer choose a single cloud environment for a project. instead, you choose a cloud environment for each index in a project. this makes it easy to manage related resources across environments and use the same api key to access them.\\nproject roles\\nwhen you invite a member to a project, you assign a project role that determines their permissions within the pinecone console. for more details, see manage project members.\\napi keys', metadata={'source': 'https://docs.pinecone.io/guides/projects/understanding-projects'}), document(page_content='api keys\\neach pinecone project has one or more api keys. in order to make calls to the pinecone api, a user must provide a valid api key for the relevant pinecone project.\\nto view the api keys for your project:\\nopen the pinecone console.\\nselect your project.\\ngo to api keys.\\nproject pod limit\\nto control costs, project owners can set the maximum total number of pods allowed across all pod-based indexes in a project.', metadata={'source': 'https://docs.pinecone.io/guides/projects/understanding-projects'}), document(page_content='pod limits do not apply to serverless indexes. serverless indexes auto-scale based on usage.\\nsee also\\nunderstanding organizations\\nmanage organization members\\nwas this page helpful?\\nmanage organization members\\ncreate a project\\ntwitter\\nlinkedin\\non this page\\nproject environments\\nproject roles\\napi keys\\nproject pod limit\\nsee also', metadata={'source': 'https://docs.pinecone.io/guides/projects/understanding-projects'})]\""
      ]
     },
     "execution_count": 6,
     "metadata": {},
     "output_type": "execute_result"
    }
   ],
   "source": [
    "clean_url_text = clean(text=texts,\n",
    "            fix_unicode=True,\n",
    "            to_ascii=True,\n",
    "            lower=True,\n",
    "            no_line_breaks=False,\n",
    "            no_urls=False,\n",
    "            no_emails=False,\n",
    "            no_phone_numbers=False,\n",
    "            no_numbers=False,\n",
    "            no_digits=False,\n",
    "            no_currency_symbols=False,\n",
    "            no_punct=False,\n",
    "            replace_with_punct=\"\",\n",
    "            replace_with_url=\"This is a URL\",\n",
    "            replace_with_email=\"Email\",\n",
    "            replace_with_phone_number=\"\",\n",
    "            replace_with_number=\"123\",\n",
    "            replace_with_digit=\"0\",\n",
    "            replace_with_currency_symbol=\"$\",\n",
    "            lang=\"en\"\n",
    "            )\n",
    "clean_url_text"
   ]
  },
  {
   "cell_type": "code",
   "execution_count": 7,
   "id": "4c43e092",
   "metadata": {},
   "outputs": [],
   "source": [
    "from pinecone import Pinecone\n",
    "\n",
    "# configure client\n",
    "pc = Pinecone()"
   ]
  },
  {
   "cell_type": "code",
   "execution_count": 8,
   "id": "7f8b8040",
   "metadata": {},
   "outputs": [],
   "source": [
    "from pinecone import ServerlessSpec\n",
    "\n",
    "cloud = os.environ.get('PINECONE_CLOUD') or 'aws'\n",
    "region = os.environ.get('PINECONE_REGION') or 'us-east-1'\n",
    "spec = ServerlessSpec(cloud=cloud, region=region)"
   ]
  },
  {
   "cell_type": "code",
   "execution_count": 9,
   "id": "5ab8a7c9",
   "metadata": {},
   "outputs": [],
   "source": [
    "import time\n",
    "index_name = \"myindex2\"\n",
    "\n",
    "if index_name in pc.list_indexes().names():\n",
    "    pc.delete_index(index_name)\n",
    "\n",
    "# we create a new index\n",
    "pc.create_index(\n",
    "        index_name,\n",
    "        dimension=1536,  # dimensionality of text-embedding-ada-002\n",
    "        metric='dotproduct',\n",
    "        spec=spec\n",
    "    )\n",
    "\n",
    "# wait for index to be initialized\n",
    "while not pc.describe_index(index_name).status['ready']:\n",
    "    time.sleep(1)"
   ]
  },
  {
   "cell_type": "code",
   "execution_count": 10,
   "id": "051ed00c",
   "metadata": {},
   "outputs": [
    {
     "data": {
      "text/plain": [
       "{'dimension': 1536,\n",
       " 'index_fullness': 0.0,\n",
       " 'namespaces': {},\n",
       " 'total_vector_count': 0}"
      ]
     },
     "execution_count": 10,
     "metadata": {},
     "output_type": "execute_result"
    }
   ],
   "source": [
    "index = pc.Index(index_name)\n",
    "index.describe_index_stats()"
   ]
  },
  {
   "cell_type": "code",
   "execution_count": 11,
   "id": "eb33e1a3",
   "metadata": {},
   "outputs": [],
   "source": [
    "from langchain_pinecone import PineconeVectorStore\n",
    "from langchain_openai import OpenAIEmbeddings\n",
    "\n",
    "embeddings = OpenAIEmbeddings()\n",
    "vectorstore = PineconeVectorStore(index_name=index_name, embedding=embeddings)\n"
   ]
  },
  {
   "cell_type": "code",
   "execution_count": 12,
   "id": "99fa3eed",
   "metadata": {},
   "outputs": [],
   "source": [
    "vectorstore_from_docs = PineconeVectorStore.from_documents(\n",
    "        texts,\n",
    "        index_name=index_name,\n",
    "        embedding=embeddings\n",
    "    )"
   ]
  },
  {
   "cell_type": "code",
   "execution_count": 14,
   "id": "860ca4bc",
   "metadata": {},
   "outputs": [
    {
     "data": {
      "text/plain": [
       "[Document(page_content='Pinecone Docs home page\\n\\nSign up free\\n\\nStatus\\n\\nSupport\\n\\nLog In\\n\\nSign up free\\n\\nSearch\\n\\nNavigation\\n\\nProjects\\n\\nUnderstanding projects\\n\\nHome\\n\\nGuides\\n\\nReference\\n\\nExamples\\n\\nIntegrations\\n\\nTools\\n\\nTroubleshooting\\n\\nReleases\\n\\nGet started\\n\\nQuickstart\\n\\nBuild a RAG chatbot\\n\\nAuthentication\\n\\nExamples\\n\\nOrganizations\\n\\nUnderstanding organizations\\n\\nManage billing\\n\\nManage cost\\n\\nConfigure single sign-on\\n\\nManage organization members\\n\\nProjects\\n\\nUnderstanding projects\\n\\nCreate a project\\n\\nManage project members', metadata={'source': 'https://docs.pinecone.io/guides/projects/understanding-projects'}),\n",
       " Document(page_content='\\u200bAPI keys\\n\\nEach Pinecone project has one or more API keys. In order to make calls to the Pinecone API, a user must provide a valid API key for the relevant Pinecone project.\\n\\nTo view the API keys for your project:\\n\\nOpen the Pinecone console.\\n\\nSelect your project.\\n\\nGo to API Keys.\\n\\n\\u200bProject pod limit\\n\\nTo control costs, project owners can set the maximum total number of pods allowed across all pod-based indexes in a project.', metadata={'source': 'https://docs.pinecone.io/guides/projects/understanding-projects'}),\n",
       " Document(page_content='Hybrid search and sparse vectors\\n\\nManage datasets\\n\\nOperations\\n\\nMigrate to the new API\\n\\nMove to production\\n\\nPerformance tuning\\n\\nEnable AWS PrivateLink\\n\\nMonitoring\\n\\nProjects\\n\\nUnderstanding projects\\n\\nA Pinecone project belongs to an organization and contains a number of indexes and users. Only a user who belongs to the project can access the indexes in that project. Each project also has at least one project owner.\\n\\n\\u200bProject environments', metadata={'source': 'https://docs.pinecone.io/guides/projects/understanding-projects'}),\n",
       " Document(page_content='On the new Pinecone API, you no longer choose a single cloud environment for a project. Instead, you choose a cloud environment for each index in a project. This makes it easy to manage related resources across environments and use the same API key to access them.\\n\\n\\u200bProject roles\\n\\nWhen you invite a member to a project, you assign a project role that determines their permissions within the Pinecone console. For more details, see Manage project members.\\n\\n\\u200bAPI keys', metadata={'source': 'https://docs.pinecone.io/guides/projects/understanding-projects'})]"
      ]
     },
     "execution_count": 14,
     "metadata": {},
     "output_type": "execute_result"
    }
   ],
   "source": [
    "query = \"What is Pinecone?\"\n",
    "vectorstore.similarity_search(query)"
   ]
  },
  {
   "cell_type": "code",
   "execution_count": 15,
   "id": "9e76effb",
   "metadata": {},
   "outputs": [
    {
     "name": "stderr",
     "output_type": "stream",
     "text": [
      "/home/zeus/miniconda3/envs/cloudspace/lib/python3.10/site-packages/langchain_core/_api/deprecation.py:139: LangChainDeprecationWarning: The method `Chain.run` was deprecated in langchain 0.1.0 and will be removed in 0.3.0. Use invoke instead.\n",
      "  warn_deprecated(\n"
     ]
    },
    {
     "data": {
      "text/plain": [
       "'Pinecone is a platform that allows users to create projects, manage indexes, and use API keys to make calls to the Pinecone API for tasks like search and managing datasets. It also provides features like project environments, project roles, and project pod limits to help users control costs and manage resources effectively.'"
      ]
     },
     "execution_count": 15,
     "metadata": {},
     "output_type": "execute_result"
    }
   ],
   "source": [
    "from langchain_openai import ChatOpenAI\n",
    "from langchain.chains import RetrievalQA\n",
    "# completion llm\n",
    "llm = ChatOpenAI(\n",
    "    model_name='gpt-3.5-turbo',\n",
    "    temperature=0.0\n",
    ")\n",
    "qa = RetrievalQA.from_chain_type(\n",
    "    llm=llm,\n",
    "    chain_type=\"stuff\",\n",
    "    retriever=vectorstore.as_retriever()\n",
    ")\n",
    "qa.run(query)"
   ]
  },
  {
   "cell_type": "code",
   "execution_count": 17,
   "id": "eab87175",
   "metadata": {},
   "outputs": [],
   "source": [
    "initial_prompt = \"You are a researcher who is going to search the web links, summarize them and share insights as asked\""
   ]
  },
  {
   "cell_type": "code",
   "execution_count": 21,
   "id": "d167da23",
   "metadata": {},
   "outputs": [],
   "source": [
    "query = \"What is the primary goal of Pinecode projects?\"\n",
    "result = qa.invoke({\"query\": query, \"prompt\": initial_prompt})"
   ]
  },
  {
   "cell_type": "code",
   "execution_count": 22,
   "id": "d312a260",
   "metadata": {},
   "outputs": [
    {
     "name": "stdout",
     "output_type": "stream",
     "text": [
      "The primary goal of Pinecone projects is to organize and manage indexes, users, and resources within an organization. Each project contains indexes and users, and project owners can control access and permissions through project roles and API keys.\n"
     ]
    }
   ],
   "source": [
    "print(result['result'])"
   ]
  }
 ],
 "metadata": {
  "kernelspec": {
   "display_name": "Python 3 (ipykernel)",
   "language": "python",
   "name": "python3"
  },
  "language_info": {
   "codemirror_mode": {
    "name": "ipython",
    "version": 3
   },
   "file_extension": ".py",
   "mimetype": "text/x-python",
   "name": "python",
   "nbconvert_exporter": "python",
   "pygments_lexer": "ipython3",
   "version": "3.10.13"
  }
 },
 "nbformat": 4,
 "nbformat_minor": 5
}
