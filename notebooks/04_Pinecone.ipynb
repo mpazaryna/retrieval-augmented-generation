{
 "cells": [
  {
   "cell_type": "code",
   "execution_count": 1,
   "id": "153047ba",
   "metadata": {},
   "outputs": [],
   "source": [
    "from langchain.vectorstores import Chroma\n",
    "from langchain_openai import OpenAIEmbeddings\n",
    "from langchain.text_splitter import RecursiveCharacterTextSplitter\n",
    "from langchain_openai import OpenAI\n",
    "from langchain.chains import RetrievalQA\n",
    "from langchain.document_loaders import TextLoader\n",
    "from langchain.document_loaders import DirectoryLoader\n"
   ]
  },
  {
   "cell_type": "markdown",
   "id": "49fca250",
   "metadata": {},
   "source": [
    "## Load data"
   ]
  },
  {
   "cell_type": "code",
   "execution_count": 2,
   "id": "ac46a72c",
   "metadata": {},
   "outputs": [],
   "source": [
    "docs=\"/teamspace/studios/this_studio/retrieval-augmented-generation/data/\"\n",
    "loader = DirectoryLoader(docs, glob=\"./*.txt\", loader_cls=TextLoader)\n",
    "documents = loader.load()"
   ]
  },
  {
   "cell_type": "markdown",
   "id": "6b48a301",
   "metadata": {},
   "source": [
    "## Split document into nodes"
   ]
  },
  {
   "cell_type": "code",
   "execution_count": 3,
   "id": "8a537bc0-78ee-4dda-a43f-60fd80062df6",
   "metadata": {
    "height": 81,
    "tags": []
   },
   "outputs": [],
   "source": [
    "text_splitter = RecursiveCharacterTextSplitter(chunk_size=1000, chunk_overlap=200)\n",
    "texts = text_splitter.split_documents(documents)"
   ]
  },
  {
   "cell_type": "code",
   "execution_count": 4,
   "id": "934b4203",
   "metadata": {},
   "outputs": [
    {
     "data": {
      "text/plain": [
       "83"
      ]
     },
     "execution_count": 4,
     "metadata": {},
     "output_type": "execute_result"
    }
   ],
   "source": [
    "len(texts)"
   ]
  },
  {
   "cell_type": "code",
   "execution_count": 5,
   "id": "223e2d4c",
   "metadata": {},
   "outputs": [
    {
     "data": {
      "text/plain": [
       "Document(page_content=\"get to the next round of funding Beyond just that product Market fit so product Market fit is just one step just one\\nstep along the way so the the challenge is something we call the The Product Company Gap and I\\nfigured I'd you know since I I actually started a company I figured I'd tell you about a company that actually failed to get across that Gap um and that might be\\nuseful I started a company called padient um it was a mobile payments company QR code payments before it was\\nhappening in China and Korea like we actually had to write we had to code our own QR Code Reader we hired a satellite\\nimagery engineer to build our own QR Reader from scratch the idea was hey we\\ncould use QR codes instead of credit cards to pay for stuff um we knew like we had we started\\ncompanies before and we knew that it was going to be hard to build a company a direct a consumer company how are you\", metadata={'source': '/teamspace/studios/this_studio/retrieval-augmented-generation/data/part1.txt'})"
      ]
     },
     "execution_count": 5,
     "metadata": {},
     "output_type": "execute_result"
    }
   ],
   "source": [
    "texts[3]"
   ]
  },
  {
   "cell_type": "code",
   "execution_count": null,
   "id": "10febb02",
   "metadata": {},
   "outputs": [],
   "source": [
    "# Start Here - New Code"
   ]
  },
  {
   "cell_type": "code",
   "execution_count": 5,
   "id": "cce99452",
   "metadata": {},
   "outputs": [
    {
     "name": "stderr",
     "output_type": "stream",
     "text": [
      "Since the GPL-licensed package `unidecode` is not installed, using Python's `unicodedata` package which yields worse results.\n"
     ]
    }
   ],
   "source": [
    "from langchain.text_splitter import CharacterTextSplitter\n",
    "from langchain.text_splitter import RecursiveCharacterTextSplitter\n",
    "from langchain.docstore.document import Document\n",
    "from langchain.document_loaders import UnstructuredURLLoader\n",
    "from langchain.chains.qa_with_sources import load_qa_with_sources_chain\n",
    "from langchain.vectorstores.pinecone import Pinecone\n",
    "from langchain.chains import RetrievalQA\n",
    "from langchain import OpenAI\n",
    "from langchain_openai import ChatOpenAI\n",
    "from cleantext import clean\n",
    "import os\n",
    "import nltk\n",
    "import pinecone\n",
    "import openai"
   ]
  },
  {
   "cell_type": "code",
   "execution_count": 7,
   "id": "e03d9404",
   "metadata": {},
   "outputs": [
    {
     "name": "stdout",
     "output_type": "stream",
     "text": [
      "Enter your links below: \n"
     ]
    }
   ],
   "source": [
    "urls = []\n",
    "n_weblinks = int(input(\"How many web links you want the RAG agent to refer for response generation & insights? Enter here: \"))\n",
    "print(\"Enter your links below: \")\n",
    "for i in range(0, n_weblinks):\n",
    "  inp = input()\n",
    "  # appending the element in list\n",
    "  urls.append(inp)"
   ]
  },
  {
   "cell_type": "code",
   "execution_count": 8,
   "id": "ece1c1b3",
   "metadata": {},
   "outputs": [
    {
     "name": "stderr",
     "output_type": "stream",
     "text": [
      "[nltk_data] Downloading package punkt to\n",
      "[nltk_data]     /teamspace/studios/this_studio/nltk_data...\n",
      "[nltk_data]   Unzipping tokenizers/punkt.zip.\n",
      "[nltk_data] Downloading package averaged_perceptron_tagger to\n",
      "[nltk_data]     /teamspace/studios/this_studio/nltk_data...\n",
      "[nltk_data]   Unzipping taggers/averaged_perceptron_tagger.zip.\n"
     ]
    }
   ],
   "source": [
    "loader = UnstructuredURLLoader(urls=urls)\n",
    "urls = loader.load()"
   ]
  },
  {
   "cell_type": "code",
   "execution_count": 9,
   "id": "3d852f8e",
   "metadata": {},
   "outputs": [],
   "source": [
    "# Merging urls into a single list\n",
    "documents = []\n",
    "documents.extend(urls)"
   ]
  },
  {
   "cell_type": "code",
   "execution_count": 10,
   "id": "aecd80a7",
   "metadata": {},
   "outputs": [
    {
     "data": {
      "text/plain": [
       "[Document(page_content='Skip to content\\n\\nMemberships\\t\\t\\t\\t\\t\\t\\t\\t\\t\\n\\t\\t\\t\\t\\t\\t\\t\\t\\t\\n\\t\\t\\t\\t\\t\\t\\n\\t\\t\\t\\t\\t\\t\\t\\t\\t\\t\\t\\t\\t\\tClose Memberships\\n\\t\\t\\t\\t\\t\\t\\n\\t\\t\\t\\t\\t\\t\\n\\t\\t\\t\\t\\t\\t\\t\\t\\t\\t\\t\\t\\t\\tOpen Memberships\\n\\nAccreditations\\t\\t\\t\\t\\t\\t\\t\\t\\t\\n\\t\\t\\t\\t\\t\\t\\t\\t\\t\\n\\t\\t\\t\\t\\t\\t\\n\\t\\t\\t\\t\\t\\t\\t\\t\\t\\t\\t\\t\\t\\tClose Accreditations\\n\\t\\t\\t\\t\\t\\t\\n\\t\\t\\t\\t\\t\\t\\n\\t\\t\\t\\t\\t\\t\\t\\t\\t\\t\\t\\t\\t\\tOpen Accreditations\\n\\nContinuous Learning\\t\\t\\t\\t\\t\\t\\t\\t\\t\\n\\t\\t\\t\\t\\t\\t\\t\\t\\t\\n\\t\\t\\t\\t\\t\\t\\n\\t\\t\\t\\t\\t\\t\\t\\t\\t\\t\\t\\t\\t\\tClose Continuous Learning\\n\\t\\t\\t\\t\\t\\t\\n\\t\\t\\t\\t\\t\\t\\n\\t\\t\\t\\t\\t\\t\\t\\t\\t\\t\\t\\t\\t\\tOpen Continuous Learning\\n\\nCorporate Trainings\\n\\nContact\\n\\nIndividual Membership', metadata={'source': 'https://adasci.org/'}),\n",
       " Document(page_content='Join the world’s leading Data Science professional community. You can access both General & Premium Memberships.\\n\\nLearn More\\n\\nCorporate Membership\\n\\nAny corporate, organization or academic institution having common interests in the AI field can become a member of ADaSci.\\n\\nLearn More\\n\\nChartered Data Scientist™\\n\\nThe Chartered Data Scientist (CDS) credential gives a strong understanding of advanced data science profession and in-depth, applied analytics skills.\\n\\nLearn More', metadata={'source': 'https://adasci.org/'}),\n",
       " Document(page_content='Learn More\\n\\nCertified Data Scientist - Associate Level\\n\\nBest suitable for the aspirants who want to start their career in the data science field, this certification.\\n\\nLearn More\\n\\nCertified Generative AI Engineer\\n\\nAn upskilling-linked certification initiative designed to recognize talent in generative AI and large language models.\\n\\nLearn More\\n\\nOur Latest Courses\\n\\nBuilding Knowledge Graph Solutions with LangGraph\\n\\n₹2,923.00\\n\\nAdd to cart\\n\\nGenerative AI Application Development with Azure', metadata={'source': 'https://adasci.org/'}),\n",
       " Document(page_content=\"₹5,011.00\\n\\nAdd to cart\\n\\nBuilding Multi-Agent LLMs with AutoGen\\n\\n₹3,341.00\\n\\nAdd to cart\\n\\nVector Search Techniques with Weaviate\\n\\n₹3,341.00\\n\\nAdd to cart\\n\\nHi, Welcome back!\\n\\nForgot?\\n\\n\\n\\t\\t\\tDon't have an account?\\xa0\\n\\t\\t\\t\\n\\nRegister Now\\n\\nAccess all Courses\\n\\n₹0.00\\n\\t\\t\\t\\t\\n\\t\\t\\t\\t\\t0\\n\\t\\t\\t\\t\\t\\t\\t\\t\\t\\tCart\\n\\nMembers Area\\n\\nA Global Professional Body of AI Professionals\", metadata={'source': 'https://adasci.org/'}),\n",
       " Document(page_content='Shaping the future of AI talent, Association of Data Scientists accredits and elevates professionals with recognized certifications and transformative corporate training.\\n\\nJoin now to advance your AI expertise and achieve global recognition as a certified professional!\\n\\nBECOME A MEMBER\\n\\nSTART LEARNING AI\\n\\nOur Accreditations\\n\\nGet global recognition for AI skills\\n\\nChartered Data Scientist (CDS™)', metadata={'source': 'https://adasci.org/'}),\n",
       " Document(page_content='The highest distinction in the data science profession. Not just earn a charter, but use it as a designation.\\n\\nLearn more\\n\\nCertified Data Scientist - Associate Level\\n\\nGlobal recognition of data science skills at the beginner level.\\n\\nLearn more\\n\\nCertified Generative AI Engineer\\n\\nAn upskilling-linked certification initiative designed to recognize talent in generative AI and large language models\\n\\nLearn more\\n\\nCorporate training programs on Generative AI', metadata={'source': 'https://adasci.org/'}),\n",
       " Document(page_content='Generative AI Skill Development for Enterprises\\n\\nOur customized corporate training program on Generative AI provides a unique opportunity to empower, retain, and advance your talent.\\n\\nFind out more\\n\\nSecure Your Spot in the AI Revolution\\n\\nAccelerate your AI expertise with immersive courses and programs tailored for dynamic, hands-on learning.\\n\\nBuilding Knowledge Graph Solutions with LangGraph\\n\\n₹2,923.00\\n\\nAdd to cart\\n\\nGenerative AI Application Development with Azure\\n\\n₹5,011.00\\n\\nAdd to cart', metadata={'source': 'https://adasci.org/'}),\n",
       " Document(page_content='Add to cart\\n\\nBuilding Multi-Agent LLMs with AutoGen\\n\\n₹3,341.00\\n\\nAdd to cart\\n\\nVisit the AI Academy\\n\\nJoin thousands of members and receive all benefits.\\n\\nBecome Our Member\\n\\nWe offer both Individual & Institutional Membership.\\n\\nFind out more\\n\\nLatest from our Blogs\\n\\nNvidia’s Nemotron-4 340B for Synthetic Data Generation\\n\\nDiscover Nvidia’s Nemotron-4 340B models, revolutionising synthetic data generation and LLM training challenges.\\n\\nExploratory Guide to Cosmopedia: Hugging Face’s Gateway to AI', metadata={'source': 'https://adasci.org/'}),\n",
       " Document(page_content='Cosmopedia by HuggingFace merges AI with human knowledge, revolutionizing information synthesis and accessibility across various fields.\\n\\nImplementing RAG over Excel Sheets through LlamaIndex\\n\\nUsing LlamaIndex and LlamaParse for RAG implementation by preparing Excel data for LLM applications.\\n\\nA Hands-On Guide to RecurrentGemma With Hugging Face\\n\\nRecurrentGemma: Google DeepMind’s efficient AI model revolutionizes text generation with innovative hybrid architecture.', metadata={'source': 'https://adasci.org/'}),\n",
       " Document(page_content='Stability.ai’s Stable Audio Open: A Text-to-Audio Generation Model\\n\\nStability.ai’s new Stable Audio Open generates audio from text prompts, enhancing creative possibilities in sound design.\\n\\nLong-Context Comprehension with Dual Chunk Attention (DCA) in LLMs\\n\\nDual Chunk Attention optimizes large language models for efficient processing of extensive text sequences and long contexts.\\n\\nHands-on Guide to Langfuse for LLM-Based Applications', metadata={'source': 'https://adasci.org/'}),\n",
       " Document(page_content='Explore Langfuse’s powerful tools for building and managing LLM applications in Python, focusing on key features.\\n\\nEnhancing Retrieval-Augmented Generation in NLP with CRAG\\n\\nLearn how CRAG benchmarks Retrieval-Augmented Generation (RAG) systems for reliable and creative question-answering in NLP.\\n\\nIntegrating CrewAI and Ollama for Building Intelligent Agents\\n\\nDiscover how CrewAI and Ollama collaborate to create intelligent, efficient AI agents for complex task management.\\n\\nRead all our Blogs', metadata={'source': 'https://adasci.org/'}),\n",
       " Document(page_content='Read all our Blogs\\n\\nOur Upcoming Conference\\n\\nDeep Learning DevCon 2024\\n\\nJoin us to hear some of the leading professionals & researchers that are pushing the boundaries of this very interesting area.\\n\\nRegister\\n\\nNot a member, but still want to know what we are upto? Subscribe to our Newsletter\\n\\nStart Free Trial\\n\\nThe power of intelligence to propel humanity and make a difference\\n\\nOur Accrediations\\n\\nChartered Data Scientist™ (CDS)\\n\\nCertified Data Scientist - Associate Level', metadata={'source': 'https://adasci.org/'}),\n",
       " Document(page_content='Certified Generative AI Engineer\\n\\nCDS Program\\n\\nAbout CDS\\n\\nExam Information\\n\\nCandidate Body of Knowledge (CBOK)\\n\\nExam Structure\\n\\nExam Cost and Registration Fees\\n\\nEthical & Standards for Chartered Data Scientists (CDS)\\n\\nHow to Earn the CDS Charter\\n\\nTerms & Conditions For CDS™\\n\\nMembership\\n\\nIndividual Membership\\n\\nInstitutional Membership\\n\\nAbout\\n\\nAbout ADaSci\\n\\nContinuous Learning\\n\\nTeam\\n\\nPrivacy Policy\\n\\nTerms and Conditions\\n\\nChapters\\n\\nBlogs\\n\\nContact\\n\\nFor Organizations\\n\\nCorporate Trainings', metadata={'source': 'https://adasci.org/'}),\n",
       " Document(page_content=\"CDS for Organizations\\n\\nCorporate Membership\\n\\nJournal\\n\\nLattice\\n\\nAbout\\n\\nReview Committee\\n\\nTwitter\\n\\nFacebook-f\\n\\nLinkedin\\n\\n© 2024 All rights reserved Association of Data Scientists\\n\\nWe noticed you're visiting from India. We've updated our prices to Indian rupee for your shopping convenience. Use United States (US) dollar instead. Dismiss\", metadata={'source': 'https://adasci.org/'})]"
      ]
     },
     "execution_count": 10,
     "metadata": {},
     "output_type": "execute_result"
    }
   ],
   "source": [
    "text_splitter = RecursiveCharacterTextSplitter(chunk_size=500, chunk_overlap=20)\n",
    "texts = text_splitter.split_documents(documents)\n",
    "texts"
   ]
  },
  {
   "cell_type": "code",
   "execution_count": 11,
   "id": "72d2727f",
   "metadata": {},
   "outputs": [
    {
     "data": {
      "text/plain": [
       "'[document(page_content=\\'skip to content\\nmemberships\\nclose memberships\\nopen memberships\\naccreditations\\nclose accreditations\\nopen accreditations\\ncontinuous learning\\nclose continuous learning\\nopen continuous learning\\ncorporate trainings\\ncontact\\nindividual membership\\', metadata={\\'source\\': \\'https://adasci.org/\\'}), document(page_content=\\'join the world\\'s leading data science professional community. you can access both general & premium memberships.\\nlearn more\\ncorporate membership\\nany corporate, organization or academic institution having common interests in the ai field can become a member of adasci.\\nlearn more\\nchartered data scientist™️\\nthe chartered data scientist (cds) credential gives a strong understanding of advanced data science profession and in-depth, applied analytics skills.\\nlearn more\\', metadata={\\'source\\': \\'https://adasci.org/\\'}), document(page_content=\\'learn more\\ncertified data scientist - associate level\\nbest suitable for the aspirants who want to start their career in the data science field, this certification.\\nlearn more\\ncertified generative ai engineer\\nan upskilling-linked certification initiative designed to recognize talent in generative ai and large language models.\\nlearn more\\nour latest courses\\nbuilding knowledge graph solutions with langgraph\\n2,923.00\\nadd to cart\\ngenerative ai application development with azure\\', metadata={\\'source\\': \\'https://adasci.org/\\'}), document(page_content=\"5,011.00\\nadd to cart\\nbuilding multi-agent llms with autogen\\n3,341.00\\nadd to cart\\nvector search techniques with weaviate\\n3,341.00\\nadd to cart\\nhi, welcome back!\\nforgot?\\ndon\\'t have an account?\\nregister now\\naccess all courses\\n0.00\\n0\\ncart\\nmembers area\\na global professional body of ai professionals\", metadata={\\'source\\': \\'https://adasci.org/\\'}), document(page_content=\\'shaping the future of ai talent, association of data scientists accredits and elevates professionals with recognized certifications and transformative corporate training.\\njoin now to advance your ai expertise and achieve global recognition as a certified professional!\\nbecome a member\\nstart learning ai\\nour accreditations\\nget global recognition for ai skills\\nchartered data scientist (cds™️)\\', metadata={\\'source\\': \\'https://adasci.org/\\'}), document(page_content=\\'the highest distinction in the data science profession. not just earn a charter, but use it as a designation.\\nlearn more\\ncertified data scientist - associate level\\nglobal recognition of data science skills at the beginner level.\\nlearn more\\ncertified generative ai engineer\\nan upskilling-linked certification initiative designed to recognize talent in generative ai and large language models\\nlearn more\\ncorporate training programs on generative ai\\', metadata={\\'source\\': \\'https://adasci.org/\\'}), document(page_content=\\'generative ai skill development for enterprises\\nour customized corporate training program on generative ai provides a unique opportunity to empower, retain, and advance your talent.\\nfind out more\\nsecure your spot in the ai revolution\\naccelerate your ai expertise with immersive courses and programs tailored for dynamic, hands-on learning.\\nbuilding knowledge graph solutions with langgraph\\n2,923.00\\nadd to cart\\ngenerative ai application development with azure\\n5,011.00\\nadd to cart\\', metadata={\\'source\\': \\'https://adasci.org/\\'}), document(page_content=\\'add to cart\\nbuilding multi-agent llms with autogen\\n3,341.00\\nadd to cart\\nvisit the ai academy\\njoin thousands of members and receive all benefits.\\nbecome our member\\nwe offer both individual & institutional membership.\\nfind out more\\nlatest from our blogs\\nnvidia\\'s nemotron-4 340b for synthetic data generation\\ndiscover nvidia\\'s nemotron-4 340b models, revolutionising synthetic data generation and llm training challenges.\\nexploratory guide to cosmopedia: hugging face\\'s gateway to ai\\', metadata={\\'source\\': \\'https://adasci.org/\\'}), document(page_content=\\'cosmopedia by huggingface merges ai with human knowledge, revolutionizing information synthesis and accessibility across various fields.\\nimplementing rag over excel sheets through llamaindex\\nusing llamaindex and llamaparse for rag implementation by preparing excel data for llm applications.\\na hands-on guide to recurrentgemma with hugging face\\nrecurrentgemma: google deepmind\\'s efficient ai model revolutionizes text generation with innovative hybrid architecture.\\', metadata={\\'source\\': \\'https://adasci.org/\\'}), document(page_content=\\'stability.ai\\'s stable audio open: a text-to-audio generation model\\nstability.ai\\'s new stable audio open generates audio from text prompts, enhancing creative possibilities in sound design.\\nlong-context comprehension with dual chunk attention (dca) in llms\\ndual chunk attention optimizes large language models for efficient processing of extensive text sequences and long contexts.\\nhands-on guide to langfuse for llm-based applications\\', metadata={\\'source\\': \\'https://adasci.org/\\'}), document(page_content=\\'explore langfuse\\'s powerful tools for building and managing llm applications in python, focusing on key features.\\nenhancing retrieval-augmented generation in nlp with crag\\nlearn how crag benchmarks retrieval-augmented generation (rag) systems for reliable and creative question-answering in nlp.\\nintegrating crewai and ollama for building intelligent agents\\ndiscover how crewai and ollama collaborate to create intelligent, efficient ai agents for complex task management.\\nread all our blogs\\', metadata={\\'source\\': \\'https://adasci.org/\\'}), document(page_content=\\'read all our blogs\\nour upcoming conference\\ndeep learning devcon 2024\\njoin us to hear some of the leading professionals & researchers that are pushing the boundaries of this very interesting area.\\nregister\\nnot a member, but still want to know what we are upto? subscribe to our newsletter\\nstart free trial\\nthe power of intelligence to propel humanity and make a difference\\nour accrediations\\nchartered data scientist™️ (cds)\\ncertified data scientist - associate level\\', metadata={\\'source\\': \\'https://adasci.org/\\'}), document(page_content=\\'certified generative ai engineer\\ncds program\\nabout cds\\nexam information\\ncandidate body of knowledge (cbok)\\nexam structure\\nexam cost and registration fees\\nethical & standards for chartered data scientists (cds)\\nhow to earn the cds charter\\nterms & conditions for cds™️\\nmembership\\nindividual membership\\ninstitutional membership\\nabout\\nabout adasci\\ncontinuous learning\\nteam\\nprivacy policy\\nterms and conditions\\nchapters\\nblogs\\ncontact\\nfor organizations\\ncorporate trainings\\', metadata={\\'source\\': \\'https://adasci.org/\\'}), document(page_content=\"cds for organizations\\ncorporate membership\\njournal\\nlattice\\nabout\\nreview committee\\ntwitter\\nfacebook-f\\nlinkedin\\n©️ 2024 all rights reserved association of data scientists\\nwe noticed you\\'re visiting from india. we\\'ve updated our prices to indian rupee for your shopping convenience. use united states (us) dollar instead. dismiss\", metadata={\\'source\\': \\'https://adasci.org/\\'})]'"
      ]
     },
     "execution_count": 11,
     "metadata": {},
     "output_type": "execute_result"
    }
   ],
   "source": [
    "clean_url_text = clean(text=texts,\n",
    "            fix_unicode=True,\n",
    "            to_ascii=True,\n",
    "            lower=True,\n",
    "            no_line_breaks=False,\n",
    "            no_urls=False,\n",
    "            no_emails=False,\n",
    "            no_phone_numbers=False,\n",
    "            no_numbers=False,\n",
    "            no_digits=False,\n",
    "            no_currency_symbols=False,\n",
    "            no_punct=False,\n",
    "            replace_with_punct=\"\",\n",
    "            replace_with_url=\"This is a URL\",\n",
    "            replace_with_email=\"Email\",\n",
    "            replace_with_phone_number=\"\",\n",
    "            replace_with_number=\"123\",\n",
    "            replace_with_digit=\"0\",\n",
    "            replace_with_currency_symbol=\"$\",\n",
    "            lang=\"en\"\n",
    "            )\n",
    "clean_url_text"
   ]
  },
  {
   "cell_type": "code",
   "execution_count": 12,
   "id": "4c43e092",
   "metadata": {},
   "outputs": [],
   "source": [
    "from pinecone import Pinecone\n",
    "\n",
    "# configure client\n",
    "pc = Pinecone()"
   ]
  },
  {
   "cell_type": "code",
   "execution_count": 13,
   "id": "7f8b8040",
   "metadata": {},
   "outputs": [],
   "source": [
    "from pinecone import ServerlessSpec\n",
    "\n",
    "cloud = os.environ.get('PINECONE_CLOUD') or 'aws'\n",
    "region = os.environ.get('PINECONE_REGION') or 'us-east-1'\n",
    "\n",
    "spec = ServerlessSpec(cloud=cloud, region=region)"
   ]
  },
  {
   "cell_type": "code",
   "execution_count": 14,
   "id": "5ab8a7c9",
   "metadata": {},
   "outputs": [],
   "source": [
    "import time\n",
    "index_name = \"myindex\"\n",
    "\n",
    "if index_name in pc.list_indexes().names():\n",
    "    pc.delete_index(index_name)\n",
    "\n",
    "# we create a new index\n",
    "pc.create_index(\n",
    "        index_name,\n",
    "        dimension=1536,  # dimensionality of text-embedding-ada-002\n",
    "        metric='dotproduct',\n",
    "        spec=spec\n",
    "    )\n",
    "\n",
    "# wait for index to be initialized\n",
    "while not pc.describe_index(index_name).status['ready']:\n",
    "    time.sleep(1)"
   ]
  },
  {
   "cell_type": "code",
   "execution_count": 24,
   "id": "051ed00c",
   "metadata": {},
   "outputs": [
    {
     "data": {
      "text/plain": [
       "{'dimension': 1536,\n",
       " 'index_fullness': 0.0,\n",
       " 'namespaces': {'': {'vector_count': 14}},\n",
       " 'total_vector_count': 14}"
      ]
     },
     "execution_count": 24,
     "metadata": {},
     "output_type": "execute_result"
    }
   ],
   "source": [
    "index = pc.Index(index_name)\n",
    "index.describe_index_stats()"
   ]
  },
  {
   "cell_type": "code",
   "execution_count": 16,
   "id": "eb33e1a3",
   "metadata": {},
   "outputs": [],
   "source": [
    "from langchain_pinecone import PineconeVectorStore\n",
    "from langchain_openai import OpenAIEmbeddings\n",
    "\n",
    "embeddings = OpenAIEmbeddings()\n",
    "vectorstore = PineconeVectorStore(index_name=index_name, embedding=embeddings)\n"
   ]
  },
  {
   "cell_type": "code",
   "execution_count": 17,
   "id": "99fa3eed",
   "metadata": {},
   "outputs": [],
   "source": [
    "vectorstore_from_docs = PineconeVectorStore.from_documents(\n",
    "        texts,\n",
    "        index_name=index_name,\n",
    "        embedding=embeddings\n",
    "    )"
   ]
  },
  {
   "cell_type": "code",
   "execution_count": 18,
   "id": "860ca4bc",
   "metadata": {},
   "outputs": [
    {
     "data": {
      "text/plain": [
       "[Document(page_content='Join the world’s leading Data Science professional community. You can access both General & Premium Memberships.\\n\\nLearn More\\n\\nCorporate Membership\\n\\nAny corporate, organization or academic institution having common interests in the AI field can become a member of ADaSci.\\n\\nLearn More\\n\\nChartered Data Scientist™\\n\\nThe Chartered Data Scientist (CDS) credential gives a strong understanding of advanced data science profession and in-depth, applied analytics skills.\\n\\nLearn More', metadata={'source': 'https://adasci.org/'}),\n",
       " Document(page_content='Read all our Blogs\\n\\nOur Upcoming Conference\\n\\nDeep Learning DevCon 2024\\n\\nJoin us to hear some of the leading professionals & researchers that are pushing the boundaries of this very interesting area.\\n\\nRegister\\n\\nNot a member, but still want to know what we are upto? Subscribe to our Newsletter\\n\\nStart Free Trial\\n\\nThe power of intelligence to propel humanity and make a difference\\n\\nOur Accrediations\\n\\nChartered Data Scientist™ (CDS)\\n\\nCertified Data Scientist - Associate Level', metadata={'source': 'https://adasci.org/'}),\n",
       " Document(page_content='Shaping the future of AI talent, Association of Data Scientists accredits and elevates professionals with recognized certifications and transformative corporate training.\\n\\nJoin now to advance your AI expertise and achieve global recognition as a certified professional!\\n\\nBECOME A MEMBER\\n\\nSTART LEARNING AI\\n\\nOur Accreditations\\n\\nGet global recognition for AI skills\\n\\nChartered Data Scientist (CDS™)', metadata={'source': 'https://adasci.org/'}),\n",
       " Document(page_content='Certified Generative AI Engineer\\n\\nCDS Program\\n\\nAbout CDS\\n\\nExam Information\\n\\nCandidate Body of Knowledge (CBOK)\\n\\nExam Structure\\n\\nExam Cost and Registration Fees\\n\\nEthical & Standards for Chartered Data Scientists (CDS)\\n\\nHow to Earn the CDS Charter\\n\\nTerms & Conditions For CDS™\\n\\nMembership\\n\\nIndividual Membership\\n\\nInstitutional Membership\\n\\nAbout\\n\\nAbout ADaSci\\n\\nContinuous Learning\\n\\nTeam\\n\\nPrivacy Policy\\n\\nTerms and Conditions\\n\\nChapters\\n\\nBlogs\\n\\nContact\\n\\nFor Organizations\\n\\nCorporate Trainings', metadata={'source': 'https://adasci.org/'})]"
      ]
     },
     "execution_count": 18,
     "metadata": {},
     "output_type": "execute_result"
    }
   ],
   "source": [
    "query = \"What is AdaSci?\"\n",
    "vectorstore.similarity_search(query)"
   ]
  },
  {
   "cell_type": "code",
   "execution_count": 20,
   "id": "9e76effb",
   "metadata": {},
   "outputs": [
    {
     "name": "stderr",
     "output_type": "stream",
     "text": [
      "/home/zeus/miniconda3/envs/cloudspace/lib/python3.10/site-packages/langchain_core/_api/deprecation.py:139: LangChainDeprecationWarning: The method `Chain.run` was deprecated in langchain 0.1.0 and will be removed in 0.3.0. Use invoke instead.\n",
      "  warn_deprecated(\n"
     ]
    },
    {
     "data": {
      "text/plain": [
       "'ADaSci stands for the Association of Data Scientists. It is a professional community that offers memberships, accreditations, certifications, and training in the field of data science and artificial intelligence. ADaSci aims to advance AI expertise and provide global recognition for professionals in the industry.'"
      ]
     },
     "execution_count": 20,
     "metadata": {},
     "output_type": "execute_result"
    }
   ],
   "source": [
    "from langchain_openai import ChatOpenAI\n",
    "from langchain.chains import RetrievalQA\n",
    "# completion llm\n",
    "llm = ChatOpenAI(\n",
    "    model_name='gpt-3.5-turbo',\n",
    "    temperature=0.0\n",
    ")\n",
    "qa = RetrievalQA.from_chain_type(\n",
    "    llm=llm,\n",
    "    chain_type=\"stuff\",\n",
    "    retriever=vectorstore.as_retriever()\n",
    ")\n",
    "qa.run(query)"
   ]
  },
  {
   "cell_type": "code",
   "execution_count": 21,
   "id": "eab87175",
   "metadata": {},
   "outputs": [],
   "source": [
    "initial_prompt = \"You are a researcher who is going to search the web links, summarize them and share insights as asked\""
   ]
  },
  {
   "cell_type": "code",
   "execution_count": 22,
   "id": "d167da23",
   "metadata": {},
   "outputs": [
    {
     "name": "stderr",
     "output_type": "stream",
     "text": [
      "/home/zeus/miniconda3/envs/cloudspace/lib/python3.10/site-packages/langchain_core/_api/deprecation.py:139: LangChainDeprecationWarning: The method `Chain.__call__` was deprecated in langchain 0.1.0 and will be removed in 0.3.0. Use invoke instead.\n",
      "  warn_deprecated(\n"
     ]
    }
   ],
   "source": [
    "query = \"What is the primary goal of AdaSci?\"\n",
    "result = qa({\"query\": query, \"prompt\": initial_prompt})"
   ]
  },
  {
   "cell_type": "code",
   "execution_count": 23,
   "id": "d312a260",
   "metadata": {},
   "outputs": [
    {
     "name": "stdout",
     "output_type": "stream",
     "text": [
      "The primary goal of AdaSci is to advance the field of data science and artificial intelligence by providing professional certifications, training, and a community for individuals and organizations interested in these areas.\n"
     ]
    }
   ],
   "source": [
    "print(result['result'])"
   ]
  }
 ],
 "metadata": {
  "kernelspec": {
   "display_name": "Python 3 (ipykernel)",
   "language": "python",
   "name": "python3"
  },
  "language_info": {
   "codemirror_mode": {
    "name": "ipython",
    "version": 3
   },
   "file_extension": ".py",
   "mimetype": "text/x-python",
   "name": "python",
   "nbconvert_exporter": "python",
   "pygments_lexer": "ipython3",
   "version": "3.10.13"
  }
 },
 "nbformat": 4,
 "nbformat_minor": 5
}
