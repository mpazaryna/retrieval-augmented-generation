{
 "cells": [
  {
   "cell_type": "code",
   "execution_count": 1,
   "id": "0d0fd7ac",
   "metadata": {},
   "outputs": [],
   "source": [
    "from pinecone import Pinecone as PineconeClient\n",
    "from langchain_openai import ChatOpenAI\n",
    "from langchain_openai import OpenAIEmbeddings\n",
    "from langchain_community.embeddings import CohereEmbeddings\n",
    "from langchain_community.vectorstores import Pinecone\n",
    "from langchain_core.output_parsers import StrOutputParser\n",
    "from langchain_core.prompts import ChatPromptTemplate\n",
    "from langchain_core.runnables import RunnableParallel, RunnablePassthrough, RunnableLambda\n"
   ]
  },
  {
   "cell_type": "code",
   "execution_count": 2,
   "id": "039353c2",
   "metadata": {},
   "outputs": [],
   "source": [
    "import os\n",
    "PINECONE_API_KEY = os.environ[\"PINECONE_API_KEY\"]\n",
    "PINECONE_ENVIRONMENT = \"aws\"\n",
    "PINECONE_INDEX_NAME =\"build-a-product\""
   ]
  },
  {
   "cell_type": "code",
   "execution_count": 3,
   "id": "9b7e21f8",
   "metadata": {},
   "outputs": [],
   "source": [
    "pinecone = PineconeClient(api_key=PINECONE_API_KEY, environment=PINECONE_ENVIRONMENT)"
   ]
  },
  {
   "cell_type": "code",
   "execution_count": 4,
   "id": "8b34d5c4",
   "metadata": {},
   "outputs": [],
   "source": [
    "embeddings = OpenAIEmbeddings()\n",
    "vectorstore = Pinecone.from_existing_index(index_name=PINECONE_INDEX_NAME, embedding=embeddings)\n",
    "retriever = vectorstore.as_retriever()"
   ]
  },
  {
   "cell_type": "markdown",
   "id": "4aedcd9a",
   "metadata": {},
   "source": [
    "## RAG Prompt"
   ]
  },
  {
   "cell_type": "code",
   "execution_count": 5,
   "id": "47ebf60e",
   "metadata": {},
   "outputs": [],
   "source": [
    "# RAG prompt\n",
    "template = \"\"\"Answer the question based only on the following context:\n",
    "{context}\n",
    "Question: {question}\n",
    "\"\"\"\n",
    "prompt = ChatPromptTemplate.from_template(template)\n",
    "\n",
    "# RAG\n",
    "model = ChatOpenAI(temperature=0, model=\"gpt-4-1106-preview\")\n",
    "\n",
    "chain = (\n",
    "    RunnableParallel({\"context\": retriever, \"question\": RunnablePassthrough()})\n",
    "    | prompt\n",
    "    | model\n",
    "    | StrOutputParser()\n",
    ")"
   ]
  },
  {
   "cell_type": "code",
   "execution_count": 6,
   "id": "fd38f0f8",
   "metadata": {},
   "outputs": [
    {
     "data": {
      "text/plain": [
       "'Minimum viable products (MVPs) are a version of a new product that allows a team to collect the maximum amount of validated learning about customers with the least effort. The concept of an MVP is to build something small, typically a fraction of the total envisioned product, that includes just enough features to satisfy early adopters and validate a product idea early in the product development cycle. The goal is to minimize the amount of time and resources spent on developing the product before understanding whether it has a good value proposition and whether it is something that customers find valuable and are willing to use or pay for. This approach helps in testing assumptions, understanding customer needs, and providing insights to iterate and improve the product.'"
      ]
     },
     "execution_count": 6,
     "metadata": {},
     "output_type": "execute_result"
    }
   ],
   "source": [
    "chain.invoke(\"what are minimum viable products?\")"
   ]
  },
  {
   "cell_type": "code",
   "execution_count": 7,
   "id": "6a5ce2a9",
   "metadata": {},
   "outputs": [
    {
     "data": {
      "text/plain": [
       "'The \"Product Company Gap\" refers to the challenge that companies face when transitioning from having a product with market fit to scaling the business into a larger company. It involves bridging the gap between the initial product development and the broader aspects of building a successful business, such as go-to-market strategies, pricing, and business model development.\\n\\nTo solve the Product Company Gap, companies need to:\\n\\n1. Design products with go-to-market fit in mind, ensuring that products are not only well-designed but also easy to sell.\\n2. Architect a business model from day one that supports scalability, including thoughtful pricing strategies and a clear value proposition.\\n3. Focus on achieving product-market fit with a minimum viable segment, keeping the initial target market small and manageable.\\n4. Repeat successful strategies to gradually expand the market reach.\\n5. Integrate thinking about the business model and go-to-market strategies from the beginning of the product development process, rather than treating them as afterthoughts.\\n\\nBy addressing these aspects early on, companies can better position themselves to span the Product Company Gap and grow into successful, scalable businesses.'"
      ]
     },
     "execution_count": 7,
     "metadata": {},
     "output_type": "execute_result"
    }
   ],
   "source": [
    "chain.invoke(\"what is the product company gap and how can it be solved?\")"
   ]
  }
 ],
 "metadata": {
  "kernelspec": {
   "display_name": "Python 3",
   "language": "python",
   "name": "python3"
  },
  "language_info": {
   "codemirror_mode": {
    "name": "ipython",
    "version": 3
   },
   "file_extension": ".py",
   "mimetype": "text/x-python",
   "name": "python",
   "nbconvert_exporter": "python",
   "pygments_lexer": "ipython3",
   "version": "3.10.10"
  }
 },
 "nbformat": 4,
 "nbformat_minor": 5
}
