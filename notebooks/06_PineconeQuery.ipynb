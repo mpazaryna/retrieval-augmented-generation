{
 "cells": [
  {
   "cell_type": "code",
   "execution_count": 33,
   "id": "0d0fd7ac",
   "metadata": {},
   "outputs": [],
   "source": [
    "from pinecone import Pinecone as PineconeClient\n",
    "from langchain_openai import ChatOpenAI\n",
    "from langchain_openai import OpenAIEmbeddings\n",
    "from langchain_community.embeddings import CohereEmbeddings\n",
    "from langchain_community.vectorstores import Pinecone\n",
    "from langchain_core.output_parsers import StrOutputParser\n",
    "from langchain_core.prompts import ChatPromptTemplate\n",
    "from langchain_core.runnables import RunnableParallel, RunnablePassthrough, RunnableLambda\n"
   ]
  },
  {
   "cell_type": "code",
   "execution_count": 34,
   "id": "039353c2",
   "metadata": {},
   "outputs": [],
   "source": [
    "PINECONE_API_KEY = os.environ[\"PINECONE_API_KEY\"]\n",
    "PINECONE_ENVIRONMENT = \"aws\"\n",
    "PINECONE_INDEX_NAME =\"test001\""
   ]
  },
  {
   "cell_type": "code",
   "execution_count": 35,
   "id": "9b7e21f8",
   "metadata": {},
   "outputs": [],
   "source": [
    "pinecone = PineconeClient(api_key=PINECONE_API_KEY, environment=PINECONE_ENVIRONMENT)"
   ]
  },
  {
   "cell_type": "code",
   "execution_count": 36,
   "id": "8b34d5c4",
   "metadata": {},
   "outputs": [],
   "source": [
    "embeddings = OpenAIEmbeddings()\n",
    "vectorstore = Pinecone.from_existing_index(index_name=PINECONE_INDEX_NAME, embedding=embeddings)\n",
    "retriever = vectorstore.as_retriever()"
   ]
  },
  {
   "cell_type": "markdown",
   "id": "4aedcd9a",
   "metadata": {},
   "source": [
    "## RAG Prompt"
   ]
  },
  {
   "cell_type": "code",
   "execution_count": 31,
   "id": "47ebf60e",
   "metadata": {},
   "outputs": [],
   "source": [
    "# RAG prompt\n",
    "template = \"\"\"Answer the question based only on the following context:\n",
    "{context}\n",
    "Question: {question}\n",
    "\"\"\"\n",
    "prompt = ChatPromptTemplate.from_template(template)\n",
    "\n",
    "# RAG\n",
    "model = ChatOpenAI(temperature=0, model=\"gpt-4-1106-preview\")\n",
    "\n",
    "chain = (\n",
    "    RunnableParallel({\"context\": retriever, \"question\": RunnablePassthrough()})\n",
    "    | prompt\n",
    "    | model\n",
    "    | StrOutputParser()\n",
    ")"
   ]
  },
  {
   "cell_type": "code",
   "execution_count": 32,
   "id": "fd38f0f8",
   "metadata": {},
   "outputs": [
    {
     "data": {
      "text/plain": [
       "'Minimum viable products (MVPs) are versions of a new product that are built with the minimum amount of features necessary to satisfy early adopters and to validate a product concept early in the development cycle. The goal of an MVP is to test, learn, and iterate based on feedback, while minimizing the initial development costs and effort. This approach helps in understanding whether the product being built is valuable to the market and has the potential to be more valuable as it evolves. An MVP typically represents a fraction of the total vision of the final product.'"
      ]
     },
     "execution_count": 32,
     "metadata": {},
     "output_type": "execute_result"
    }
   ],
   "source": [
    "chain.invoke(\"what are minimum viable products?\")"
   ]
  },
  {
   "cell_type": "code",
   "execution_count": 20,
   "id": "6a5ce2a9",
   "metadata": {},
   "outputs": [
    {
     "data": {
      "text/plain": [
       "'The \"Product Company Gap\" mentioned in the context refers to the challenge of transitioning from a product-focused mindset to building a comprehensive business strategy that encompasses go-to-market plans, pricing, and other elements necessary for scaling a product idea into a successful company. It implies that there is a gap between having a product idea and having a fully-fledged company that can market and sell that product effectively.\\n\\nWhile the provided context does not give a detailed explanation or solution for the Product Company Gap, it suggests that addressing this gap involves designing products with a broader business perspective from the outset. This includes considering how to market the product, how to price it, and how to build a business model that can sustain and grow the company, rather than focusing solely on the product development aspect.\\n\\nTo solve the Product Company Gap, one would need to:\\n\\n1. Integrate go-to-market strategies early in the product development process.\\n2. Develop a clear pricing strategy that reflects the value provided to customers and supports the business model.\\n3. Consider all aspects of building a company, such as customer acquisition, distribution channels, sales strategies, and scaling operations, alongside product development.\\n\\nThe context also mentions a company called \"padient,\" which was a mobile payments company that failed to bridge this gap, suggesting that learning from past failures and understanding the broader business ecosystem is crucial for overcoming the Product Company Gap.'"
      ]
     },
     "execution_count": 20,
     "metadata": {},
     "output_type": "execute_result"
    }
   ],
   "source": [
    "chain.invoke(\"what is the product company gap and how can it be solved?\")"
   ]
  }
 ],
 "metadata": {
  "kernelspec": {
   "display_name": "Python 3",
   "language": "python",
   "name": "python3"
  },
  "language_info": {
   "codemirror_mode": {
    "name": "ipython",
    "version": 3
   },
   "file_extension": ".py",
   "mimetype": "text/x-python",
   "name": "python",
   "nbconvert_exporter": "python",
   "pygments_lexer": "ipython3",
   "version": "3.10.10"
  }
 },
 "nbformat": 4,
 "nbformat_minor": 5
}
