{
 "cells": [
  {
   "cell_type": "code",
   "execution_count": 1,
   "id": "0d0fd7ac",
   "metadata": {},
   "outputs": [],
   "source": [
    "from pinecone import Pinecone as PineconeClient\n",
    "from langchain_openai import ChatOpenAI\n",
    "from langchain_openai import OpenAIEmbeddings\n",
    "from langchain_community.embeddings import CohereEmbeddings\n",
    "from langchain_community.vectorstores import Pinecone\n",
    "from langchain_core.output_parsers import StrOutputParser\n",
    "from langchain_core.prompts import ChatPromptTemplate\n",
    "from langchain_core.runnables import RunnableParallel, RunnablePassthrough, RunnableLambda\n"
   ]
  },
  {
   "cell_type": "code",
   "execution_count": 3,
   "id": "039353c2",
   "metadata": {},
   "outputs": [],
   "source": [
    "import os\n",
    "PINECONE_API_KEY = os.environ[\"PINECONE_API_KEY\"]\n",
    "PINECONE_ENVIRONMENT = \"aws\"\n",
    "PINECONE_INDEX_NAME =\"build-a-product\""
   ]
  },
  {
   "cell_type": "code",
   "execution_count": 4,
   "id": "9b7e21f8",
   "metadata": {},
   "outputs": [],
   "source": [
    "pinecone = PineconeClient(api_key=PINECONE_API_KEY, environment=PINECONE_ENVIRONMENT)"
   ]
  },
  {
   "cell_type": "code",
   "execution_count": 5,
   "id": "8b34d5c4",
   "metadata": {},
   "outputs": [],
   "source": [
    "embeddings = OpenAIEmbeddings()\n",
    "vectorstore = Pinecone.from_existing_index(index_name=PINECONE_INDEX_NAME, embedding=embeddings)\n",
    "retriever = vectorstore.as_retriever()"
   ]
  },
  {
   "cell_type": "markdown",
   "id": "4aedcd9a",
   "metadata": {},
   "source": [
    "## RAG Prompt"
   ]
  },
  {
   "cell_type": "code",
   "execution_count": 6,
   "id": "47ebf60e",
   "metadata": {},
   "outputs": [],
   "source": [
    "# RAG prompt\n",
    "template = \"\"\"Answer the question based only on the following context:\n",
    "{context}\n",
    "Question: {question}\n",
    "\"\"\"\n",
    "prompt = ChatPromptTemplate.from_template(template)\n",
    "\n",
    "# RAG\n",
    "model = ChatOpenAI(temperature=0, model=\"gpt-4-1106-preview\")\n",
    "\n",
    "chain = (\n",
    "    RunnableParallel({\"context\": retriever, \"question\": RunnablePassthrough()})\n",
    "    | prompt\n",
    "    | model\n",
    "    | StrOutputParser()\n",
    ")"
   ]
  },
  {
   "cell_type": "code",
   "execution_count": 7,
   "id": "fd38f0f8",
   "metadata": {},
   "outputs": [
    {
     "data": {
      "text/plain": [
       "\"Minimum viable products (MVPs) are a version of a new product that allows a team to collect the maximum amount of validated learning about customers with the least effort. The concept of an MVP is to build something small, typically a fraction of the total envisioned product, to test and validate the core value propositions before investing significant resources. It's a way to ensure that the product being developed is valuable to the market and has the potential to grow. The MVP approach encourages starting with the essentials to satisfy early adopters and then iterating based on feedback, rather than attempting to launch with a fully-featured product. This strategy is often used in software development but can be applied to other products or services as well.\""
      ]
     },
     "execution_count": 7,
     "metadata": {},
     "output_type": "execute_result"
    }
   ],
   "source": [
    "chain.invoke(\"what are minimum viable products?\")"
   ]
  },
  {
   "cell_type": "code",
   "execution_count": 8,
   "id": "6a5ce2a9",
   "metadata": {},
   "outputs": [
    {
     "data": {
      "text/plain": [
       "'The \"Product Company Gap\" refers to the challenge of transitioning from having a product idea to building a successful company around that product. It involves considerations beyond the product itself, such as go-to-market strategies, pricing, and overall business model design that are essential for scaling up and establishing a viable business.\\n\\nTo solve the Product Company Gap, the documents suggest:\\n\\n1. Designing products with go-to-market fit in mind, meaning that products should be designed not only to meet customer needs but also to be easily sellable.\\n2. Architecting a business model from the beginning that supports scalability, which includes thoughtful pricing strategies and other elements that facilitate sales and growth.\\n3. Starting with a minimum viable segment to establish product-market fit, then expanding gradually to broader markets.\\n4. Continuously thinking about the business model from day one, rather than treating it as an afterthought, to ensure that the product is built in a way that aligns with the company\\'s long-term business goals.\\n\\nOverall, the key to bridging the Product Company Gap is to integrate product development with strategic business planning from the outset, ensuring that the product is not only desirable but also commercially viable and scalable.'"
      ]
     },
     "execution_count": 8,
     "metadata": {},
     "output_type": "execute_result"
    }
   ],
   "source": [
    "chain.invoke(\"what is the product company gap and how can it be solved?\")"
   ]
  }
 ],
 "metadata": {
  "kernelspec": {
   "display_name": "Python 3",
   "language": "python",
   "name": "python3"
  },
  "language_info": {
   "codemirror_mode": {
    "name": "ipython",
    "version": 3
   },
   "file_extension": ".py",
   "mimetype": "text/x-python",
   "name": "python",
   "nbconvert_exporter": "python",
   "pygments_lexer": "ipython3",
   "version": "3.10.10"
  }
 },
 "nbformat": 4,
 "nbformat_minor": 5
}
